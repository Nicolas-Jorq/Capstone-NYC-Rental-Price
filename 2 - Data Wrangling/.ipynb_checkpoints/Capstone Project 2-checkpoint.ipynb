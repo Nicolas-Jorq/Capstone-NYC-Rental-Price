{
 "cells": [
  {
   "cell_type": "markdown",
   "metadata": {},
   "source": [
    "# CAPSTONE TWO: DATA WRANGLING"
   ]
  },
  {
   "cell_type": "markdown",
   "metadata": {},
   "source": [
    "## RENTAL PRICES IN NYC"
   ]
  },
  {
   "cell_type": "markdown",
   "metadata": {},
   "source": [
    "**Problem Statement**\n",
    "\n",
    "- What opportunities exist to reduce one’s rent price in New York City? How do extrinsic factors affect the price of various neighborhoods?\n",
    "\n",
    "**Context**\n",
    "\n",
    "A realtor company has approached us with the opportunity to work together. They need an algorithm that can find how extrinsic factors affect the average rental prices of different neighborhoods. To do this they will test it on there newest client:  \n",
    "\n",
    "Our client is moving to NYC from Orlando and is looking for a place to live for him and his wife. He’s curious to know about what factors drive rent prices; and is looking for somewhere around $3000.  Because of the drastic changes between these two cities; there are several factor that he values: \n"
   ]
  },
  {
   "cell_type": "markdown",
   "metadata": {},
   "source": [
    "## DATA COLLECTION & ORGANIZATION - DATA SET 1\n"
   ]
  },
  {
   "cell_type": "markdown",
   "metadata": {},
   "source": [
    "### DATASET 1 - Rent Prices"
   ]
  },
  {
   "cell_type": "markdown",
   "metadata": {},
   "source": [
    "***Rent Prices for apartments in New York City***\n",
    "\n",
    "- 22 Columns, 6724 Unique Rows of Information \n"
   ]
  },
  {
   "cell_type": "code",
   "execution_count": 1,
   "metadata": {},
   "outputs": [],
   "source": [
    "import pandas as pd\n",
    "pd.options.mode.chained_assignment = None  # default='warn'\n"
   ]
  },
  {
   "cell_type": "code",
   "execution_count": 2,
   "metadata": {},
   "outputs": [],
   "source": [
    "# Importing a list of Rent Prices\n",
    "\n",
    "df = pd.read_csv (r'Rent Prices.csv')\n",
    "df.head()"
   ]
  },
  {
   "cell_type": "code",
   "execution_count": 3,
   "metadata": {},
   "outputs": [],
   "source": [
    "# Finding number of null values\n",
    "\n",
    "df.isna().sum()"
   ]
  },
  {
   "cell_type": "code",
   "execution_count": 4,
   "metadata": {},
   "outputs": [],
   "source": [
    "# Finding if currency is relevant information:\n",
    "\n",
    "df.currency.nunique()"
   ]
  },
  {
   "cell_type": "code",
   "execution_count": 5,
   "metadata": {},
   "outputs": [],
   "source": [
    "# Removing all Rent Prices that are not  from NY\n",
    "\n",
    "df = df[df['state']=='NY']"
   ]
  },
  {
   "cell_type": "code",
   "execution_count": 6,
   "metadata": {},
   "outputs": [],
   "source": [
    "# Dropping unnecessary columns, and columns plagued by null values\n",
    "\n",
    "df = df.drop(['yearBuilt','url','longitude','homeStatus', 'paymentPeriod', 'real estate provider', 'isListed', 'relaxed', 'latitude', 'commute', 'currency', 'facts and features','state','city'], axis=1)"
   ]
  },
  {
   "cell_type": "code",
   "execution_count": 7,
   "metadata": {},
   "outputs": [],
   "source": [
    "# Finding Unique Postal Codes: \n",
    "\n",
    "num_pc = df.postal_code.nunique()\n",
    "print(num_pc)"
   ]
  },
  {
   "cell_type": "code",
   "execution_count": 8,
   "metadata": {},
   "outputs": [],
   "source": [
    "# Creating a Neighborhood COLUMN: \n",
    "\n",
    "df['Neighborhood'] = pd.NaT"
   ]
  },
  {
   "cell_type": "code",
   "execution_count": 9,
   "metadata": {},
   "outputs": [],
   "source": [
    "# Convert MISSING VALUES into into '99' -> CANT CONVERT TO 0 AS IT WOULD BE INACURATE\n",
    "\n",
    "df.bathrooms = df.bathrooms.fillna(99)\n",
    "df.bedrooms = df.bedrooms.fillna(99)\n",
    "df.area = df.area.fillna(99999)"
   ]
  },
  {
   "cell_type": "code",
   "execution_count": 10,
   "metadata": {},
   "outputs": [],
   "source": [
    "# Converting all FLOAT to INTERGERS\n",
    "\n",
    "df.postal_code = df.postal_code.astype(int)\n",
    "df.bedrooms = df.bedrooms.astype(int)\n",
    "df.bathrooms = df.bathrooms.astype(int)\n",
    "df.area = df.area.astype(int)"
   ]
  },
  {
   "cell_type": "code",
   "execution_count": 11,
   "metadata": {},
   "outputs": [],
   "source": [
    "# RENAMING COLUMNS\n",
    "\n",
    "df.rename(columns={'postal_code':'Postal_Code', 'title':'Unit_Type', 'address':'Address', 'price':'Cost', 'homeType':'Home_Type', 'bedrooms':'Bedroom_Num', 'bathrooms':'Bathroom_Num', 'area':'Area_SqFt'}, inplace=True)"
   ]
  },
  {
   "cell_type": "code",
   "execution_count": 12,
   "metadata": {
    "scrolled": true
   },
   "outputs": [
    {
     "data": {
      "text/plain": [
       "array(['APARTMENT', 'SINGLE_FAMILY', 'MULTI_FAMILY', 'TOWNHOUSE', 'CONDO',\n",
       "       'LOT'], dtype=object)"
      ]
     },
     "execution_count": 12,
     "metadata": {},
     "output_type": "execute_result"
    }
   ],
   "source": [
    "df.Home_Type.unique()"
   ]
  },
  {
   "cell_type": "code",
   "execution_count": 13,
   "metadata": {},
   "outputs": [
    {
     "name": "stdout",
     "output_type": "stream",
     "text": [
      "<class 'pandas.core.frame.DataFrame'>\n",
      "Int64Index: 5431 entries, 68 to 6873\n",
      "Data columns (total 9 columns):\n",
      " #   Column        Non-Null Count  Dtype         \n",
      "---  ------        --------------  -----         \n",
      " 0   Postal_Code   5431 non-null   int32         \n",
      " 1   Unit_Type     5431 non-null   object        \n",
      " 2   Address       5431 non-null   object        \n",
      " 3   Cost          5421 non-null   object        \n",
      " 4   Home_Type     5431 non-null   object        \n",
      " 5   Bedroom_Num   5431 non-null   int32         \n",
      " 6   Bathroom_Num  5431 non-null   int32         \n",
      " 7   Area_SqFt     5431 non-null   int32         \n",
      " 8   Neighborhood  0 non-null      datetime64[ns]\n",
      "dtypes: datetime64[ns](1), int32(4), object(4)\n",
      "memory usage: 339.4+ KB\n"
     ]
    }
   ],
   "source": [
    "df.info()"
   ]
  },
  {
   "cell_type": "markdown",
   "metadata": {},
   "source": [
    "## DATA ORGANIZATION - DATA SET 2\n",
    "\n",
    "- Values with missing Neighborhoods. Most likely zip code has not been assigned a Neighborhood. Will Assess them:\n",
    "- tidy up price column. Instead of For Loops, try to join both data frames on a give key using a pandas operation merge. "
   ]
  },
  {
   "cell_type": "code",
   "execution_count": 14,
   "metadata": {},
   "outputs": [],
   "source": [
    "# Converting all Costs into Intergers and replacing missing values with 0\n",
    "\n",
    "df.Cost = df.Cost.str.replace('/mo|,','')\n",
    "df.Cost = df.Cost.str.replace('$','')\n",
    "df.Cost = df.Cost.str.replace('+','')\n",
    "df.Cost = df.Cost.fillna(0)\n",
    "df.Cost = df.Cost.astype(int)"
   ]
  },
  {
   "cell_type": "code",
   "execution_count": 15,
   "metadata": {},
   "outputs": [
    {
     "data": {
      "text/plain": [
       "array(['APARTMENT', 'SINGLE_FAMILY', 'MULTI_FAMILY', 'TOWNHOUSE', 'CONDO',\n",
       "       'LOT'], dtype=object)"
      ]
     },
     "execution_count": 15,
     "metadata": {},
     "output_type": "execute_result"
    }
   ],
   "source": [
    "# Clarifying the Home_Type Column \n",
    "df.Home_Type.unique()"
   ]
  },
  {
   "cell_type": "code",
   "execution_count": 16,
   "metadata": {},
   "outputs": [],
   "source": [
    "df.Home_Type = df.Home_Type.replace('SINGLE_FAMILY', 'HOUSE- SINGLE FAMILY')\n",
    "df.Home_Type = df.Home_Type.replace('MULTI_FAMILY', 'HOUSE- MULTI FAMILY')"
   ]
  },
  {
   "cell_type": "code",
   "execution_count": 17,
   "metadata": {},
   "outputs": [
    {
     "data": {
      "text/html": [
       "<div>\n",
       "<style scoped>\n",
       "    .dataframe tbody tr th:only-of-type {\n",
       "        vertical-align: middle;\n",
       "    }\n",
       "\n",
       "    .dataframe tbody tr th {\n",
       "        vertical-align: top;\n",
       "    }\n",
       "\n",
       "    .dataframe thead th {\n",
       "        text-align: right;\n",
       "    }\n",
       "</style>\n",
       "<table border=\"1\" class=\"dataframe\">\n",
       "  <thead>\n",
       "    <tr style=\"text-align: right;\">\n",
       "      <th></th>\n",
       "      <th>Postal_Code</th>\n",
       "      <th>Unit_Type</th>\n",
       "      <th>Address</th>\n",
       "      <th>Cost</th>\n",
       "      <th>Home_Type</th>\n",
       "      <th>Bedroom_Num</th>\n",
       "      <th>Bathroom_Num</th>\n",
       "      <th>Area_SqFt</th>\n",
       "      <th>Neighborhood</th>\n",
       "    </tr>\n",
       "  </thead>\n",
       "  <tbody>\n",
       "    <tr>\n",
       "      <th>68</th>\n",
       "      <td>11378</td>\n",
       "      <td>Apartment for rent</td>\n",
       "      <td>6155 60th Pl, Maspeth, NY 11378</td>\n",
       "      <td>2650</td>\n",
       "      <td>APARTMENT</td>\n",
       "      <td>3</td>\n",
       "      <td>1</td>\n",
       "      <td>1375</td>\n",
       "      <td>NaT</td>\n",
       "    </tr>\n",
       "    <tr>\n",
       "      <th>80</th>\n",
       "      <td>11361</td>\n",
       "      <td>House for rent</td>\n",
       "      <td>217th St, Bayside, NY 11361</td>\n",
       "      <td>1250</td>\n",
       "      <td>HOUSE- SINGLE FAMILY</td>\n",
       "      <td>0</td>\n",
       "      <td>1</td>\n",
       "      <td>550</td>\n",
       "      <td>NaT</td>\n",
       "    </tr>\n",
       "    <tr>\n",
       "      <th>87</th>\n",
       "      <td>10001</td>\n",
       "      <td>Apartment for rent</td>\n",
       "      <td>247 W 26th St APT 5B, New York, NY 10001</td>\n",
       "      <td>2500</td>\n",
       "      <td>HOUSE- MULTI FAMILY</td>\n",
       "      <td>1</td>\n",
       "      <td>1</td>\n",
       "      <td>500</td>\n",
       "      <td>NaT</td>\n",
       "    </tr>\n",
       "    <tr>\n",
       "      <th>93</th>\n",
       "      <td>10001</td>\n",
       "      <td>Apartment for rent</td>\n",
       "      <td>358 W 30th St APT 2B, New York, NY 10001</td>\n",
       "      <td>2350</td>\n",
       "      <td>HOUSE- MULTI FAMILY</td>\n",
       "      <td>0</td>\n",
       "      <td>1</td>\n",
       "      <td>99999</td>\n",
       "      <td>NaT</td>\n",
       "    </tr>\n",
       "    <tr>\n",
       "      <th>95</th>\n",
       "      <td>10001</td>\n",
       "      <td>Apartment for rent</td>\n",
       "      <td>420 W 25th St APT 7K, New York, NY 10001</td>\n",
       "      <td>5900</td>\n",
       "      <td>HOUSE- MULTI FAMILY</td>\n",
       "      <td>1</td>\n",
       "      <td>1</td>\n",
       "      <td>893</td>\n",
       "      <td>NaT</td>\n",
       "    </tr>\n",
       "  </tbody>\n",
       "</table>\n",
       "</div>"
      ],
      "text/plain": [
       "    Postal_Code           Unit_Type                                   Address  \\\n",
       "68        11378  Apartment for rent           6155 60th Pl, Maspeth, NY 11378   \n",
       "80        11361      House for rent               217th St, Bayside, NY 11361   \n",
       "87        10001  Apartment for rent  247 W 26th St APT 5B, New York, NY 10001   \n",
       "93        10001  Apartment for rent  358 W 30th St APT 2B, New York, NY 10001   \n",
       "95        10001  Apartment for rent  420 W 25th St APT 7K, New York, NY 10001   \n",
       "\n",
       "    Cost             Home_Type  Bedroom_Num  Bathroom_Num  Area_SqFt  \\\n",
       "68  2650             APARTMENT            3             1       1375   \n",
       "80  1250  HOUSE- SINGLE FAMILY            0             1        550   \n",
       "87  2500   HOUSE- MULTI FAMILY            1             1        500   \n",
       "93  2350   HOUSE- MULTI FAMILY            0             1      99999   \n",
       "95  5900   HOUSE- MULTI FAMILY            1             1        893   \n",
       "\n",
       "   Neighborhood  \n",
       "68          NaT  \n",
       "80          NaT  \n",
       "87          NaT  \n",
       "93          NaT  \n",
       "95          NaT  "
      ]
     },
     "execution_count": 17,
     "metadata": {},
     "output_type": "execute_result"
    }
   ],
   "source": [
    "df.head()"
   ]
  },
  {
   "cell_type": "code",
   "execution_count": 18,
   "metadata": {},
   "outputs": [
    {
     "data": {
      "text/plain": [
       "array(['Apartment for rent', 'House for rent', 'Townhouse for rent',\n",
       "       'Off market: Zestimate', 'Off market', 'Condo for rent',\n",
       "       'Co-op for rent'], dtype=object)"
      ]
     },
     "execution_count": 18,
     "metadata": {},
     "output_type": "execute_result"
    }
   ],
   "source": [
    "# Focusing on only lsitings that are available for rent\n",
    "\n",
    "df.Unit_Type.unique()"
   ]
  },
  {
   "cell_type": "code",
   "execution_count": 19,
   "metadata": {},
   "outputs": [],
   "source": [
    "rent = ['Apartment for rent', 'House for rent', 'Townhouse for rent', 'Condo for rent', 'Co-op for rent']\n",
    "df = df[df['Unit_Type'].isin(rent)]"
   ]
  },
  {
   "cell_type": "code",
   "execution_count": 20,
   "metadata": {},
   "outputs": [
    {
     "name": "stdout",
     "output_type": "stream",
     "text": [
      "<class 'pandas.core.frame.DataFrame'>\n",
      "Int64Index: 5323 entries, 68 to 6873\n",
      "Data columns (total 9 columns):\n",
      " #   Column        Non-Null Count  Dtype         \n",
      "---  ------        --------------  -----         \n",
      " 0   Postal_Code   5323 non-null   int32         \n",
      " 1   Unit_Type     5323 non-null   object        \n",
      " 2   Address       5323 non-null   object        \n",
      " 3   Cost          5323 non-null   int32         \n",
      " 4   Home_Type     5323 non-null   object        \n",
      " 5   Bedroom_Num   5323 non-null   int32         \n",
      " 6   Bathroom_Num  5323 non-null   int32         \n",
      " 7   Area_SqFt     5323 non-null   int32         \n",
      " 8   Neighborhood  0 non-null      datetime64[ns]\n",
      "dtypes: datetime64[ns](1), int32(5), object(3)\n",
      "memory usage: 311.9+ KB\n"
     ]
    }
   ],
   "source": [
    "df.info()"
   ]
  },
  {
   "cell_type": "markdown",
   "metadata": {},
   "source": [
    "### DATASET 2 - Neighborhood Extrinsic Factors"
   ]
  },
  {
   "cell_type": "markdown",
   "metadata": {},
   "source": [
    "***Useful for comparing how extrinsic factors can determine the apartment prices for different boroughs in New York City***\n",
    "\n",
    "33 Columns, with 55 Rows of Data\n",
    "- Columns include - Borough Name, Number of Housing Units, Average Price, Locations of Public Transportation, Diversity of Neighborhood Etc…\n",
    "- Rows Include 55 different Neighborhoods.\n"
   ]
  },
  {
   "cell_type": "code",
   "execution_count": 21,
   "metadata": {},
   "outputs": [],
   "source": [
    "import numpy as np"
   ]
  },
  {
   "cell_type": "code",
   "execution_count": 22,
   "metadata": {},
   "outputs": [
    {
     "data": {
      "text/html": [
       "<div>\n",
       "<style scoped>\n",
       "    .dataframe tbody tr th:only-of-type {\n",
       "        vertical-align: middle;\n",
       "    }\n",
       "\n",
       "    .dataframe tbody tr th {\n",
       "        vertical-align: top;\n",
       "    }\n",
       "\n",
       "    .dataframe thead th {\n",
       "        text-align: right;\n",
       "    }\n",
       "</style>\n",
       "<table border=\"1\" class=\"dataframe\">\n",
       "  <thead>\n",
       "    <tr style=\"text-align: right;\">\n",
       "      <th></th>\n",
       "      <th>sub_boro_names</th>\n",
       "      <th>boro_names</th>\n",
       "      <th>median_rent</th>\n",
       "      <th>born_in_new_york_state</th>\n",
       "      <th>car_free_commute</th>\n",
       "      <th>disabled_population</th>\n",
       "      <th>foreign_born_population</th>\n",
       "      <th>housing_units</th>\n",
       "      <th>mean_travel_time_to_work</th>\n",
       "      <th>median_income</th>\n",
       "      <th>...</th>\n",
       "      <th>new_certificates_of_occupancy</th>\n",
       "      <th>public_housing</th>\n",
       "      <th>subsidized_properties</th>\n",
       "      <th>building_age</th>\n",
       "      <th>racial_diversity_index</th>\n",
       "      <th>asian</th>\n",
       "      <th>black</th>\n",
       "      <th>hispanic</th>\n",
       "      <th>white</th>\n",
       "      <th>other_races</th>\n",
       "    </tr>\n",
       "  </thead>\n",
       "  <tbody>\n",
       "    <tr>\n",
       "      <th>0</th>\n",
       "      <td>Astoria</td>\n",
       "      <td>Queens</td>\n",
       "      <td>2125.10</td>\n",
       "      <td>0.42</td>\n",
       "      <td>0.78</td>\n",
       "      <td>0.07</td>\n",
       "      <td>0.43</td>\n",
       "      <td>80598.09</td>\n",
       "      <td>37.04</td>\n",
       "      <td>50605.87</td>\n",
       "      <td>...</td>\n",
       "      <td>387.21</td>\n",
       "      <td>7584.0</td>\n",
       "      <td>57.0</td>\n",
       "      <td>83.252933</td>\n",
       "      <td>0.66</td>\n",
       "      <td>0.136169</td>\n",
       "      <td>0.066390</td>\n",
       "      <td>0.282858</td>\n",
       "      <td>0.479226</td>\n",
       "      <td>0.035356</td>\n",
       "    </tr>\n",
       "    <tr>\n",
       "      <th>1</th>\n",
       "      <td>Bay Ridge</td>\n",
       "      <td>Brooklyn</td>\n",
       "      <td>1678.72</td>\n",
       "      <td>0.54</td>\n",
       "      <td>0.65</td>\n",
       "      <td>0.06</td>\n",
       "      <td>0.37</td>\n",
       "      <td>52526.36</td>\n",
       "      <td>42.21</td>\n",
       "      <td>50795.57</td>\n",
       "      <td>...</td>\n",
       "      <td>52.11</td>\n",
       "      <td>0.0</td>\n",
       "      <td>9.0</td>\n",
       "      <td>94.103877</td>\n",
       "      <td>0.55</td>\n",
       "      <td>0.204362</td>\n",
       "      <td>0.011565</td>\n",
       "      <td>0.144371</td>\n",
       "      <td>0.612592</td>\n",
       "      <td>0.027110</td>\n",
       "    </tr>\n",
       "    <tr>\n",
       "      <th>2</th>\n",
       "      <td>Bayside/Little Neck</td>\n",
       "      <td>Queens</td>\n",
       "      <td>1962.32</td>\n",
       "      <td>0.54</td>\n",
       "      <td>0.34</td>\n",
       "      <td>0.05</td>\n",
       "      <td>0.40</td>\n",
       "      <td>46390.44</td>\n",
       "      <td>40.51</td>\n",
       "      <td>61084.74</td>\n",
       "      <td>...</td>\n",
       "      <td>86.77</td>\n",
       "      <td>0.0</td>\n",
       "      <td>0.0</td>\n",
       "      <td>72.417602</td>\n",
       "      <td>0.61</td>\n",
       "      <td>0.362974</td>\n",
       "      <td>0.017587</td>\n",
       "      <td>0.109906</td>\n",
       "      <td>0.477049</td>\n",
       "      <td>0.032484</td>\n",
       "    </tr>\n",
       "    <tr>\n",
       "      <th>3</th>\n",
       "      <td>Bedford Stuyvesant</td>\n",
       "      <td>Brooklyn</td>\n",
       "      <td>2288.53</td>\n",
       "      <td>0.62</td>\n",
       "      <td>0.79</td>\n",
       "      <td>0.10</td>\n",
       "      <td>0.20</td>\n",
       "      <td>55195.52</td>\n",
       "      <td>41.35</td>\n",
       "      <td>30129.29</td>\n",
       "      <td>...</td>\n",
       "      <td>434.87</td>\n",
       "      <td>9988.0</td>\n",
       "      <td>626.0</td>\n",
       "      <td>102.034872</td>\n",
       "      <td>0.55</td>\n",
       "      <td>0.022872</td>\n",
       "      <td>0.603755</td>\n",
       "      <td>0.187171</td>\n",
       "      <td>0.136842</td>\n",
       "      <td>0.049359</td>\n",
       "    </tr>\n",
       "    <tr>\n",
       "      <th>4</th>\n",
       "      <td>Bensonhurst</td>\n",
       "      <td>Brooklyn</td>\n",
       "      <td>1496.61</td>\n",
       "      <td>0.42</td>\n",
       "      <td>0.69</td>\n",
       "      <td>0.06</td>\n",
       "      <td>0.53</td>\n",
       "      <td>66917.95</td>\n",
       "      <td>44.93</td>\n",
       "      <td>39280.36</td>\n",
       "      <td>...</td>\n",
       "      <td>117.70</td>\n",
       "      <td>0.0</td>\n",
       "      <td>8.0</td>\n",
       "      <td>86.888459</td>\n",
       "      <td>0.60</td>\n",
       "      <td>0.336736</td>\n",
       "      <td>0.006405</td>\n",
       "      <td>0.128093</td>\n",
       "      <td>0.503084</td>\n",
       "      <td>0.025682</td>\n",
       "    </tr>\n",
       "  </tbody>\n",
       "</table>\n",
       "<p>5 rows × 36 columns</p>\n",
       "</div>"
      ],
      "text/plain": [
       "        sub_boro_names boro_names  median_rent  born_in_new_york_state  \\\n",
       "0              Astoria     Queens      2125.10                    0.42   \n",
       "1            Bay Ridge   Brooklyn      1678.72                    0.54   \n",
       "2  Bayside/Little Neck     Queens      1962.32                    0.54   \n",
       "3   Bedford Stuyvesant   Brooklyn      2288.53                    0.62   \n",
       "4          Bensonhurst   Brooklyn      1496.61                    0.42   \n",
       "\n",
       "   car_free_commute  disabled_population  foreign_born_population  \\\n",
       "0              0.78                 0.07                     0.43   \n",
       "1              0.65                 0.06                     0.37   \n",
       "2              0.34                 0.05                     0.40   \n",
       "3              0.79                 0.10                     0.20   \n",
       "4              0.69                 0.06                     0.53   \n",
       "\n",
       "   housing_units  mean_travel_time_to_work  median_income  ...  \\\n",
       "0       80598.09                     37.04       50605.87  ...   \n",
       "1       52526.36                     42.21       50795.57  ...   \n",
       "2       46390.44                     40.51       61084.74  ...   \n",
       "3       55195.52                     41.35       30129.29  ...   \n",
       "4       66917.95                     44.93       39280.36  ...   \n",
       "\n",
       "   new_certificates_of_occupancy  public_housing  subsidized_properties  \\\n",
       "0                         387.21          7584.0                   57.0   \n",
       "1                          52.11             0.0                    9.0   \n",
       "2                          86.77             0.0                    0.0   \n",
       "3                         434.87          9988.0                  626.0   \n",
       "4                         117.70             0.0                    8.0   \n",
       "\n",
       "   building_age  racial_diversity_index     asian     black  hispanic  \\\n",
       "0     83.252933                    0.66  0.136169  0.066390  0.282858   \n",
       "1     94.103877                    0.55  0.204362  0.011565  0.144371   \n",
       "2     72.417602                    0.61  0.362974  0.017587  0.109906   \n",
       "3    102.034872                    0.55  0.022872  0.603755  0.187171   \n",
       "4     86.888459                    0.60  0.336736  0.006405  0.128093   \n",
       "\n",
       "      white  other_races  \n",
       "0  0.479226     0.035356  \n",
       "1  0.612592     0.027110  \n",
       "2  0.477049     0.032484  \n",
       "3  0.136842     0.049359  \n",
       "4  0.503084     0.025682  \n",
       "\n",
       "[5 rows x 36 columns]"
      ]
     },
     "execution_count": 22,
     "metadata": {},
     "output_type": "execute_result"
    }
   ],
   "source": [
    "df2 = pd.read_csv (r'Neighborhoods.csv')\n",
    "df2.head()"
   ]
  },
  {
   "cell_type": "markdown",
   "metadata": {},
   "source": [
    "### DIVERSITY DATASET"
   ]
  },
  {
   "cell_type": "code",
   "execution_count": 23,
   "metadata": {},
   "outputs": [
    {
     "data": {
      "text/html": [
       "<div>\n",
       "<style scoped>\n",
       "    .dataframe tbody tr th:only-of-type {\n",
       "        vertical-align: middle;\n",
       "    }\n",
       "\n",
       "    .dataframe tbody tr th {\n",
       "        vertical-align: top;\n",
       "    }\n",
       "\n",
       "    .dataframe thead th {\n",
       "        text-align: right;\n",
       "    }\n",
       "</style>\n",
       "<table border=\"1\" class=\"dataframe\">\n",
       "  <thead>\n",
       "    <tr style=\"text-align: right;\">\n",
       "      <th></th>\n",
       "      <th>racial_diversity_index</th>\n",
       "      <th>asian</th>\n",
       "      <th>black</th>\n",
       "      <th>hispanic</th>\n",
       "      <th>white</th>\n",
       "      <th>Neighborhood</th>\n",
       "    </tr>\n",
       "  </thead>\n",
       "  <tbody>\n",
       "    <tr>\n",
       "      <th>0</th>\n",
       "      <td>0.66</td>\n",
       "      <td>0.136169</td>\n",
       "      <td>0.066390</td>\n",
       "      <td>0.282858</td>\n",
       "      <td>0.479226</td>\n",
       "      <td>Astoria</td>\n",
       "    </tr>\n",
       "    <tr>\n",
       "      <th>1</th>\n",
       "      <td>0.55</td>\n",
       "      <td>0.204362</td>\n",
       "      <td>0.011565</td>\n",
       "      <td>0.144371</td>\n",
       "      <td>0.612592</td>\n",
       "      <td>Bay Ridge</td>\n",
       "    </tr>\n",
       "    <tr>\n",
       "      <th>2</th>\n",
       "      <td>0.61</td>\n",
       "      <td>0.362974</td>\n",
       "      <td>0.017587</td>\n",
       "      <td>0.109906</td>\n",
       "      <td>0.477049</td>\n",
       "      <td>Bayside/Little Neck</td>\n",
       "    </tr>\n",
       "    <tr>\n",
       "      <th>3</th>\n",
       "      <td>0.55</td>\n",
       "      <td>0.022872</td>\n",
       "      <td>0.603755</td>\n",
       "      <td>0.187171</td>\n",
       "      <td>0.136842</td>\n",
       "      <td>Bedford Stuyvesant</td>\n",
       "    </tr>\n",
       "    <tr>\n",
       "      <th>4</th>\n",
       "      <td>0.60</td>\n",
       "      <td>0.336736</td>\n",
       "      <td>0.006405</td>\n",
       "      <td>0.128093</td>\n",
       "      <td>0.503084</td>\n",
       "      <td>Bensonhurst</td>\n",
       "    </tr>\n",
       "  </tbody>\n",
       "</table>\n",
       "</div>"
      ],
      "text/plain": [
       "   racial_diversity_index     asian     black  hispanic     white  \\\n",
       "0                    0.66  0.136169  0.066390  0.282858  0.479226   \n",
       "1                    0.55  0.204362  0.011565  0.144371  0.612592   \n",
       "2                    0.61  0.362974  0.017587  0.109906  0.477049   \n",
       "3                    0.55  0.022872  0.603755  0.187171  0.136842   \n",
       "4                    0.60  0.336736  0.006405  0.128093  0.503084   \n",
       "\n",
       "          Neighborhood  \n",
       "0              Astoria  \n",
       "1            Bay Ridge  \n",
       "2  Bayside/Little Neck  \n",
       "3   Bedford Stuyvesant  \n",
       "4          Bensonhurst  "
      ]
     },
     "execution_count": 23,
     "metadata": {},
     "output_type": "execute_result"
    }
   ],
   "source": [
    "# Creating a seperate DATASET for diversity\n",
    "\n",
    "Diversity = df2.iloc[:,30:35]\n",
    "Diversity['Neighborhood'] = df2.iloc[:,0]\n",
    "\n",
    "Diversity.head()"
   ]
  },
  {
   "cell_type": "code",
   "execution_count": 24,
   "metadata": {},
   "outputs": [
    {
     "data": {
      "text/plain": [
       "5"
      ]
     },
     "execution_count": 24,
     "metadata": {},
     "output_type": "execute_result"
    }
   ],
   "source": [
    "df2.boro_names.nunique()"
   ]
  },
  {
   "cell_type": "code",
   "execution_count": 25,
   "metadata": {},
   "outputs": [],
   "source": [
    "df2 = df2.drop(['disabled_population','housing_units','rental_vacancy_rate','severe_crowding_rate', 'unemployment', 'households_with_under_18years_old', 'single_person_households', '25+_with_bachelors', '25+_no_high_school_diploma', 'public_housing', 'subsidized_properties', 'racial_diversity_index', 'asian', 'black', 'hispanic', 'white', 'other_races', 'new_residential_permits', 'new_certificates_of_occupancy'], axis=1)"
   ]
  },
  {
   "cell_type": "code",
   "execution_count": 26,
   "metadata": {},
   "outputs": [
    {
     "name": "stdout",
     "output_type": "stream",
     "text": [
      "<class 'pandas.core.frame.DataFrame'>\n",
      "RangeIndex: 55 entries, 0 to 54\n",
      "Data columns (total 17 columns):\n",
      " #   Column                    Non-Null Count  Dtype  \n",
      "---  ------                    --------------  -----  \n",
      " 0   sub_boro_names            55 non-null     object \n",
      " 1   boro_names                55 non-null     object \n",
      " 2   median_rent               55 non-null     float64\n",
      " 3   born_in_new_york_state    55 non-null     float64\n",
      " 4   car_free_commute          55 non-null     float64\n",
      " 5   foreign_born_population   55 non-null     float64\n",
      " 6   mean_travel_time_to_work  55 non-null     float64\n",
      " 7   median_income             55 non-null     float64\n",
      " 8   population                55 non-null     float64\n",
      " 9   population_density        55 non-null     float64\n",
      " 10  poverty_rate              55 non-null     float64\n",
      " 11  labor_force_rate          55 non-null     float64\n",
      " 12  income_diversity_ratio    55 non-null     float64\n",
      " 13  subway                    55 non-null     float64\n",
      " 14  park                      55 non-null     float64\n",
      " 15  crime                     55 non-null     float64\n",
      " 16  building_age              55 non-null     float64\n",
      "dtypes: float64(15), object(2)\n",
      "memory usage: 7.4+ KB\n"
     ]
    }
   ],
   "source": [
    "df2.info()"
   ]
  },
  {
   "cell_type": "markdown",
   "metadata": {},
   "source": [
    "### COMBINING BOTH DATASETS"
   ]
  },
  {
   "cell_type": "code",
   "execution_count": 27,
   "metadata": {},
   "outputs": [],
   "source": [
    "# Researching Zip Codes and assigning them a Neighborhood:\n",
    "\n",
    "Astoria = [11101, 11102, 11103, 11104, 11105, 11106]\n",
    "Bay_Ridge = [11209, 11228]\n",
    "Bayside_Little_Neck = [11360, 11361, 11364]\n",
    "Bedford_Stuyvesant = [11205, 11206, 11216, 11221, 11233]\n",
    "Bensonhurst = [11204, 11214]\n",
    "Borough_Park = [11204, 11218, 11219, 11220, 11230]\n",
    "Brooklyn_Heights_Fort_Green = [11201, 11205, 11217]\n",
    "Brownsville_Ocean_Hill = [11212, 11233]\n",
    "Bushwick = [11206, 11207, 11221, 11237]\n",
    "Central_Harlem = [10026, 10027, 10030, 10037, 10039]\n",
    "Chelsea_Clinton_Midtown = [10026, 10027, 10030, 10037, 10039, 10001, 10010, 10016, 10018, 10019, 10036]\n",
    "Coney_Island = [11224, 11235]\n",
    "East_Flatbush = [11203]\n",
    "East_Harlem = [10029, 10035]\n",
    "East_New_York = [11207, 11208, 11239]\n",
    "Elmhurst_Corona = [11369, 11370, 11371, 11368, 11373]\n",
    "Flatbush = [11226, 11210]\n",
    "Flatlands_Canarsie = [11234, 11236]\n",
    "Flushing_Whitestone = [11354, 11355, 11357, 11358, 11356, 11362, 11363, 11366, 11367, 11420, 11422, 11423]\n",
    "Greenwich_Village = [10003, 10011, 10012, 10014, 10005, 10280, 10281, 10282]\n",
    "Highbridge = [10452, 10451, 10457, 10458]\n",
    "Hillcrest = [10977, 11365]\n",
    "Jackson_eights = [11370, 11372]\n",
    "Jamaica = [11432, 11433, 11434, 11435, 11436, 11411, 11413, 11415, 11418, 11419, 11420, 11426]\n",
    "Kingsbridge_Heights_Mosholu = [10463, 10467, 10468, 10464]\n",
    "Lower_East_Side = [10002, 10006, 10004, 10007, 10013, 10038]\n",
    "Middle_Village = [11379]\n",
    "Mid_Island = [11953, 10314]\n",
    "Morningside_Heights = [10031, 10039, 10025, 10027, 10034]\n",
    "Morrisania_Belmont = [10456, 10459]\n",
    "Mott_Haven = [10451, 10454, 10455]\n",
    "North_Crown_Heights = [11217, 11238]\n",
    "North_Shore = [11706, 10301, 10302, 10303, 10304, 10305, 10310]\n",
    "Ozone_Park = [11416, 11417, 11421]\n",
    "Park_Slope = [11231, 11215, 11217]\n",
    "Pelham_Parkway = [10461, 10462]\n",
    "Queens_Village = [11427, 11428, 11429]\n",
    "Rego_Park = [11374, 11375]\n",
    "Riverdale = [10463, 10470, 10471, 10472, 10473, 10474, 10475]\n",
    "Rockaways = [11096, 11690, 11691, 11692, 11693, 11694, 11695, 11697, 11412]\n",
    "Sheepshead_Bay = [11229, 11223] \n",
    "Soundview = [10462, 10460, 10461]\n",
    "South_Crown_Heights = [11213, 11213, 11216, 11225, 11233]\n",
    "South_Ozone_Park = [11414]\n",
    "South_Shore = [10306, 10307, 10308, 10309, 10312]\n",
    "Stuyvesant_Town = [10009, 10017, 10022, 10080]\n",
    "Sunnyside_Woodside = [11101, 11104, 11377, 11378, 11385]\n",
    "Sunset_Park = [11220, 11232]\n",
    "Throgs_Neck = [10465]\n",
    "University_Heights = [10453, 10468]\n",
    "Upper_East_Side = [10021, 10028, 10065, 10075, 10128, 10044]\n",
    "Upper_West_Side = [10023, 10024, 10025, 10069]\n",
    "Washington_Heights = [10032, 10033, 10040]\n",
    "Williamsbridge = [10466, 10467, 10469]\n",
    "Williamsburg = [11206, 11211, 11249, 11222]"
   ]
  },
  {
   "cell_type": "code",
   "execution_count": 28,
   "metadata": {},
   "outputs": [],
   "source": [
    "# Converting these Zipcodes into a Dictionary the name as keys, and zipcodes as values\n",
    "\n",
    "ZipCode = {'Astoria' : Astoria, 'Bay Ridge' : Bay_Ridge, 'Bayside/Little Neck' : Bayside_Little_Neck, 'Bedford Stuyvesant' : Bedford_Stuyvesant, \n",
    "           'Bensonhurst' : Bensonhurst, 'Borough Park' : Borough_Park, 'Brooklyn Heights/Fort Greene' : Brooklyn_Heights_Fort_Green, 'Brownsville/Ocean Hill' : Brownsville_Ocean_Hill,\n",
    "           'Bushwick' : Bushwick, 'Central Harlem' : Central_Harlem, 'Chelsea/Clinton/Midtown' : Chelsea_Clinton_Midtown, 'Coney Island' : Coney_Island,\n",
    "           'East Flatbush' : East_Flatbush, 'East Harlem' : East_Harlem, 'East New York/Starrett City' : East_New_York, 'Elmhurst/Corona' : Elmhurst_Corona, \n",
    "           'Flatbush' : Flatbush, 'Flatlands/Canarsie' : Flatlands_Canarsie, 'Flushing/Whitestone' : Flushing_Whitestone, 'Greenwich Village/Financial District' : Greenwich_Village, \n",
    "           'Highbridge/South Concourse' : Highbridge, 'Hillcrest/Fresh Meadows' : Hillcrest, 'Jackson Heights' : Jackson_eights, 'Jamaica' : Jamaica,\n",
    "           'Kingsbridge Heights/Mosholu' : Kingsbridge_Heights_Mosholu, 'Lower East Side/Chinatown' : Lower_East_Side, 'Middle Village/Ridgewood' : Middle_Village,\n",
    "           'Mid-Island' : Mid_Island, 'Morningside Heights/Hamilton Heights' : Morningside_Heights, 'Morrisania/Belmont' : Morrisania_Belmont, 'Mott Haven/Hunts Point' : Mott_Haven,\n",
    "           'North Crown Heights/Prospect Heights' : North_Crown_Heights, 'North Shore' : North_Shore, 'Ozone Park/Woodhaven' : Ozone_Park, 'Park Slope/Carroll Gardens' : Park_Slope,\n",
    "           'Pelham Parkway' : Pelham_Parkway, 'Queens Village' : Queens_Village, 'Rego Park/Forest Hills' : Rego_Park, 'Riverdale/Kingsbridge' : Riverdale, 'Rockaways': Rockaways, \n",
    "           'Sheepshead Bay/Gravesend' : Sheepshead_Bay, 'Soundview/Parkchester' : Soundview, 'South Crown Heights' : South_Crown_Heights, 'South Ozone Park/Howard Beach' : South_Ozone_Park, \n",
    "           'South Shore' : South_Shore, 'Stuyvesant Town/Turtle Bay' : Stuyvesant_Town, 'Sunnyside/Woodside' : Sunnyside_Woodside, 'Sunset Park' : Sunset_Park, 'Throgs Neck/Co-op City' : Throgs_Neck,\n",
    "           'University Heights/Fordham' : University_Heights,  'Upper East Side' : Upper_East_Side, 'Upper West Side': Upper_West_Side, 'Washington Heights/Inwood' : Washington_Heights,\n",
    "           'Williamsbridge/Baychester' : Williamsbridge, 'Williamsburg/Greenpoint' : Williamsburg}\n"
   ]
  },
  {
   "cell_type": "code",
   "execution_count": 29,
   "metadata": {},
   "outputs": [],
   "source": [
    "# Adding the neighborhood to the first DataFrame:\n",
    "\n",
    "for key in ZipCode:\n",
    "    for value in ZipCode[key]:\n",
    "        for code in df.Postal_Code:\n",
    "            if code == value:\n",
    "                df.loc[df.Postal_Code == code, 'Neighborhood'] = key"
   ]
  },
  {
   "cell_type": "code",
   "execution_count": 30,
   "metadata": {},
   "outputs": [
    {
     "data": {
      "text/plain": [
       "176"
      ]
     },
     "execution_count": 30,
     "metadata": {},
     "output_type": "execute_result"
    }
   ],
   "source": [
    "# Finding how many values dont include the Neighborhood: \n",
    "\n",
    "sum(df.Neighborhood.isnull())"
   ]
  },
  {
   "cell_type": "code",
   "execution_count": 31,
   "metadata": {},
   "outputs": [
    {
     "name": "stdout",
     "output_type": "stream",
     "text": [
      "[10550 10704 11001 11004 11509 11580]\n"
     ]
    }
   ],
   "source": [
    "# Finding what Postal Codes do not have a Neighborhood: \n",
    "\n",
    "df3 = df[df.Neighborhood.isna()]\n",
    "print(df3.Postal_Code.unique())\n",
    "\n",
    "not_NY = [10550, 10704, 11001, 11004, 11509, 11580]"
   ]
  },
  {
   "cell_type": "markdown",
   "metadata": {},
   "source": [
    " - *Since the Postal Codes that are left over are not in NY, I'll remove these values*"
   ]
  },
  {
   "cell_type": "code",
   "execution_count": 32,
   "metadata": {},
   "outputs": [],
   "source": [
    "# Dropping all values that are not in the 5 Buroughs: \n",
    "\n",
    "df = df.dropna()"
   ]
  },
  {
   "cell_type": "markdown",
   "metadata": {},
   "source": [
    "## DATA DEFINTION"
   ]
  },
  {
   "cell_type": "code",
   "execution_count": 33,
   "metadata": {
    "scrolled": true
   },
   "outputs": [
    {
     "data": {
      "text/html": [
       "<div>\n",
       "<style scoped>\n",
       "    .dataframe tbody tr th:only-of-type {\n",
       "        vertical-align: middle;\n",
       "    }\n",
       "\n",
       "    .dataframe tbody tr th {\n",
       "        vertical-align: top;\n",
       "    }\n",
       "\n",
       "    .dataframe thead th {\n",
       "        text-align: right;\n",
       "    }\n",
       "</style>\n",
       "<table border=\"1\" class=\"dataframe\">\n",
       "  <thead>\n",
       "    <tr style=\"text-align: right;\">\n",
       "      <th></th>\n",
       "      <th>Postal_Code</th>\n",
       "      <th>Unit_Type</th>\n",
       "      <th>Address</th>\n",
       "      <th>Cost</th>\n",
       "      <th>Home_Type</th>\n",
       "      <th>Bedroom_Num</th>\n",
       "      <th>Bathroom_Num</th>\n",
       "      <th>Area_SqFt</th>\n",
       "      <th>Neighborhood</th>\n",
       "    </tr>\n",
       "  </thead>\n",
       "  <tbody>\n",
       "    <tr>\n",
       "      <th>68</th>\n",
       "      <td>11378</td>\n",
       "      <td>Apartment for rent</td>\n",
       "      <td>6155 60th Pl, Maspeth, NY 11378</td>\n",
       "      <td>2650</td>\n",
       "      <td>APARTMENT</td>\n",
       "      <td>3</td>\n",
       "      <td>1</td>\n",
       "      <td>1375</td>\n",
       "      <td>Sunnyside/Woodside</td>\n",
       "    </tr>\n",
       "    <tr>\n",
       "      <th>80</th>\n",
       "      <td>11361</td>\n",
       "      <td>House for rent</td>\n",
       "      <td>217th St, Bayside, NY 11361</td>\n",
       "      <td>1250</td>\n",
       "      <td>HOUSE- SINGLE FAMILY</td>\n",
       "      <td>0</td>\n",
       "      <td>1</td>\n",
       "      <td>550</td>\n",
       "      <td>Bayside/Little Neck</td>\n",
       "    </tr>\n",
       "    <tr>\n",
       "      <th>87</th>\n",
       "      <td>10001</td>\n",
       "      <td>Apartment for rent</td>\n",
       "      <td>247 W 26th St APT 5B, New York, NY 10001</td>\n",
       "      <td>2500</td>\n",
       "      <td>HOUSE- MULTI FAMILY</td>\n",
       "      <td>1</td>\n",
       "      <td>1</td>\n",
       "      <td>500</td>\n",
       "      <td>Chelsea/Clinton/Midtown</td>\n",
       "    </tr>\n",
       "    <tr>\n",
       "      <th>93</th>\n",
       "      <td>10001</td>\n",
       "      <td>Apartment for rent</td>\n",
       "      <td>358 W 30th St APT 2B, New York, NY 10001</td>\n",
       "      <td>2350</td>\n",
       "      <td>HOUSE- MULTI FAMILY</td>\n",
       "      <td>0</td>\n",
       "      <td>1</td>\n",
       "      <td>99999</td>\n",
       "      <td>Chelsea/Clinton/Midtown</td>\n",
       "    </tr>\n",
       "    <tr>\n",
       "      <th>95</th>\n",
       "      <td>10001</td>\n",
       "      <td>Apartment for rent</td>\n",
       "      <td>420 W 25th St APT 7K, New York, NY 10001</td>\n",
       "      <td>5900</td>\n",
       "      <td>HOUSE- MULTI FAMILY</td>\n",
       "      <td>1</td>\n",
       "      <td>1</td>\n",
       "      <td>893</td>\n",
       "      <td>Chelsea/Clinton/Midtown</td>\n",
       "    </tr>\n",
       "  </tbody>\n",
       "</table>\n",
       "</div>"
      ],
      "text/plain": [
       "    Postal_Code           Unit_Type                                   Address  \\\n",
       "68        11378  Apartment for rent           6155 60th Pl, Maspeth, NY 11378   \n",
       "80        11361      House for rent               217th St, Bayside, NY 11361   \n",
       "87        10001  Apartment for rent  247 W 26th St APT 5B, New York, NY 10001   \n",
       "93        10001  Apartment for rent  358 W 30th St APT 2B, New York, NY 10001   \n",
       "95        10001  Apartment for rent  420 W 25th St APT 7K, New York, NY 10001   \n",
       "\n",
       "    Cost             Home_Type  Bedroom_Num  Bathroom_Num  Area_SqFt  \\\n",
       "68  2650             APARTMENT            3             1       1375   \n",
       "80  1250  HOUSE- SINGLE FAMILY            0             1        550   \n",
       "87  2500   HOUSE- MULTI FAMILY            1             1        500   \n",
       "93  2350   HOUSE- MULTI FAMILY            0             1      99999   \n",
       "95  5900   HOUSE- MULTI FAMILY            1             1        893   \n",
       "\n",
       "               Neighborhood  \n",
       "68       Sunnyside/Woodside  \n",
       "80      Bayside/Little Neck  \n",
       "87  Chelsea/Clinton/Midtown  \n",
       "93  Chelsea/Clinton/Midtown  \n",
       "95  Chelsea/Clinton/Midtown  "
      ]
     },
     "execution_count": 33,
     "metadata": {},
     "output_type": "execute_result"
    }
   ],
   "source": [
    "Rental_Price = df\n",
    "Rental_Price.head()"
   ]
  },
  {
   "cell_type": "code",
   "execution_count": 34,
   "metadata": {},
   "outputs": [
    {
     "name": "stdout",
     "output_type": "stream",
     "text": [
      "<class 'pandas.core.frame.DataFrame'>\n",
      "Int64Index: 5147 entries, 68 to 6873\n",
      "Data columns (total 9 columns):\n",
      " #   Column        Non-Null Count  Dtype \n",
      "---  ------        --------------  ----- \n",
      " 0   Postal_Code   5147 non-null   int32 \n",
      " 1   Unit_Type     5147 non-null   object\n",
      " 2   Address       5147 non-null   object\n",
      " 3   Cost          5147 non-null   int32 \n",
      " 4   Home_Type     5147 non-null   object\n",
      " 5   Bedroom_Num   5147 non-null   int32 \n",
      " 6   Bathroom_Num  5147 non-null   int32 \n",
      " 7   Area_SqFt     5147 non-null   int32 \n",
      " 8   Neighborhood  5147 non-null   object\n",
      "dtypes: int32(5), object(4)\n",
      "memory usage: 301.6+ KB\n"
     ]
    }
   ],
   "source": [
    "Rental_Price.info()"
   ]
  },
  {
   "cell_type": "code",
   "execution_count": 35,
   "metadata": {},
   "outputs": [
    {
     "data": {
      "text/html": [
       "<div>\n",
       "<style scoped>\n",
       "    .dataframe tbody tr th:only-of-type {\n",
       "        vertical-align: middle;\n",
       "    }\n",
       "\n",
       "    .dataframe tbody tr th {\n",
       "        vertical-align: top;\n",
       "    }\n",
       "\n",
       "    .dataframe thead th {\n",
       "        text-align: right;\n",
       "    }\n",
       "</style>\n",
       "<table border=\"1\" class=\"dataframe\">\n",
       "  <thead>\n",
       "    <tr style=\"text-align: right;\">\n",
       "      <th></th>\n",
       "      <th>Cost</th>\n",
       "      <th>Bedroom_Num</th>\n",
       "      <th>Bathroom_Num</th>\n",
       "      <th>Area_SqFt</th>\n",
       "    </tr>\n",
       "    <tr>\n",
       "      <th>Neighborhood</th>\n",
       "      <th></th>\n",
       "      <th></th>\n",
       "      <th></th>\n",
       "      <th></th>\n",
       "    </tr>\n",
       "  </thead>\n",
       "  <tbody>\n",
       "    <tr>\n",
       "      <th>Brownsville/Ocean Hill</th>\n",
       "      <td>6287.176471</td>\n",
       "      <td>2.205882</td>\n",
       "      <td>6.852941</td>\n",
       "      <td>68101.205882</td>\n",
       "    </tr>\n",
       "    <tr>\n",
       "      <th>Lower East Side/Chinatown</th>\n",
       "      <td>5837.531746</td>\n",
       "      <td>1.746032</td>\n",
       "      <td>1.365079</td>\n",
       "      <td>51958.420635</td>\n",
       "    </tr>\n",
       "    <tr>\n",
       "      <th>Upper West Side</th>\n",
       "      <td>5772.740260</td>\n",
       "      <td>1.571429</td>\n",
       "      <td>1.519481</td>\n",
       "      <td>51582.233766</td>\n",
       "    </tr>\n",
       "    <tr>\n",
       "      <th>Upper East Side</th>\n",
       "      <td>4619.653595</td>\n",
       "      <td>1.287582</td>\n",
       "      <td>1.254902</td>\n",
       "      <td>67778.039216</td>\n",
       "    </tr>\n",
       "    <tr>\n",
       "      <th>Greenwich Village/Financial District</th>\n",
       "      <td>4505.314465</td>\n",
       "      <td>1.238994</td>\n",
       "      <td>1.188679</td>\n",
       "      <td>57723.289308</td>\n",
       "    </tr>\n",
       "  </tbody>\n",
       "</table>\n",
       "</div>"
      ],
      "text/plain": [
       "                                             Cost  Bedroom_Num  Bathroom_Num  \\\n",
       "Neighborhood                                                                   \n",
       "Brownsville/Ocean Hill                6287.176471     2.205882      6.852941   \n",
       "Lower East Side/Chinatown             5837.531746     1.746032      1.365079   \n",
       "Upper West Side                       5772.740260     1.571429      1.519481   \n",
       "Upper East Side                       4619.653595     1.287582      1.254902   \n",
       "Greenwich Village/Financial District  4505.314465     1.238994      1.188679   \n",
       "\n",
       "                                         Area_SqFt  \n",
       "Neighborhood                                        \n",
       "Brownsville/Ocean Hill                68101.205882  \n",
       "Lower East Side/Chinatown             51958.420635  \n",
       "Upper West Side                       51582.233766  \n",
       "Upper East Side                       67778.039216  \n",
       "Greenwich Village/Financial District  57723.289308  "
      ]
     },
     "execution_count": 35,
     "metadata": {},
     "output_type": "execute_result"
    }
   ],
   "source": [
    "df4 = Rental_Price.set_index('Neighborhood').groupby('Neighborhood').mean().sort_values(by='Cost', ascending=False)\n",
    "Neighborhood_Avg = df4.loc[:, df4.columns!='Postal_Code']\n",
    "Neighborhood_Avg.head()"
   ]
  },
  {
   "cell_type": "code",
   "execution_count": 36,
   "metadata": {},
   "outputs": [
    {
     "data": {
      "text/html": [
       "<div>\n",
       "<style scoped>\n",
       "    .dataframe tbody tr th:only-of-type {\n",
       "        vertical-align: middle;\n",
       "    }\n",
       "\n",
       "    .dataframe tbody tr th {\n",
       "        vertical-align: top;\n",
       "    }\n",
       "\n",
       "    .dataframe thead th {\n",
       "        text-align: right;\n",
       "    }\n",
       "</style>\n",
       "<table border=\"1\" class=\"dataframe\">\n",
       "  <thead>\n",
       "    <tr style=\"text-align: right;\">\n",
       "      <th></th>\n",
       "      <th>Cost</th>\n",
       "      <th>Bedroom_Num</th>\n",
       "      <th>Bathroom_Num</th>\n",
       "      <th>Area_SqFt</th>\n",
       "    </tr>\n",
       "    <tr>\n",
       "      <th>Postal_Code</th>\n",
       "      <th></th>\n",
       "      <th></th>\n",
       "      <th></th>\n",
       "      <th></th>\n",
       "    </tr>\n",
       "  </thead>\n",
       "  <tbody>\n",
       "    <tr>\n",
       "      <th>10001</th>\n",
       "      <td>4475.615385</td>\n",
       "      <td>1.153846</td>\n",
       "      <td>1.153846</td>\n",
       "      <td>54267.230769</td>\n",
       "    </tr>\n",
       "    <tr>\n",
       "      <th>10002</th>\n",
       "      <td>3598.444444</td>\n",
       "      <td>1.555556</td>\n",
       "      <td>1.111111</td>\n",
       "      <td>74263.666667</td>\n",
       "    </tr>\n",
       "    <tr>\n",
       "      <th>10003</th>\n",
       "      <td>3964.093023</td>\n",
       "      <td>1.232558</td>\n",
       "      <td>1.139535</td>\n",
       "      <td>54229.860465</td>\n",
       "    </tr>\n",
       "    <tr>\n",
       "      <th>10004</th>\n",
       "      <td>4579.166667</td>\n",
       "      <td>1.333333</td>\n",
       "      <td>1.333333</td>\n",
       "      <td>17469.333333</td>\n",
       "    </tr>\n",
       "    <tr>\n",
       "      <th>10005</th>\n",
       "      <td>4361.428571</td>\n",
       "      <td>1.428571</td>\n",
       "      <td>1.285714</td>\n",
       "      <td>29241.571429</td>\n",
       "    </tr>\n",
       "  </tbody>\n",
       "</table>\n",
       "</div>"
      ],
      "text/plain": [
       "                    Cost  Bedroom_Num  Bathroom_Num     Area_SqFt\n",
       "Postal_Code                                                      \n",
       "10001        4475.615385     1.153846      1.153846  54267.230769\n",
       "10002        3598.444444     1.555556      1.111111  74263.666667\n",
       "10003        3964.093023     1.232558      1.139535  54229.860465\n",
       "10004        4579.166667     1.333333      1.333333  17469.333333\n",
       "10005        4361.428571     1.428571      1.285714  29241.571429"
      ]
     },
     "execution_count": 36,
     "metadata": {},
     "output_type": "execute_result"
    }
   ],
   "source": [
    "ZipCode_Avg = Rental_Price.set_index('Postal_Code').groupby('Postal_Code').mean()\n",
    "ZipCode_Avg.head()"
   ]
  },
  {
   "cell_type": "code",
   "execution_count": 37,
   "metadata": {},
   "outputs": [
    {
     "data": {
      "text/html": [
       "<div>\n",
       "<style scoped>\n",
       "    .dataframe tbody tr th:only-of-type {\n",
       "        vertical-align: middle;\n",
       "    }\n",
       "\n",
       "    .dataframe tbody tr th {\n",
       "        vertical-align: top;\n",
       "    }\n",
       "\n",
       "    .dataframe thead th {\n",
       "        text-align: right;\n",
       "    }\n",
       "</style>\n",
       "<table border=\"1\" class=\"dataframe\">\n",
       "  <thead>\n",
       "    <tr style=\"text-align: right;\">\n",
       "      <th></th>\n",
       "      <th>sub_boro_names</th>\n",
       "      <th>boro_names</th>\n",
       "      <th>median_rent</th>\n",
       "      <th>born_in_new_york_state</th>\n",
       "      <th>car_free_commute</th>\n",
       "      <th>foreign_born_population</th>\n",
       "      <th>mean_travel_time_to_work</th>\n",
       "      <th>median_income</th>\n",
       "      <th>population</th>\n",
       "      <th>population_density</th>\n",
       "      <th>poverty_rate</th>\n",
       "      <th>labor_force_rate</th>\n",
       "      <th>income_diversity_ratio</th>\n",
       "      <th>subway</th>\n",
       "      <th>park</th>\n",
       "      <th>crime</th>\n",
       "      <th>building_age</th>\n",
       "    </tr>\n",
       "  </thead>\n",
       "  <tbody>\n",
       "    <tr>\n",
       "      <th>0</th>\n",
       "      <td>Astoria</td>\n",
       "      <td>Queens</td>\n",
       "      <td>2125.10</td>\n",
       "      <td>0.42</td>\n",
       "      <td>0.78</td>\n",
       "      <td>0.43</td>\n",
       "      <td>37.04</td>\n",
       "      <td>50605.87</td>\n",
       "      <td>179156.62</td>\n",
       "      <td>33.83</td>\n",
       "      <td>0.17</td>\n",
       "      <td>0.68</td>\n",
       "      <td>4.92</td>\n",
       "      <td>0.73</td>\n",
       "      <td>0.63</td>\n",
       "      <td>2.974474</td>\n",
       "      <td>83.252933</td>\n",
       "    </tr>\n",
       "    <tr>\n",
       "      <th>1</th>\n",
       "      <td>Bay Ridge</td>\n",
       "      <td>Brooklyn</td>\n",
       "      <td>1678.72</td>\n",
       "      <td>0.54</td>\n",
       "      <td>0.65</td>\n",
       "      <td>0.37</td>\n",
       "      <td>42.21</td>\n",
       "      <td>50795.57</td>\n",
       "      <td>126056.96</td>\n",
       "      <td>32.86</td>\n",
       "      <td>0.15</td>\n",
       "      <td>0.62</td>\n",
       "      <td>5.17</td>\n",
       "      <td>0.74</td>\n",
       "      <td>0.60</td>\n",
       "      <td>1.856024</td>\n",
       "      <td>94.103877</td>\n",
       "    </tr>\n",
       "    <tr>\n",
       "      <th>2</th>\n",
       "      <td>Bayside/Little Neck</td>\n",
       "      <td>Queens</td>\n",
       "      <td>1962.32</td>\n",
       "      <td>0.54</td>\n",
       "      <td>0.34</td>\n",
       "      <td>0.40</td>\n",
       "      <td>40.51</td>\n",
       "      <td>61084.74</td>\n",
       "      <td>119210.99</td>\n",
       "      <td>12.87</td>\n",
       "      <td>0.07</td>\n",
       "      <td>0.63</td>\n",
       "      <td>4.25</td>\n",
       "      <td>0.21</td>\n",
       "      <td>0.69</td>\n",
       "      <td>1.088525</td>\n",
       "      <td>72.417602</td>\n",
       "    </tr>\n",
       "    <tr>\n",
       "      <th>3</th>\n",
       "      <td>Bedford Stuyvesant</td>\n",
       "      <td>Brooklyn</td>\n",
       "      <td>2288.53</td>\n",
       "      <td>0.62</td>\n",
       "      <td>0.79</td>\n",
       "      <td>0.20</td>\n",
       "      <td>41.35</td>\n",
       "      <td>30129.29</td>\n",
       "      <td>135627.07</td>\n",
       "      <td>60.33</td>\n",
       "      <td>0.32</td>\n",
       "      <td>0.61</td>\n",
       "      <td>6.77</td>\n",
       "      <td>0.88</td>\n",
       "      <td>0.94</td>\n",
       "      <td>7.772004</td>\n",
       "      <td>102.034872</td>\n",
       "    </tr>\n",
       "    <tr>\n",
       "      <th>4</th>\n",
       "      <td>Bensonhurst</td>\n",
       "      <td>Brooklyn</td>\n",
       "      <td>1496.61</td>\n",
       "      <td>0.42</td>\n",
       "      <td>0.69</td>\n",
       "      <td>0.53</td>\n",
       "      <td>44.93</td>\n",
       "      <td>39280.36</td>\n",
       "      <td>180090.70</td>\n",
       "      <td>49.38</td>\n",
       "      <td>0.17</td>\n",
       "      <td>0.58</td>\n",
       "      <td>5.19</td>\n",
       "      <td>0.87</td>\n",
       "      <td>0.46</td>\n",
       "      <td>1.511147</td>\n",
       "      <td>86.888459</td>\n",
       "    </tr>\n",
       "  </tbody>\n",
       "</table>\n",
       "</div>"
      ],
      "text/plain": [
       "        sub_boro_names boro_names  median_rent  born_in_new_york_state  \\\n",
       "0              Astoria     Queens      2125.10                    0.42   \n",
       "1            Bay Ridge   Brooklyn      1678.72                    0.54   \n",
       "2  Bayside/Little Neck     Queens      1962.32                    0.54   \n",
       "3   Bedford Stuyvesant   Brooklyn      2288.53                    0.62   \n",
       "4          Bensonhurst   Brooklyn      1496.61                    0.42   \n",
       "\n",
       "   car_free_commute  foreign_born_population  mean_travel_time_to_work  \\\n",
       "0              0.78                     0.43                     37.04   \n",
       "1              0.65                     0.37                     42.21   \n",
       "2              0.34                     0.40                     40.51   \n",
       "3              0.79                     0.20                     41.35   \n",
       "4              0.69                     0.53                     44.93   \n",
       "\n",
       "   median_income  population  population_density  poverty_rate  \\\n",
       "0       50605.87   179156.62               33.83          0.17   \n",
       "1       50795.57   126056.96               32.86          0.15   \n",
       "2       61084.74   119210.99               12.87          0.07   \n",
       "3       30129.29   135627.07               60.33          0.32   \n",
       "4       39280.36   180090.70               49.38          0.17   \n",
       "\n",
       "   labor_force_rate  income_diversity_ratio  subway  park     crime  \\\n",
       "0              0.68                    4.92    0.73  0.63  2.974474   \n",
       "1              0.62                    5.17    0.74  0.60  1.856024   \n",
       "2              0.63                    4.25    0.21  0.69  1.088525   \n",
       "3              0.61                    6.77    0.88  0.94  7.772004   \n",
       "4              0.58                    5.19    0.87  0.46  1.511147   \n",
       "\n",
       "   building_age  \n",
       "0     83.252933  \n",
       "1     94.103877  \n",
       "2     72.417602  \n",
       "3    102.034872  \n",
       "4     86.888459  "
      ]
     },
     "execution_count": 37,
     "metadata": {},
     "output_type": "execute_result"
    }
   ],
   "source": [
    "Neighborhood = df2\n",
    "\n",
    "Neighborhood.head()"
   ]
  },
  {
   "cell_type": "markdown",
   "metadata": {},
   "source": [
    "### DEFINITION OF COLUMNS"
   ]
  },
  {
   "cell_type": "markdown",
   "metadata": {},
   "source": [
    "- ***population_density*** - The geographic area’s population divided by its land area.\n",
    "\n",
    "- ***poverty_rate*** - The number of people below the poverty threshold divided by the number of people for whom poverty status was determined.\n",
    "- ***labor_force_rate*** - The number of people aged 16 years and older who are in the civilian labor force, divided by the total number of non-institutionalized people aged 16 years and older.\n",
    "- ***income_diversity_ratio*** - The income earned by the 80th percentile household divided by the income earned by the 20th percentile household for a given geographic area, excluding all households without positive income.\n",
    "- ***subway*** - The percentage of residential units that are within a ½ mile walk of a station entrance for the New York City Subway, Long Island Rail Road, PATH, Amtrak, Metro-North Railroad, or Staten Island Railway.\n",
    "- ***park*** - The percentage of residential units that are within a ¼ mile of a park.\n",
    "- ***crime*** - The number of serious crimes, those classified as a major felony as defined by the New York City Police Department, committed in a given geographic area per 1,000 residents. At the city and borough levels, we report separate rates for serious property and violent crimes. Serious property crimes include most types of burglary, larceny, and motor vehicle theft. Serious violent crime includes most types of assault, murder (including nonnegligent manslaughter), rape, and robbery. For community district rates, we aggregating crime rates we first calculate the crime rate for each precinct. If a community district is entirely within one precinct, then that rate is directly used for the community district. If a community district contains portions of more than one precinct, we weight the crime rate from each precinct based on the share of all housing units within the community district that are in that particular precinct.\n"
   ]
  }
 ],
 "metadata": {
  "kernelspec": {
   "display_name": "Python 3",
   "language": "python",
   "name": "python3"
  },
  "language_info": {
   "codemirror_mode": {
    "name": "ipython",
    "version": 3
   },
   "file_extension": ".py",
   "mimetype": "text/x-python",
   "name": "python",
   "nbconvert_exporter": "python",
   "pygments_lexer": "ipython3",
   "version": "3.8.3"
  }
 },
 "nbformat": 4,
 "nbformat_minor": 4
}
