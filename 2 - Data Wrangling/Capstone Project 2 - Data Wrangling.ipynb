{
 "cells": [
  {
   "cell_type": "markdown",
   "metadata": {},
   "source": [
    "# CAPSTONE TWO: DATA WRANGLING"
   ]
  },
  {
   "cell_type": "markdown",
   "metadata": {},
   "source": [
    "## RENTAL PRICES IN NYC"
   ]
  },
  {
   "cell_type": "markdown",
   "metadata": {},
   "source": [
    "FILL IN LATER"
   ]
  },
  {
   "cell_type": "markdown",
   "metadata": {},
   "source": [
    "## 1A. DATA EXPLORATION - Rent Prices from Zillow\n"
   ]
  },
  {
   "cell_type": "markdown",
   "metadata": {},
   "source": [
    "### DATASET 1 - Rent Prices"
   ]
  },
  {
   "cell_type": "markdown",
   "metadata": {},
   "source": [
    "This dataset has: **Rent Prices for apartments in New York City 2020**, imported from zillow.com. The original dataset can be found on kaggle.com. [https://www.kaggle.com/sab30226/zillow-rents-2020]\n",
    "\n",
    "- It has 22 Columns and 6724 Unique Rows\n"
   ]
  },
  {
   "cell_type": "code",
   "execution_count": 1,
   "metadata": {},
   "outputs": [],
   "source": [
    "import pandas as pd\n",
    "import numpy as np\n",
    "import matplotlib.pyplot as plt\n",
    "import seaborn as sns\n",
    "pd.options.mode.chained_assignment = None  # default='warn'"
   ]
  },
  {
   "cell_type": "code",
   "execution_count": 2,
   "metadata": {},
   "outputs": [
    {
     "data": {
      "text/html": [
       "<div>\n",
       "<style scoped>\n",
       "    .dataframe tbody tr th:only-of-type {\n",
       "        vertical-align: middle;\n",
       "    }\n",
       "\n",
       "    .dataframe tbody tr th {\n",
       "        vertical-align: top;\n",
       "    }\n",
       "\n",
       "    .dataframe thead th {\n",
       "        text-align: right;\n",
       "    }\n",
       "</style>\n",
       "<table border=\"1\" class=\"dataframe\">\n",
       "  <thead>\n",
       "    <tr style=\"text-align: right;\">\n",
       "      <th></th>\n",
       "      <th>yearBuilt</th>\n",
       "      <th>url</th>\n",
       "      <th>longitude</th>\n",
       "      <th>homeStatus</th>\n",
       "      <th>real estate provider</th>\n",
       "      <th>paymentPeriod</th>\n",
       "      <th>isListed</th>\n",
       "      <th>relaxed</th>\n",
       "      <th>postal_code</th>\n",
       "      <th>title</th>\n",
       "      <th>...</th>\n",
       "      <th>currency</th>\n",
       "      <th>commute</th>\n",
       "      <th>price</th>\n",
       "      <th>latitude</th>\n",
       "      <th>city</th>\n",
       "      <th>homeType</th>\n",
       "      <th>state</th>\n",
       "      <th>bedrooms</th>\n",
       "      <th>bathrooms</th>\n",
       "      <th>area</th>\n",
       "    </tr>\n",
       "  </thead>\n",
       "  <tbody>\n",
       "    <tr>\n",
       "      <th>0</th>\n",
       "      <td>-1.0</td>\n",
       "      <td>https://www.zillow.com/homedetails/Pond-View-R...</td>\n",
       "      <td>-72.887540</td>\n",
       "      <td>FOR_RENT</td>\n",
       "      <td>NaN</td>\n",
       "      <td>NaN</td>\n",
       "      <td>NaN</td>\n",
       "      <td>False</td>\n",
       "      <td>5340.0</td>\n",
       "      <td>Apartment for rent</td>\n",
       "      <td>...</td>\n",
       "      <td>USD</td>\n",
       "      <td>NaN</td>\n",
       "      <td>$4,000/mo</td>\n",
       "      <td>43.137640</td>\n",
       "      <td>Winhall</td>\n",
       "      <td>APARTMENT</td>\n",
       "      <td>VT</td>\n",
       "      <td>4.0</td>\n",
       "      <td>4.0</td>\n",
       "      <td>2600.0</td>\n",
       "    </tr>\n",
       "    <tr>\n",
       "      <th>1</th>\n",
       "      <td>1970.0</td>\n",
       "      <td>https://www.zillow.com/homedetails/17-Stratton...</td>\n",
       "      <td>-72.896810</td>\n",
       "      <td>FOR_RENT</td>\n",
       "      <td>NaN</td>\n",
       "      <td>NaN</td>\n",
       "      <td>NaN</td>\n",
       "      <td>False</td>\n",
       "      <td>5340.0</td>\n",
       "      <td>Condo for rent</td>\n",
       "      <td>...</td>\n",
       "      <td>USD</td>\n",
       "      <td>NaN</td>\n",
       "      <td>$8,500/mo</td>\n",
       "      <td>43.135276</td>\n",
       "      <td>Winhall</td>\n",
       "      <td>CONDO</td>\n",
       "      <td>VT</td>\n",
       "      <td>3.0</td>\n",
       "      <td>2.0</td>\n",
       "      <td>1100.0</td>\n",
       "    </tr>\n",
       "    <tr>\n",
       "      <th>2</th>\n",
       "      <td>1988.0</td>\n",
       "      <td>https://www.zillow.com/homedetails/F6-Cobble-R...</td>\n",
       "      <td>-72.863105</td>\n",
       "      <td>FOR_RENT</td>\n",
       "      <td>NaN</td>\n",
       "      <td>NaN</td>\n",
       "      <td>NaN</td>\n",
       "      <td>False</td>\n",
       "      <td>5340.0</td>\n",
       "      <td>Condo for rent</td>\n",
       "      <td>...</td>\n",
       "      <td>USD</td>\n",
       "      <td>NaN</td>\n",
       "      <td>$27,000/mo</td>\n",
       "      <td>43.181144</td>\n",
       "      <td>Winhall</td>\n",
       "      <td>CONDO</td>\n",
       "      <td>VT</td>\n",
       "      <td>3.0</td>\n",
       "      <td>3.0</td>\n",
       "      <td>2420.0</td>\n",
       "    </tr>\n",
       "    <tr>\n",
       "      <th>3</th>\n",
       "      <td>1980.0</td>\n",
       "      <td>https://www.zillow.com/homedetails/12-Sap-Buck...</td>\n",
       "      <td>-72.915100</td>\n",
       "      <td>FOR_RENT</td>\n",
       "      <td>NaN</td>\n",
       "      <td>NaN</td>\n",
       "      <td>NaN</td>\n",
       "      <td>False</td>\n",
       "      <td>5340.0</td>\n",
       "      <td>House for rent</td>\n",
       "      <td>...</td>\n",
       "      <td>USD</td>\n",
       "      <td>NaN</td>\n",
       "      <td>$23,000/mo</td>\n",
       "      <td>43.159800</td>\n",
       "      <td>Winhall</td>\n",
       "      <td>SINGLE_FAMILY</td>\n",
       "      <td>VT</td>\n",
       "      <td>4.0</td>\n",
       "      <td>3.0</td>\n",
       "      <td>1950.0</td>\n",
       "    </tr>\n",
       "    <tr>\n",
       "      <th>4</th>\n",
       "      <td>NaN</td>\n",
       "      <td>https://www.zillow.com/b/84-romaine-ave-jersey...</td>\n",
       "      <td>-74.068917</td>\n",
       "      <td>NaN</td>\n",
       "      <td>NaN</td>\n",
       "      <td>NaN</td>\n",
       "      <td>NaN</td>\n",
       "      <td>False</td>\n",
       "      <td>NaN</td>\n",
       "      <td>For Rent</td>\n",
       "      <td>...</td>\n",
       "      <td>NaN</td>\n",
       "      <td>NaN</td>\n",
       "      <td>NaN</td>\n",
       "      <td>40.732659</td>\n",
       "      <td>NaN</td>\n",
       "      <td>NaN</td>\n",
       "      <td>NaN</td>\n",
       "      <td>NaN</td>\n",
       "      <td>NaN</td>\n",
       "      <td>NaN</td>\n",
       "    </tr>\n",
       "  </tbody>\n",
       "</table>\n",
       "<p>5 rows × 22 columns</p>\n",
       "</div>"
      ],
      "text/plain": [
       "   yearBuilt                                                url  longitude  \\\n",
       "0       -1.0  https://www.zillow.com/homedetails/Pond-View-R... -72.887540   \n",
       "1     1970.0  https://www.zillow.com/homedetails/17-Stratton... -72.896810   \n",
       "2     1988.0  https://www.zillow.com/homedetails/F6-Cobble-R... -72.863105   \n",
       "3     1980.0  https://www.zillow.com/homedetails/12-Sap-Buck... -72.915100   \n",
       "4        NaN  https://www.zillow.com/b/84-romaine-ave-jersey... -74.068917   \n",
       "\n",
       "  homeStatus  real estate provider  paymentPeriod  isListed  relaxed  \\\n",
       "0   FOR_RENT                   NaN            NaN       NaN    False   \n",
       "1   FOR_RENT                   NaN            NaN       NaN    False   \n",
       "2   FOR_RENT                   NaN            NaN       NaN    False   \n",
       "3   FOR_RENT                   NaN            NaN       NaN    False   \n",
       "4        NaN                   NaN            NaN       NaN    False   \n",
       "\n",
       "   postal_code               title  ... currency commute       price  \\\n",
       "0       5340.0  Apartment for rent  ...      USD     NaN   $4,000/mo   \n",
       "1       5340.0      Condo for rent  ...      USD     NaN   $8,500/mo   \n",
       "2       5340.0      Condo for rent  ...      USD     NaN  $27,000/mo   \n",
       "3       5340.0      House for rent  ...      USD     NaN  $23,000/mo   \n",
       "4          NaN            For Rent  ...      NaN     NaN         NaN   \n",
       "\n",
       "    latitude     city       homeType state bedrooms bathrooms    area  \n",
       "0  43.137640  Winhall      APARTMENT    VT      4.0       4.0  2600.0  \n",
       "1  43.135276  Winhall          CONDO    VT      3.0       2.0  1100.0  \n",
       "2  43.181144  Winhall          CONDO    VT      3.0       3.0  2420.0  \n",
       "3  43.159800  Winhall  SINGLE_FAMILY    VT      4.0       3.0  1950.0  \n",
       "4  40.732659      NaN            NaN   NaN      NaN       NaN     NaN  \n",
       "\n",
       "[5 rows x 22 columns]"
      ]
     },
     "execution_count": 2,
     "metadata": {},
     "output_type": "execute_result"
    }
   ],
   "source": [
    "# Importing Rent Prices and converting into DataFrame\n",
    "\n",
    "df = pd.read_csv (r'Rent Prices.csv')\n",
    "df.head()"
   ]
  },
  {
   "cell_type": "code",
   "execution_count": 3,
   "metadata": {
    "scrolled": true
   },
   "outputs": [
    {
     "data": {
      "text/plain": [
       "yearBuilt               1420\n",
       "url                        0\n",
       "longitude                  0\n",
       "homeStatus              1420\n",
       "real estate provider    6954\n",
       "paymentPeriod           6954\n",
       "isListed                6954\n",
       "relaxed                    0\n",
       "postal_code             1420\n",
       "title                      0\n",
       "address                    0\n",
       "facts and features         0\n",
       "currency                1420\n",
       "commute                 6954\n",
       "price                   1430\n",
       "latitude                   0\n",
       "city                    1420\n",
       "homeType                1420\n",
       "state                   1420\n",
       "bedrooms                1429\n",
       "bathrooms               1509\n",
       "area                    4022\n",
       "dtype: int64"
      ]
     },
     "execution_count": 3,
     "metadata": {},
     "output_type": "execute_result"
    }
   ],
   "source": [
    "# Finding number of null values\n",
    "\n",
    "df.isna().sum()"
   ]
  },
  {
   "cell_type": "markdown",
   "metadata": {},
   "source": [
    "Although there is alot of missing information, one that sticks out right away is the Area.We will explore the **relationship between area and rent cost later**, but we assume this to be important. \n",
    "\n",
    "Some columns we can elimate right away because there is no information in them. These columns are listed below:\n",
    "- real estate provider\n",
    "- paymentPeriod\n",
    "- isListed\n",
    "- commute\n",
    "\n",
    "The following columns can be eliminated because they do not have any information pertaining to our data.\n",
    "- relaxed\n",
    "- url"
   ]
  },
  {
   "cell_type": "code",
   "execution_count": 4,
   "metadata": {},
   "outputs": [],
   "source": [
    "# Dropping unnecessary columns, that have too much missing data.\n",
    "\n",
    "df = df.drop(['url', 'real estate provider', 'isListed', 'relaxed', 'commute', 'paymentPeriod'], axis=1)"
   ]
  },
  {
   "cell_type": "code",
   "execution_count": 5,
   "metadata": {},
   "outputs": [
    {
     "data": {
      "text/plain": [
       "1"
      ]
     },
     "execution_count": 5,
     "metadata": {},
     "output_type": "execute_result"
    }
   ],
   "source": [
    "# Finding if currency is relevant information:\n",
    "\n",
    "df.currency.nunique()"
   ]
  },
  {
   "cell_type": "markdown",
   "metadata": {},
   "source": [
    "We can remove the currency column; since it does not add anything useful, as it has one currency ($). Next we'll remove all Rent Prices that are not in New York since our client is only interisted in renting in New York."
   ]
  },
  {
   "cell_type": "code",
   "execution_count": 6,
   "metadata": {},
   "outputs": [],
   "source": [
    "# Removing all Rent Prices that are not  from NY\n",
    "\n",
    "df = df[df['state']=='NY']"
   ]
  },
  {
   "cell_type": "code",
   "execution_count": 7,
   "metadata": {},
   "outputs": [
    {
     "data": {
      "text/plain": [
       "68    3 bds, 1.0 ba ,1375 sqft\n",
       "80     0 bds, 1.0 ba ,550 sqft\n",
       "87     1 bds, 1.0 ba ,500 sqft\n",
       "93    0 bds, 1.0 ba ,None sqft\n",
       "95     1 bds, 1.0 ba ,893 sqft\n",
       "Name: facts and features, dtype: object"
      ]
     },
     "execution_count": 7,
     "metadata": {},
     "output_type": "execute_result"
    }
   ],
   "source": [
    "# Exploring the facts and features column:\n",
    "\n",
    "df['facts and features'].head()"
   ]
  },
  {
   "cell_type": "markdown",
   "metadata": {},
   "source": [
    "This column does not add anything since all these features and facts have their own column."
   ]
  },
  {
   "cell_type": "code",
   "execution_count": 8,
   "metadata": {},
   "outputs": [
    {
     "data": {
      "text/plain": [
       "array(['Maspeth', 'Bayside', 'New York', 'Manhattan', 'Staten Island',\n",
       "       'Bronx', 'Mount Vernon', 'Yonkers', 'Floral Park', 'Queens',\n",
       "       'South Floral Park', 'Glen Oaks', 'Long Island City', 'Astoria',\n",
       "       'Sunnyside', 'Brooklyn', 'Flushing', 'College Point', 'Whitestone',\n",
       "       'Auburndale', 'Little Neck', 'Douglaston', 'Oakland Gardens',\n",
       "       'Bayside Hills', 'Fresh Meadows', 'Kew Gardens Hills', 'Corona',\n",
       "       'East Elmhurst', 'East Elhurst', 'Jackson Heights', 'Elmhurst',\n",
       "       'Rego Park', 'Forest Hills', 'Woodside', 'Middle Village',\n",
       "       'Ridgewood', 'Glendale', 'Cambria Heights', 'Jamaica',\n",
       "       'Saint Albans', 'Spingfield Gardends', 'Springfield Gardens',\n",
       "       'Laurelton', 'Rosedale', 'Howard Beach', 'Kew Gardens',\n",
       "       'Ozone Park', 'Richmond Hill', 'South Richmond Hill',\n",
       "       'South Ozone Park', 'S Ozone Park', 'Woodhaven', 'Hollis',\n",
       "       'Bellerose', 'Bellerose North', 'Queens Village', 'Briarwood',\n",
       "       'Atlantic Beach', 'Valley Stream', 'Far Rockaway', 'Arverne',\n",
       "       'Rockaway Beach', 'Rockaway Park', 'Belle Harbor'], dtype=object)"
      ]
     },
     "execution_count": 8,
     "metadata": {},
     "output_type": "execute_result"
    }
   ],
   "source": [
    "df.city.unique()"
   ]
  },
  {
   "cell_type": "markdown",
   "metadata": {},
   "source": [
    "City will also not be used. By observing the unique values we can see that they range from Manhattan to New York; which are too broad for our purposes. The information does not line up with Neighborhood DataFrame we will use later, therefore we will remove this column and determine the Neighborhood by Postal Code. Neighbrohood will give us a more accurate interpretation of our data; and will hopefully lead to a more accurate algorithm."
   ]
  },
  {
   "cell_type": "code",
   "execution_count": 9,
   "metadata": {},
   "outputs": [
    {
     "data": {
      "text/plain": [
       "Index(['yearBuilt', 'longitude', 'homeStatus', 'postal_code', 'title',\n",
       "       'address', 'facts and features', 'currency', 'price', 'latitude',\n",
       "       'city', 'homeType', 'state', 'bedrooms', 'bathrooms', 'area'],\n",
       "      dtype='object')"
      ]
     },
     "execution_count": 9,
     "metadata": {},
     "output_type": "execute_result"
    }
   ],
   "source": [
    "df.columns"
   ]
  },
  {
   "cell_type": "code",
   "execution_count": 10,
   "metadata": {},
   "outputs": [
    {
     "data": {
      "text/plain": [
       "4190"
      ]
     },
     "execution_count": 10,
     "metadata": {},
     "output_type": "execute_result"
    }
   ],
   "source": [
    "len(df[df.yearBuilt == -1.0].index)"
   ]
  },
  {
   "cell_type": "markdown",
   "metadata": {},
   "source": [
    "Unfortunately, we will also have to drop year built as only one third of the data has a year built associated with it. "
   ]
  },
  {
   "cell_type": "code",
   "execution_count": 11,
   "metadata": {},
   "outputs": [],
   "source": [
    "# Dropping unnecessary columns\n",
    "\n",
    "df = df.drop(['homeStatus','currency','facts and features','state','city', 'yearBuilt'], axis=1)"
   ]
  },
  {
   "cell_type": "code",
   "execution_count": 12,
   "metadata": {},
   "outputs": [
    {
     "data": {
      "text/html": [
       "<div>\n",
       "<style scoped>\n",
       "    .dataframe tbody tr th:only-of-type {\n",
       "        vertical-align: middle;\n",
       "    }\n",
       "\n",
       "    .dataframe tbody tr th {\n",
       "        vertical-align: top;\n",
       "    }\n",
       "\n",
       "    .dataframe thead th {\n",
       "        text-align: right;\n",
       "    }\n",
       "</style>\n",
       "<table border=\"1\" class=\"dataframe\">\n",
       "  <thead>\n",
       "    <tr style=\"text-align: right;\">\n",
       "      <th></th>\n",
       "      <th>longitude</th>\n",
       "      <th>postal_code</th>\n",
       "      <th>title</th>\n",
       "      <th>address</th>\n",
       "      <th>price</th>\n",
       "      <th>latitude</th>\n",
       "      <th>homeType</th>\n",
       "      <th>bedrooms</th>\n",
       "      <th>bathrooms</th>\n",
       "      <th>area</th>\n",
       "    </tr>\n",
       "  </thead>\n",
       "  <tbody>\n",
       "    <tr>\n",
       "      <th>68</th>\n",
       "      <td>-73.905143</td>\n",
       "      <td>11378.0</td>\n",
       "      <td>Apartment for rent</td>\n",
       "      <td>6155 60th Pl, Maspeth, NY 11378</td>\n",
       "      <td>$2,650/mo</td>\n",
       "      <td>40.719532</td>\n",
       "      <td>APARTMENT</td>\n",
       "      <td>3.0</td>\n",
       "      <td>1.0</td>\n",
       "      <td>1375.0</td>\n",
       "    </tr>\n",
       "    <tr>\n",
       "      <th>80</th>\n",
       "      <td>-73.767100</td>\n",
       "      <td>11361.0</td>\n",
       "      <td>House for rent</td>\n",
       "      <td>217th St, Bayside, NY 11361</td>\n",
       "      <td>$1,250/mo</td>\n",
       "      <td>40.769070</td>\n",
       "      <td>SINGLE_FAMILY</td>\n",
       "      <td>0.0</td>\n",
       "      <td>1.0</td>\n",
       "      <td>550.0</td>\n",
       "    </tr>\n",
       "    <tr>\n",
       "      <th>87</th>\n",
       "      <td>-73.996217</td>\n",
       "      <td>10001.0</td>\n",
       "      <td>Apartment for rent</td>\n",
       "      <td>247 W 26th St APT 5B, New York, NY 10001</td>\n",
       "      <td>$2,500/mo</td>\n",
       "      <td>40.747067</td>\n",
       "      <td>MULTI_FAMILY</td>\n",
       "      <td>1.0</td>\n",
       "      <td>1.0</td>\n",
       "      <td>500.0</td>\n",
       "    </tr>\n",
       "    <tr>\n",
       "      <th>93</th>\n",
       "      <td>-73.997605</td>\n",
       "      <td>10001.0</td>\n",
       "      <td>Apartment for rent</td>\n",
       "      <td>358 W 30th St APT 2B, New York, NY 10001</td>\n",
       "      <td>$2,350/mo</td>\n",
       "      <td>40.750397</td>\n",
       "      <td>MULTI_FAMILY</td>\n",
       "      <td>0.0</td>\n",
       "      <td>1.0</td>\n",
       "      <td>NaN</td>\n",
       "    </tr>\n",
       "    <tr>\n",
       "      <th>95</th>\n",
       "      <td>-74.001715</td>\n",
       "      <td>10001.0</td>\n",
       "      <td>Apartment for rent</td>\n",
       "      <td>420 W 25th St APT 7K, New York, NY 10001</td>\n",
       "      <td>$5,900/mo</td>\n",
       "      <td>40.748087</td>\n",
       "      <td>MULTI_FAMILY</td>\n",
       "      <td>1.0</td>\n",
       "      <td>1.0</td>\n",
       "      <td>893.0</td>\n",
       "    </tr>\n",
       "  </tbody>\n",
       "</table>\n",
       "</div>"
      ],
      "text/plain": [
       "    longitude  postal_code               title  \\\n",
       "68 -73.905143      11378.0  Apartment for rent   \n",
       "80 -73.767100      11361.0      House for rent   \n",
       "87 -73.996217      10001.0  Apartment for rent   \n",
       "93 -73.997605      10001.0  Apartment for rent   \n",
       "95 -74.001715      10001.0  Apartment for rent   \n",
       "\n",
       "                                     address      price   latitude  \\\n",
       "68           6155 60th Pl, Maspeth, NY 11378  $2,650/mo  40.719532   \n",
       "80               217th St, Bayside, NY 11361  $1,250/mo  40.769070   \n",
       "87  247 W 26th St APT 5B, New York, NY 10001  $2,500/mo  40.747067   \n",
       "93  358 W 30th St APT 2B, New York, NY 10001  $2,350/mo  40.750397   \n",
       "95  420 W 25th St APT 7K, New York, NY 10001  $5,900/mo  40.748087   \n",
       "\n",
       "         homeType  bedrooms  bathrooms    area  \n",
       "68      APARTMENT       3.0        1.0  1375.0  \n",
       "80  SINGLE_FAMILY       0.0        1.0   550.0  \n",
       "87   MULTI_FAMILY       1.0        1.0   500.0  \n",
       "93   MULTI_FAMILY       0.0        1.0     NaN  \n",
       "95   MULTI_FAMILY       1.0        1.0   893.0  "
      ]
     },
     "execution_count": 12,
     "metadata": {},
     "output_type": "execute_result"
    }
   ],
   "source": [
    "# Assessing our new DataFrame\n",
    "\n",
    "df.head()"
   ]
  },
  {
   "cell_type": "code",
   "execution_count": 13,
   "metadata": {},
   "outputs": [
    {
     "name": "stdout",
     "output_type": "stream",
     "text": [
      "182\n"
     ]
    }
   ],
   "source": [
    "# Finding Unique Postal Codes: \n",
    "\n",
    "num_pc = df.postal_code.nunique()\n",
    "print(num_pc)"
   ]
  },
  {
   "cell_type": "code",
   "execution_count": 14,
   "metadata": {},
   "outputs": [],
   "source": [
    "# Creating a Neighborhood COLUMN; which will be added later: \n",
    "\n",
    "df['Neighborhood'] = pd.NaT"
   ]
  },
  {
   "cell_type": "code",
   "execution_count": 15,
   "metadata": {},
   "outputs": [],
   "source": [
    "# Converting all FLOAT to INTERGERS\n",
    "\n",
    "df.postal_code = pd.to_numeric(df.postal_code, errors='coerce')\n",
    "df.bedrooms = pd.to_numeric(df.bedrooms, errors='coerce')\n",
    "df.bathrooms = pd.to_numeric(df.bathrooms, errors='coerce')\n",
    "df.area = pd.to_numeric(df.area, errors='coerce')"
   ]
  },
  {
   "cell_type": "code",
   "execution_count": 16,
   "metadata": {},
   "outputs": [],
   "source": [
    "# RENAMING COLUMNS\n",
    "\n",
    "df.rename(columns={'postal_code':'Postal_Code', 'title':'Unit_Type', 'address':'Address', 'price':'Rent', 'homeType':'Home_Type', 'bedrooms':'Bedroom_Num', 'bathrooms':'Bathroom_Num', 'area':'Area_SqFt'}, inplace=True)"
   ]
  },
  {
   "cell_type": "code",
   "execution_count": 17,
   "metadata": {
    "scrolled": true
   },
   "outputs": [
    {
     "data": {
      "text/plain": [
       "array(['APARTMENT', 'SINGLE_FAMILY', 'MULTI_FAMILY', 'TOWNHOUSE', 'CONDO',\n",
       "       'LOT'], dtype=object)"
      ]
     },
     "execution_count": 17,
     "metadata": {},
     "output_type": "execute_result"
    }
   ],
   "source": [
    "df.Home_Type.unique()"
   ]
  },
  {
   "cell_type": "code",
   "execution_count": 18,
   "metadata": {},
   "outputs": [
    {
     "name": "stdout",
     "output_type": "stream",
     "text": [
      "<class 'pandas.core.frame.DataFrame'>\n",
      "Int64Index: 5431 entries, 68 to 6873\n",
      "Data columns (total 11 columns):\n",
      " #   Column        Non-Null Count  Dtype         \n",
      "---  ------        --------------  -----         \n",
      " 0   longitude     5431 non-null   float64       \n",
      " 1   Postal_Code   5431 non-null   float64       \n",
      " 2   Unit_Type     5431 non-null   object        \n",
      " 3   Address       5431 non-null   object        \n",
      " 4   Rent          5421 non-null   object        \n",
      " 5   latitude      5431 non-null   float64       \n",
      " 6   Home_Type     5431 non-null   object        \n",
      " 7   Bedroom_Num   5422 non-null   float64       \n",
      " 8   Bathroom_Num  5342 non-null   float64       \n",
      " 9   Area_SqFt     2849 non-null   float64       \n",
      " 10  Neighborhood  0 non-null      datetime64[ns]\n",
      "dtypes: datetime64[ns](1), float64(6), object(4)\n",
      "memory usage: 509.2+ KB\n"
     ]
    }
   ],
   "source": [
    "df.info()"
   ]
  },
  {
   "cell_type": "markdown",
   "metadata": {},
   "source": [
    "## 1B. DATA ORGANIZATION - Zillow Rent Prices"
   ]
  },
  {
   "cell_type": "code",
   "execution_count": 19,
   "metadata": {},
   "outputs": [],
   "source": [
    "# Converting all Costs into Intergers and replacing missing values with 0\n",
    "\n",
    "df.Rent = df.Rent.str.replace('/mo|,','').str.replace('$','').str.replace('+','')\n",
    "df.Rent = pd.to_numeric(df.Rent, errors='coerce')"
   ]
  },
  {
   "cell_type": "code",
   "execution_count": 20,
   "metadata": {},
   "outputs": [
    {
     "data": {
      "text/plain": [
       "array(['APARTMENT', 'SINGLE_FAMILY', 'MULTI_FAMILY', 'TOWNHOUSE', 'CONDO',\n",
       "       'LOT'], dtype=object)"
      ]
     },
     "execution_count": 20,
     "metadata": {},
     "output_type": "execute_result"
    }
   ],
   "source": [
    "# Clarifying the Home_Type Column \n",
    "\n",
    "df.Home_Type.unique()"
   ]
  },
  {
   "cell_type": "code",
   "execution_count": 21,
   "metadata": {},
   "outputs": [],
   "source": [
    "df.Home_Type = df.Home_Type.replace('SINGLE_FAMILY', 'HOUSE- SINGLE FAMILY')\n",
    "df.Home_Type = df.Home_Type.replace('MULTI_FAMILY', 'HOUSE- MULTI FAMILY')"
   ]
  },
  {
   "cell_type": "markdown",
   "metadata": {},
   "source": [
    "This will make the data easier to understand at first glance"
   ]
  },
  {
   "cell_type": "code",
   "execution_count": 22,
   "metadata": {},
   "outputs": [
    {
     "data": {
      "text/plain": [
       "array(['Apartment for rent', 'House for rent', 'Townhouse for rent',\n",
       "       'Off market: Zestimate', 'Off market', 'Condo for rent',\n",
       "       'Co-op for rent'], dtype=object)"
      ]
     },
     "execution_count": 22,
     "metadata": {},
     "output_type": "execute_result"
    }
   ],
   "source": [
    "# Focusing on only lsitings that are available for rent\n",
    "\n",
    "df.Unit_Type.unique()"
   ]
  },
  {
   "cell_type": "markdown",
   "metadata": {},
   "source": [
    "We are not interested in apartments that are off market, therefore we can remove these uneccesary bits of information"
   ]
  },
  {
   "cell_type": "code",
   "execution_count": 23,
   "metadata": {},
   "outputs": [],
   "source": [
    "rent = ['Apartment for rent', 'House for rent', 'Townhouse for rent', 'Condo for rent', 'Co-op for rent']\n",
    "df = df[df['Unit_Type'].isin(rent)]"
   ]
  },
  {
   "cell_type": "code",
   "execution_count": 24,
   "metadata": {},
   "outputs": [
    {
     "data": {
      "text/html": [
       "<div>\n",
       "<style scoped>\n",
       "    .dataframe tbody tr th:only-of-type {\n",
       "        vertical-align: middle;\n",
       "    }\n",
       "\n",
       "    .dataframe tbody tr th {\n",
       "        vertical-align: top;\n",
       "    }\n",
       "\n",
       "    .dataframe thead th {\n",
       "        text-align: right;\n",
       "    }\n",
       "</style>\n",
       "<table border=\"1\" class=\"dataframe\">\n",
       "  <thead>\n",
       "    <tr style=\"text-align: right;\">\n",
       "      <th></th>\n",
       "      <th>longitude</th>\n",
       "      <th>Postal_Code</th>\n",
       "      <th>Unit_Type</th>\n",
       "      <th>Address</th>\n",
       "      <th>Rent</th>\n",
       "      <th>latitude</th>\n",
       "      <th>Home_Type</th>\n",
       "      <th>Bedroom_Num</th>\n",
       "      <th>Bathroom_Num</th>\n",
       "      <th>Area_SqFt</th>\n",
       "      <th>Neighborhood</th>\n",
       "    </tr>\n",
       "  </thead>\n",
       "  <tbody>\n",
       "    <tr>\n",
       "      <th>68</th>\n",
       "      <td>-73.905143</td>\n",
       "      <td>11378.0</td>\n",
       "      <td>Apartment for rent</td>\n",
       "      <td>6155 60th Pl, Maspeth, NY 11378</td>\n",
       "      <td>2650.0</td>\n",
       "      <td>40.719532</td>\n",
       "      <td>APARTMENT</td>\n",
       "      <td>3.0</td>\n",
       "      <td>1.0</td>\n",
       "      <td>1375.0</td>\n",
       "      <td>NaT</td>\n",
       "    </tr>\n",
       "    <tr>\n",
       "      <th>80</th>\n",
       "      <td>-73.767100</td>\n",
       "      <td>11361.0</td>\n",
       "      <td>House for rent</td>\n",
       "      <td>217th St, Bayside, NY 11361</td>\n",
       "      <td>1250.0</td>\n",
       "      <td>40.769070</td>\n",
       "      <td>HOUSE- SINGLE FAMILY</td>\n",
       "      <td>0.0</td>\n",
       "      <td>1.0</td>\n",
       "      <td>550.0</td>\n",
       "      <td>NaT</td>\n",
       "    </tr>\n",
       "    <tr>\n",
       "      <th>87</th>\n",
       "      <td>-73.996217</td>\n",
       "      <td>10001.0</td>\n",
       "      <td>Apartment for rent</td>\n",
       "      <td>247 W 26th St APT 5B, New York, NY 10001</td>\n",
       "      <td>2500.0</td>\n",
       "      <td>40.747067</td>\n",
       "      <td>HOUSE- MULTI FAMILY</td>\n",
       "      <td>1.0</td>\n",
       "      <td>1.0</td>\n",
       "      <td>500.0</td>\n",
       "      <td>NaT</td>\n",
       "    </tr>\n",
       "    <tr>\n",
       "      <th>93</th>\n",
       "      <td>-73.997605</td>\n",
       "      <td>10001.0</td>\n",
       "      <td>Apartment for rent</td>\n",
       "      <td>358 W 30th St APT 2B, New York, NY 10001</td>\n",
       "      <td>2350.0</td>\n",
       "      <td>40.750397</td>\n",
       "      <td>HOUSE- MULTI FAMILY</td>\n",
       "      <td>0.0</td>\n",
       "      <td>1.0</td>\n",
       "      <td>NaN</td>\n",
       "      <td>NaT</td>\n",
       "    </tr>\n",
       "    <tr>\n",
       "      <th>95</th>\n",
       "      <td>-74.001715</td>\n",
       "      <td>10001.0</td>\n",
       "      <td>Apartment for rent</td>\n",
       "      <td>420 W 25th St APT 7K, New York, NY 10001</td>\n",
       "      <td>5900.0</td>\n",
       "      <td>40.748087</td>\n",
       "      <td>HOUSE- MULTI FAMILY</td>\n",
       "      <td>1.0</td>\n",
       "      <td>1.0</td>\n",
       "      <td>893.0</td>\n",
       "      <td>NaT</td>\n",
       "    </tr>\n",
       "  </tbody>\n",
       "</table>\n",
       "</div>"
      ],
      "text/plain": [
       "    longitude  Postal_Code           Unit_Type  \\\n",
       "68 -73.905143      11378.0  Apartment for rent   \n",
       "80 -73.767100      11361.0      House for rent   \n",
       "87 -73.996217      10001.0  Apartment for rent   \n",
       "93 -73.997605      10001.0  Apartment for rent   \n",
       "95 -74.001715      10001.0  Apartment for rent   \n",
       "\n",
       "                                     Address    Rent   latitude  \\\n",
       "68           6155 60th Pl, Maspeth, NY 11378  2650.0  40.719532   \n",
       "80               217th St, Bayside, NY 11361  1250.0  40.769070   \n",
       "87  247 W 26th St APT 5B, New York, NY 10001  2500.0  40.747067   \n",
       "93  358 W 30th St APT 2B, New York, NY 10001  2350.0  40.750397   \n",
       "95  420 W 25th St APT 7K, New York, NY 10001  5900.0  40.748087   \n",
       "\n",
       "               Home_Type  Bedroom_Num  Bathroom_Num  Area_SqFt Neighborhood  \n",
       "68             APARTMENT          3.0           1.0     1375.0          NaT  \n",
       "80  HOUSE- SINGLE FAMILY          0.0           1.0      550.0          NaT  \n",
       "87   HOUSE- MULTI FAMILY          1.0           1.0      500.0          NaT  \n",
       "93   HOUSE- MULTI FAMILY          0.0           1.0        NaN          NaT  \n",
       "95   HOUSE- MULTI FAMILY          1.0           1.0      893.0          NaT  "
      ]
     },
     "execution_count": 24,
     "metadata": {},
     "output_type": "execute_result"
    }
   ],
   "source": [
    "# Assesing the new dataset:\n",
    "\n",
    "df.head()"
   ]
  },
  {
   "cell_type": "markdown",
   "metadata": {},
   "source": [
    "Before we move onto the next Data Frame, lets explore the Area - Sq Ft vs Rent Prices. We are hoping to create an accurate model that predicts Rent Prices; so its important to see how influential Area Square Feet will be. "
   ]
  },
  {
   "cell_type": "code",
   "execution_count": 25,
   "metadata": {},
   "outputs": [
    {
     "data": {
      "image/png": "[encoded data removed]",
      "text/plain": [
       "<Figure size 432x288 with 1 Axes>"
      ]
     },
     "metadata": {
      "needs_background": "light"
     },
     "output_type": "display_data"
    }
   ],
   "source": [
    "_ = sns.scatterplot(data = df, x = \"Area_SqFt\", y = \"Rent\")"
   ]
  },
  {
   "cell_type": "markdown",
   "metadata": {},
   "source": [
    "Let's explore this later. There are clear outliers. When we explore these outliers we will re-analyze this relationship"
   ]
  },
  {
   "cell_type": "markdown",
   "metadata": {},
   "source": [
    "## 2A. DATA COLLECTION -  Neighborhood Extrinsic Factors"
   ]
  },
  {
   "cell_type": "markdown",
   "metadata": {},
   "source": [
    "### DATASET 2 - Neighborhood Extrinsic Factors - data from Department of Housing - NYC"
   ]
  },
  {
   "cell_type": "markdown",
   "metadata": {},
   "source": [
    "Dataset 2 will be Useful for comparing how **extrinsic factors** that can determine the apartment prices for different Neighborhoods in New York City\n",
    "\n",
    "- **33 Columns** include - Borough Name, Number of Housing Units, Average Price, Locations of Public Transportation, Diversity of Neighborhood. You can find an explanation of the columns at the end. \n",
    "- **Rows** Include the 55 different Neighborhoods.\n"
   ]
  },
  {
   "cell_type": "code",
   "execution_count": 26,
   "metadata": {},
   "outputs": [
    {
     "data": {
      "text/html": [
       "<div>\n",
       "<style scoped>\n",
       "    .dataframe tbody tr th:only-of-type {\n",
       "        vertical-align: middle;\n",
       "    }\n",
       "\n",
       "    .dataframe tbody tr th {\n",
       "        vertical-align: top;\n",
       "    }\n",
       "\n",
       "    .dataframe thead th {\n",
       "        text-align: right;\n",
       "    }\n",
       "</style>\n",
       "<table border=\"1\" class=\"dataframe\">\n",
       "  <thead>\n",
       "    <tr style=\"text-align: right;\">\n",
       "      <th></th>\n",
       "      <th>sub_boro_names</th>\n",
       "      <th>boro_names</th>\n",
       "      <th>median_rent</th>\n",
       "      <th>born_in_new_york_state</th>\n",
       "      <th>car_free_commute</th>\n",
       "      <th>disabled_population</th>\n",
       "      <th>foreign_born_population</th>\n",
       "      <th>housing_units</th>\n",
       "      <th>mean_travel_time_to_work</th>\n",
       "      <th>median_income</th>\n",
       "      <th>...</th>\n",
       "      <th>new_certificates_of_occupancy</th>\n",
       "      <th>public_housing</th>\n",
       "      <th>subsidized_properties</th>\n",
       "      <th>building_age</th>\n",
       "      <th>racial_diversity_index</th>\n",
       "      <th>asian</th>\n",
       "      <th>black</th>\n",
       "      <th>hispanic</th>\n",
       "      <th>white</th>\n",
       "      <th>other_races</th>\n",
       "    </tr>\n",
       "  </thead>\n",
       "  <tbody>\n",
       "    <tr>\n",
       "      <th>0</th>\n",
       "      <td>Astoria</td>\n",
       "      <td>Queens</td>\n",
       "      <td>2125.10</td>\n",
       "      <td>0.42</td>\n",
       "      <td>0.78</td>\n",
       "      <td>0.07</td>\n",
       "      <td>0.43</td>\n",
       "      <td>80598.09</td>\n",
       "      <td>37.04</td>\n",
       "      <td>50605.87</td>\n",
       "      <td>...</td>\n",
       "      <td>387.21</td>\n",
       "      <td>7584.0</td>\n",
       "      <td>57.0</td>\n",
       "      <td>83.252933</td>\n",
       "      <td>0.66</td>\n",
       "      <td>0.136169</td>\n",
       "      <td>0.066390</td>\n",
       "      <td>0.282858</td>\n",
       "      <td>0.479226</td>\n",
       "      <td>0.035356</td>\n",
       "    </tr>\n",
       "    <tr>\n",
       "      <th>1</th>\n",
       "      <td>Bay Ridge</td>\n",
       "      <td>Brooklyn</td>\n",
       "      <td>1678.72</td>\n",
       "      <td>0.54</td>\n",
       "      <td>0.65</td>\n",
       "      <td>0.06</td>\n",
       "      <td>0.37</td>\n",
       "      <td>52526.36</td>\n",
       "      <td>42.21</td>\n",
       "      <td>50795.57</td>\n",
       "      <td>...</td>\n",
       "      <td>52.11</td>\n",
       "      <td>0.0</td>\n",
       "      <td>9.0</td>\n",
       "      <td>94.103877</td>\n",
       "      <td>0.55</td>\n",
       "      <td>0.204362</td>\n",
       "      <td>0.011565</td>\n",
       "      <td>0.144371</td>\n",
       "      <td>0.612592</td>\n",
       "      <td>0.027110</td>\n",
       "    </tr>\n",
       "    <tr>\n",
       "      <th>2</th>\n",
       "      <td>Bayside/Little Neck</td>\n",
       "      <td>Queens</td>\n",
       "      <td>1962.32</td>\n",
       "      <td>0.54</td>\n",
       "      <td>0.34</td>\n",
       "      <td>0.05</td>\n",
       "      <td>0.40</td>\n",
       "      <td>46390.44</td>\n",
       "      <td>40.51</td>\n",
       "      <td>61084.74</td>\n",
       "      <td>...</td>\n",
       "      <td>86.77</td>\n",
       "      <td>0.0</td>\n",
       "      <td>0.0</td>\n",
       "      <td>72.417602</td>\n",
       "      <td>0.61</td>\n",
       "      <td>0.362974</td>\n",
       "      <td>0.017587</td>\n",
       "      <td>0.109906</td>\n",
       "      <td>0.477049</td>\n",
       "      <td>0.032484</td>\n",
       "    </tr>\n",
       "    <tr>\n",
       "      <th>3</th>\n",
       "      <td>Bedford Stuyvesant</td>\n",
       "      <td>Brooklyn</td>\n",
       "      <td>2288.53</td>\n",
       "      <td>0.62</td>\n",
       "      <td>0.79</td>\n",
       "      <td>0.10</td>\n",
       "      <td>0.20</td>\n",
       "      <td>55195.52</td>\n",
       "      <td>41.35</td>\n",
       "      <td>30129.29</td>\n",
       "      <td>...</td>\n",
       "      <td>434.87</td>\n",
       "      <td>9988.0</td>\n",
       "      <td>626.0</td>\n",
       "      <td>102.034872</td>\n",
       "      <td>0.55</td>\n",
       "      <td>0.022872</td>\n",
       "      <td>0.603755</td>\n",
       "      <td>0.187171</td>\n",
       "      <td>0.136842</td>\n",
       "      <td>0.049359</td>\n",
       "    </tr>\n",
       "    <tr>\n",
       "      <th>4</th>\n",
       "      <td>Bensonhurst</td>\n",
       "      <td>Brooklyn</td>\n",
       "      <td>1496.61</td>\n",
       "      <td>0.42</td>\n",
       "      <td>0.69</td>\n",
       "      <td>0.06</td>\n",
       "      <td>0.53</td>\n",
       "      <td>66917.95</td>\n",
       "      <td>44.93</td>\n",
       "      <td>39280.36</td>\n",
       "      <td>...</td>\n",
       "      <td>117.70</td>\n",
       "      <td>0.0</td>\n",
       "      <td>8.0</td>\n",
       "      <td>86.888459</td>\n",
       "      <td>0.60</td>\n",
       "      <td>0.336736</td>\n",
       "      <td>0.006405</td>\n",
       "      <td>0.128093</td>\n",
       "      <td>0.503084</td>\n",
       "      <td>0.025682</td>\n",
       "    </tr>\n",
       "  </tbody>\n",
       "</table>\n",
       "<p>5 rows × 36 columns</p>\n",
       "</div>"
      ],
      "text/plain": [
       "        sub_boro_names boro_names  median_rent  born_in_new_york_state  \\\n",
       "0              Astoria     Queens      2125.10                    0.42   \n",
       "1            Bay Ridge   Brooklyn      1678.72                    0.54   \n",
       "2  Bayside/Little Neck     Queens      1962.32                    0.54   \n",
       "3   Bedford Stuyvesant   Brooklyn      2288.53                    0.62   \n",
       "4          Bensonhurst   Brooklyn      1496.61                    0.42   \n",
       "\n",
       "   car_free_commute  disabled_population  foreign_born_population  \\\n",
       "0              0.78                 0.07                     0.43   \n",
       "1              0.65                 0.06                     0.37   \n",
       "2              0.34                 0.05                     0.40   \n",
       "3              0.79                 0.10                     0.20   \n",
       "4              0.69                 0.06                     0.53   \n",
       "\n",
       "   housing_units  mean_travel_time_to_work  median_income  ...  \\\n",
       "0       80598.09                     37.04       50605.87  ...   \n",
       "1       52526.36                     42.21       50795.57  ...   \n",
       "2       46390.44                     40.51       61084.74  ...   \n",
       "3       55195.52                     41.35       30129.29  ...   \n",
       "4       66917.95                     44.93       39280.36  ...   \n",
       "\n",
       "   new_certificates_of_occupancy  public_housing  subsidized_properties  \\\n",
       "0                         387.21          7584.0                   57.0   \n",
       "1                          52.11             0.0                    9.0   \n",
       "2                          86.77             0.0                    0.0   \n",
       "3                         434.87          9988.0                  626.0   \n",
       "4                         117.70             0.0                    8.0   \n",
       "\n",
       "   building_age  racial_diversity_index     asian     black  hispanic  \\\n",
       "0     83.252933                    0.66  0.136169  0.066390  0.282858   \n",
       "1     94.103877                    0.55  0.204362  0.011565  0.144371   \n",
       "2     72.417602                    0.61  0.362974  0.017587  0.109906   \n",
       "3    102.034872                    0.55  0.022872  0.603755  0.187171   \n",
       "4     86.888459                    0.60  0.336736  0.006405  0.128093   \n",
       "\n",
       "      white  other_races  \n",
       "0  0.479226     0.035356  \n",
       "1  0.612592     0.027110  \n",
       "2  0.477049     0.032484  \n",
       "3  0.136842     0.049359  \n",
       "4  0.503084     0.025682  \n",
       "\n",
       "[5 rows x 36 columns]"
      ]
     },
     "execution_count": 26,
     "metadata": {},
     "output_type": "execute_result"
    }
   ],
   "source": [
    "df2 = pd.read_csv (r'Neighborhoods.csv')\n",
    "df2.head()"
   ]
  },
  {
   "cell_type": "code",
   "execution_count": 27,
   "metadata": {},
   "outputs": [
    {
     "name": "stdout",
     "output_type": "stream",
     "text": [
      "<class 'pandas.core.frame.DataFrame'>\n",
      "RangeIndex: 55 entries, 0 to 54\n",
      "Data columns (total 36 columns):\n",
      " #   Column                             Non-Null Count  Dtype  \n",
      "---  ------                             --------------  -----  \n",
      " 0   sub_boro_names                     55 non-null     object \n",
      " 1   boro_names                         55 non-null     object \n",
      " 2   median_rent                        55 non-null     float64\n",
      " 3   born_in_new_york_state             55 non-null     float64\n",
      " 4   car_free_commute                   55 non-null     float64\n",
      " 5   disabled_population                55 non-null     float64\n",
      " 6   foreign_born_population            55 non-null     float64\n",
      " 7   housing_units                      55 non-null     float64\n",
      " 8   mean_travel_time_to_work           55 non-null     float64\n",
      " 9   median_income                      55 non-null     float64\n",
      " 10  population                         55 non-null     float64\n",
      " 11  population_density                 55 non-null     float64\n",
      " 12  poverty_rate                       55 non-null     float64\n",
      " 13  rental_vacancy_rate                55 non-null     float64\n",
      " 14  severe_crowding_rate               55 non-null     float64\n",
      " 15  unemployment                       55 non-null     float64\n",
      " 16  labor_force_rate                   55 non-null     float64\n",
      " 17  households_with_under_18years_old  55 non-null     float64\n",
      " 18  single_person_households           55 non-null     float64\n",
      " 19  income_diversity_ratio             55 non-null     float64\n",
      " 20  25+_with_bachelors                 55 non-null     float64\n",
      " 21  25+_no_high_school_diploma         55 non-null     float64\n",
      " 22  subway                             55 non-null     float64\n",
      " 23  park                               55 non-null     float64\n",
      " 24  crime                              55 non-null     float64\n",
      " 25  new_residential_permits            55 non-null     float64\n",
      " 26  new_certificates_of_occupancy      55 non-null     float64\n",
      " 27  public_housing                     55 non-null     float64\n",
      " 28  subsidized_properties              55 non-null     float64\n",
      " 29  building_age                       55 non-null     float64\n",
      " 30  racial_diversity_index             55 non-null     float64\n",
      " 31  asian                              55 non-null     float64\n",
      " 32  black                              55 non-null     float64\n",
      " 33  hispanic                           55 non-null     float64\n",
      " 34  white                              55 non-null     float64\n",
      " 35  other_races                        55 non-null     float64\n",
      "dtypes: float64(34), object(2)\n",
      "memory usage: 15.6+ KB\n"
     ]
    }
   ],
   "source": [
    "df2.info()"
   ]
  },
  {
   "cell_type": "markdown",
   "metadata": {},
   "source": [
    "Luckily DataSet 2 was alot cleaner than DataSet 1; which meant not alot of Data Wrangling was necessary. Now the next step will be to combine both datasets."
   ]
  },
  {
   "cell_type": "markdown",
   "metadata": {},
   "source": [
    "#### DEFINITION OF COLUMNS"
   ]
  },
  {
   "cell_type": "markdown",
   "metadata": {},
   "source": [
    "- ***population_density*** - The geographic area’s population divided by its land area.\n",
    "\n",
    "- ***poverty_rate*** - The number of people below the poverty threshold divided by the number of people for whom poverty status was determined.\n",
    "\n",
    "- ***labor_force_rate*** - The number of people aged 16 years and older who are in the civilian labor force, divided by the total number of non-institutionalized people aged 16 years and older.\n",
    "\n",
    "- ***income_diversity_ratio*** - The income earned by the 80th percentile household divided by the income earned by the 20th percentile household for a given geographic area, excluding all households without positive income.\n",
    "\n",
    "- ***subway*** - The percentage of residential units that are within a ½ mile walk of a station entrance for the New York City Subway, Long Island Rail Road, PATH, Amtrak, Metro-North Railroad, or Staten Island Railway.\n",
    "\n",
    "- ***park*** - The percentage of residential units that are within a ¼ mile of a park.\n",
    "\n",
    "- ***crime*** - The number of serious crimes, those classified as a major felony as defined by the New York City Police Department, committed in a given geographic area per 1,000 residents. At the city and borough levels, we report separate rates for serious property and violent crimes. Serious property crimes include most types of burglary, larceny, and motor vehicle theft. Serious violent crime includes most types of assault, murder (including nonnegligent manslaughter), rape, and robbery. For community district rates, we aggregating crime rates we first calculate the crime rate for each precinct. If a community district is entirely within one precinct, then that rate is directly used for the community district. If a community district contains portions of more than one precinct, we weight the crime rate from each precinct based on the share of all housing units within the community district that are in that particular precinct."
   ]
  },
  {
   "cell_type": "markdown",
   "metadata": {},
   "source": [
    "### DATASET - merging Zillow Rent Prices with NYC Housing Extrinsic Factors"
   ]
  },
  {
   "cell_type": "markdown",
   "metadata": {},
   "source": [
    "Below is the categorization of all Zip Codes their pertaining Neighborhood"
   ]
  },
  {
   "cell_type": "code",
   "execution_count": 28,
   "metadata": {},
   "outputs": [],
   "source": [
    "# Researching Zip Codes and assigning them a Neighborhood:\n",
    "\n",
    "Astoria = [11101, 11102, 11103, 11104, 11105, 11106]\n",
    "Bay_Ridge = [11209, 11228]\n",
    "Bayside_Little_Neck = [11360, 11361, 11364]\n",
    "Bedford_Stuyvesant = [11205, 11206, 11216, 11221, 11233]\n",
    "Bensonhurst = [11204, 11214]\n",
    "Borough_Park = [11204, 11218, 11219, 11220, 11230]\n",
    "Brooklyn_Heights_Fort_Green = [11201, 11205, 11217]\n",
    "Brownsville_Ocean_Hill = [11212, 11233]\n",
    "Bushwick = [11206, 11207, 11221, 11237]\n",
    "Central_Harlem = [10026, 10027, 10030, 10037, 10039]\n",
    "Chelsea_Clinton_Midtown = [10026, 10027, 10030, 10037, 10039, 10001, 10010, 10016, 10018, 10019, 10036]\n",
    "Coney_Island = [11224, 11235]\n",
    "East_Flatbush = [11203]\n",
    "East_Harlem = [10029, 10035]\n",
    "East_New_York = [11207, 11208, 11239]\n",
    "Elmhurst_Corona = [11369, 11370, 11371, 11368, 11373]\n",
    "Flatbush = [11226, 11210]\n",
    "Flatlands_Canarsie = [11234, 11236]\n",
    "Flushing_Whitestone = [11354, 11355, 11357, 11358, 11356, 11362, 11363, 11366, 11367, 11420, 11422, 11423]\n",
    "Greenwich_Village = [10003, 10011, 10012, 10014, 10005, 10280, 10281, 10282]\n",
    "Highbridge = [10452, 10451, 10457, 10458]\n",
    "Hillcrest = [10977, 11365]\n",
    "Jackson_eights = [11370, 11372]\n",
    "Jamaica = [11432, 11433, 11434, 11435, 11436, 11411, 11413, 11415, 11418, 11419, 11420, 11426]\n",
    "Kingsbridge_Heights_Mosholu = [10463, 10467, 10468, 10464]\n",
    "Lower_East_Side = [10002, 10006, 10004, 10007, 10013, 10038]\n",
    "Middle_Village = [11379]\n",
    "Mid_Island = [11953, 10314]\n",
    "Morningside_Heights = [10031, 10039, 10025, 10027, 10034]\n",
    "Morrisania_Belmont = [10456, 10459]\n",
    "Mott_Haven = [10451, 10454, 10455]\n",
    "North_Crown_Heights = [11217, 11238]\n",
    "North_Shore = [11706, 10301, 10302, 10303, 10304, 10305, 10310]\n",
    "Ozone_Park = [11416, 11417, 11421]\n",
    "Park_Slope = [11231, 11215, 11217]\n",
    "Pelham_Parkway = [10461, 10462]\n",
    "Queens_Village = [11427, 11428, 11429]\n",
    "Rego_Park = [11374, 11375]\n",
    "Riverdale = [10463, 10470, 10471, 10472, 10473, 10474, 10475]\n",
    "Rockaways = [11096, 11690, 11691, 11692, 11693, 11694, 11695, 11697, 11412]\n",
    "Sheepshead_Bay = [11229, 11223] \n",
    "Soundview = [10462, 10460, 10461]\n",
    "South_Crown_Heights = [11213, 11213, 11216, 11225, 11233]\n",
    "South_Ozone_Park = [11414]\n",
    "South_Shore = [10306, 10307, 10308, 10309, 10312]\n",
    "Stuyvesant_Town = [10009, 10017, 10022, 10080]\n",
    "Sunnyside_Woodside = [11101, 11104, 11377, 11378, 11385]\n",
    "Sunset_Park = [11220, 11232]\n",
    "Throgs_Neck = [10465]\n",
    "University_Heights = [10453, 10468]\n",
    "Upper_East_Side = [10021, 10028, 10065, 10075, 10128, 10044]\n",
    "Upper_West_Side = [10023, 10024, 10025, 10069]\n",
    "Washington_Heights = [10032, 10033, 10040]\n",
    "Williamsbridge = [10466, 10467, 10469]\n",
    "Williamsburg = [11206, 11211, 11249, 11222]"
   ]
  },
  {
   "cell_type": "code",
   "execution_count": 29,
   "metadata": {},
   "outputs": [],
   "source": [
    "# Converting these Zipcodes into a Dictionary the name as keys, and zipcodes as values\n",
    "\n",
    "ZipCode = {'Astoria' : Astoria, 'Bay Ridge' : Bay_Ridge, 'Bayside/Little Neck' : Bayside_Little_Neck, 'Bedford Stuyvesant' : Bedford_Stuyvesant, \n",
    "           'Bensonhurst' : Bensonhurst, 'Borough Park' : Borough_Park, 'Brooklyn Heights/Fort Greene' : Brooklyn_Heights_Fort_Green, 'Brownsville/Ocean Hill' : Brownsville_Ocean_Hill,\n",
    "           'Bushwick' : Bushwick, 'Central Harlem' : Central_Harlem, 'Chelsea/Clinton/Midtown' : Chelsea_Clinton_Midtown, 'Coney Island' : Coney_Island,\n",
    "           'East Flatbush' : East_Flatbush, 'East Harlem' : East_Harlem, 'East New York/Starrett City' : East_New_York, 'Elmhurst/Corona' : Elmhurst_Corona, \n",
    "           'Flatbush' : Flatbush, 'Flatlands/Canarsie' : Flatlands_Canarsie, 'Flushing/Whitestone' : Flushing_Whitestone, 'Greenwich Village/Financial District' : Greenwich_Village, \n",
    "           'Highbridge/South Concourse' : Highbridge, 'Hillcrest/Fresh Meadows' : Hillcrest, 'Jackson Heights' : Jackson_eights, 'Jamaica' : Jamaica,\n",
    "           'Kingsbridge Heights/Mosholu' : Kingsbridge_Heights_Mosholu, 'Lower East Side/Chinatown' : Lower_East_Side, 'Middle Village/Ridgewood' : Middle_Village,\n",
    "           'Mid-Island' : Mid_Island, 'Morningside Heights/Hamilton Heights' : Morningside_Heights, 'Morrisania/Belmont' : Morrisania_Belmont, 'Mott Haven/Hunts Point' : Mott_Haven,\n",
    "           'North Crown Heights/Prospect Heights' : North_Crown_Heights, 'North Shore' : North_Shore, 'Ozone Park/Woodhaven' : Ozone_Park, 'Park Slope/Carroll Gardens' : Park_Slope,\n",
    "           'Pelham Parkway' : Pelham_Parkway, 'Queens Village' : Queens_Village, 'Rego Park/Forest Hills' : Rego_Park, 'Riverdale/Kingsbridge' : Riverdale, 'Rockaways': Rockaways, \n",
    "           'Sheepshead Bay/Gravesend' : Sheepshead_Bay, 'Soundview/Parkchester' : Soundview, 'South Crown Heights' : South_Crown_Heights, 'South Ozone Park/Howard Beach' : South_Ozone_Park, \n",
    "           'South Shore' : South_Shore, 'Stuyvesant Town/Turtle Bay' : Stuyvesant_Town, 'Sunnyside/Woodside' : Sunnyside_Woodside, 'Sunset Park' : Sunset_Park, 'Throgs Neck/Co-op City' : Throgs_Neck,\n",
    "           'University Heights/Fordham' : University_Heights,  'Upper East Side' : Upper_East_Side, 'Upper West Side': Upper_West_Side, 'Washington Heights/Inwood' : Washington_Heights,\n",
    "           'Williamsbridge/Baychester' : Williamsbridge, 'Williamsburg/Greenpoint' : Williamsburg}\n"
   ]
  },
  {
   "cell_type": "markdown",
   "metadata": {},
   "source": [
    "- *Now we make sure that the number of Neighborhoods above aligns with the number of neighborhoods in the DataSet 2.*"
   ]
  },
  {
   "cell_type": "code",
   "execution_count": 30,
   "metadata": {},
   "outputs": [
    {
     "name": "stdout",
     "output_type": "stream",
     "text": [
      "55\n",
      "55\n"
     ]
    }
   ],
   "source": [
    "print(len(ZipCode))\n",
    "print(df2.sub_boro_names.nunique())"
   ]
  },
  {
   "cell_type": "markdown",
   "metadata": {},
   "source": [
    "- *Categroizing each apartment with the correct neighborhood, according to the ZipCode*"
   ]
  },
  {
   "cell_type": "code",
   "execution_count": 31,
   "metadata": {},
   "outputs": [],
   "source": [
    "# Adding the neighborhood to the first DataFrame:\n",
    "\n",
    "for key in ZipCode:\n",
    "    for value in ZipCode[key]:\n",
    "        for code in df.Postal_Code:\n",
    "            if code == value:\n",
    "                df.loc[df.Postal_Code == code, 'Neighborhood'] = key"
   ]
  },
  {
   "cell_type": "code",
   "execution_count": 32,
   "metadata": {},
   "outputs": [
    {
     "data": {
      "text/plain": [
       "176"
      ]
     },
     "execution_count": 32,
     "metadata": {},
     "output_type": "execute_result"
    }
   ],
   "source": [
    "# Finding how many values dont include the Neighborhood: \n",
    "\n",
    "sum(df.Neighborhood.isnull())"
   ]
  },
  {
   "cell_type": "code",
   "execution_count": 33,
   "metadata": {},
   "outputs": [
    {
     "name": "stdout",
     "output_type": "stream",
     "text": [
      "[10550. 10704. 11001. 11004. 11509. 11580.]\n"
     ]
    }
   ],
   "source": [
    "# Finding what Postal Codes do not have a Neighborhood: \n",
    "\n",
    "df3 = df[df.Neighborhood.isna()]\n",
    "print(df3.Postal_Code.unique())\n",
    "\n",
    "not_NY = [10550, 10704, 11001, 11004, 11509, 11580]"
   ]
  },
  {
   "cell_type": "markdown",
   "metadata": {},
   "source": [
    " - *Since the Postal Codes that are left over are not in NYC, but instead in Long Island I'll remove these values*"
   ]
  },
  {
   "cell_type": "code",
   "execution_count": 34,
   "metadata": {},
   "outputs": [
    {
     "data": {
      "text/html": [
       "<div>\n",
       "<style scoped>\n",
       "    .dataframe tbody tr th:only-of-type {\n",
       "        vertical-align: middle;\n",
       "    }\n",
       "\n",
       "    .dataframe tbody tr th {\n",
       "        vertical-align: top;\n",
       "    }\n",
       "\n",
       "    .dataframe thead th {\n",
       "        text-align: right;\n",
       "    }\n",
       "</style>\n",
       "<table border=\"1\" class=\"dataframe\">\n",
       "  <thead>\n",
       "    <tr style=\"text-align: right;\">\n",
       "      <th></th>\n",
       "      <th>longitude</th>\n",
       "      <th>Postal_Code</th>\n",
       "      <th>Unit_Type</th>\n",
       "      <th>Address</th>\n",
       "      <th>Rent</th>\n",
       "      <th>latitude</th>\n",
       "      <th>Home_Type</th>\n",
       "      <th>Bedroom_Num</th>\n",
       "      <th>Bathroom_Num</th>\n",
       "      <th>Area_SqFt</th>\n",
       "      <th>Neighborhood</th>\n",
       "    </tr>\n",
       "  </thead>\n",
       "  <tbody>\n",
       "    <tr>\n",
       "      <th>68</th>\n",
       "      <td>-73.905143</td>\n",
       "      <td>11378.0</td>\n",
       "      <td>Apartment for rent</td>\n",
       "      <td>6155 60th Pl, Maspeth, NY 11378</td>\n",
       "      <td>2650.0</td>\n",
       "      <td>40.719532</td>\n",
       "      <td>APARTMENT</td>\n",
       "      <td>3.0</td>\n",
       "      <td>1.0</td>\n",
       "      <td>1375.0</td>\n",
       "      <td>Sunnyside/Woodside</td>\n",
       "    </tr>\n",
       "    <tr>\n",
       "      <th>80</th>\n",
       "      <td>-73.767100</td>\n",
       "      <td>11361.0</td>\n",
       "      <td>House for rent</td>\n",
       "      <td>217th St, Bayside, NY 11361</td>\n",
       "      <td>1250.0</td>\n",
       "      <td>40.769070</td>\n",
       "      <td>HOUSE- SINGLE FAMILY</td>\n",
       "      <td>0.0</td>\n",
       "      <td>1.0</td>\n",
       "      <td>550.0</td>\n",
       "      <td>Bayside/Little Neck</td>\n",
       "    </tr>\n",
       "    <tr>\n",
       "      <th>87</th>\n",
       "      <td>-73.996217</td>\n",
       "      <td>10001.0</td>\n",
       "      <td>Apartment for rent</td>\n",
       "      <td>247 W 26th St APT 5B, New York, NY 10001</td>\n",
       "      <td>2500.0</td>\n",
       "      <td>40.747067</td>\n",
       "      <td>HOUSE- MULTI FAMILY</td>\n",
       "      <td>1.0</td>\n",
       "      <td>1.0</td>\n",
       "      <td>500.0</td>\n",
       "      <td>Chelsea/Clinton/Midtown</td>\n",
       "    </tr>\n",
       "    <tr>\n",
       "      <th>93</th>\n",
       "      <td>-73.997605</td>\n",
       "      <td>10001.0</td>\n",
       "      <td>Apartment for rent</td>\n",
       "      <td>358 W 30th St APT 2B, New York, NY 10001</td>\n",
       "      <td>2350.0</td>\n",
       "      <td>40.750397</td>\n",
       "      <td>HOUSE- MULTI FAMILY</td>\n",
       "      <td>0.0</td>\n",
       "      <td>1.0</td>\n",
       "      <td>NaN</td>\n",
       "      <td>Chelsea/Clinton/Midtown</td>\n",
       "    </tr>\n",
       "    <tr>\n",
       "      <th>95</th>\n",
       "      <td>-74.001715</td>\n",
       "      <td>10001.0</td>\n",
       "      <td>Apartment for rent</td>\n",
       "      <td>420 W 25th St APT 7K, New York, NY 10001</td>\n",
       "      <td>5900.0</td>\n",
       "      <td>40.748087</td>\n",
       "      <td>HOUSE- MULTI FAMILY</td>\n",
       "      <td>1.0</td>\n",
       "      <td>1.0</td>\n",
       "      <td>893.0</td>\n",
       "      <td>Chelsea/Clinton/Midtown</td>\n",
       "    </tr>\n",
       "  </tbody>\n",
       "</table>\n",
       "</div>"
      ],
      "text/plain": [
       "    longitude  Postal_Code           Unit_Type  \\\n",
       "68 -73.905143      11378.0  Apartment for rent   \n",
       "80 -73.767100      11361.0      House for rent   \n",
       "87 -73.996217      10001.0  Apartment for rent   \n",
       "93 -73.997605      10001.0  Apartment for rent   \n",
       "95 -74.001715      10001.0  Apartment for rent   \n",
       "\n",
       "                                     Address    Rent   latitude  \\\n",
       "68           6155 60th Pl, Maspeth, NY 11378  2650.0  40.719532   \n",
       "80               217th St, Bayside, NY 11361  1250.0  40.769070   \n",
       "87  247 W 26th St APT 5B, New York, NY 10001  2500.0  40.747067   \n",
       "93  358 W 30th St APT 2B, New York, NY 10001  2350.0  40.750397   \n",
       "95  420 W 25th St APT 7K, New York, NY 10001  5900.0  40.748087   \n",
       "\n",
       "               Home_Type  Bedroom_Num  Bathroom_Num  Area_SqFt  \\\n",
       "68             APARTMENT          3.0           1.0     1375.0   \n",
       "80  HOUSE- SINGLE FAMILY          0.0           1.0      550.0   \n",
       "87   HOUSE- MULTI FAMILY          1.0           1.0      500.0   \n",
       "93   HOUSE- MULTI FAMILY          0.0           1.0        NaN   \n",
       "95   HOUSE- MULTI FAMILY          1.0           1.0      893.0   \n",
       "\n",
       "               Neighborhood  \n",
       "68       Sunnyside/Woodside  \n",
       "80      Bayside/Little Neck  \n",
       "87  Chelsea/Clinton/Midtown  \n",
       "93  Chelsea/Clinton/Midtown  \n",
       "95  Chelsea/Clinton/Midtown  "
      ]
     },
     "execution_count": 34,
     "metadata": {},
     "output_type": "execute_result"
    }
   ],
   "source": [
    "# Dropping all values that are not in the 5 Buroughs: \n",
    "df = df[df.Neighborhood.notna()]\n",
    "df2.rename(columns={'sub_boro_names':'Neighborhood'}, inplace=True)\n",
    "df.rename(columns={'sub_boro_names':'Neighborhood'}, inplace=True)\n",
    "df.head()"
   ]
  },
  {
   "cell_type": "code",
   "execution_count": 35,
   "metadata": {},
   "outputs": [
    {
     "name": "stdout",
     "output_type": "stream",
     "text": [
      "<class 'pandas.core.frame.DataFrame'>\n",
      "Int64Index: 5147 entries, 68 to 6873\n",
      "Data columns (total 11 columns):\n",
      " #   Column        Non-Null Count  Dtype  \n",
      "---  ------        --------------  -----  \n",
      " 0   longitude     5147 non-null   float64\n",
      " 1   Postal_Code   5147 non-null   float64\n",
      " 2   Unit_Type     5147 non-null   object \n",
      " 3   Address       5147 non-null   object \n",
      " 4   Rent          5147 non-null   float64\n",
      " 5   latitude      5147 non-null   float64\n",
      " 6   Home_Type     5147 non-null   object \n",
      " 7   Bedroom_Num   5147 non-null   float64\n",
      " 8   Bathroom_Num  5077 non-null   float64\n",
      " 9   Area_SqFt     2655 non-null   float64\n",
      " 10  Neighborhood  5147 non-null   object \n",
      "dtypes: float64(7), object(4)\n",
      "memory usage: 482.5+ KB\n"
     ]
    }
   ],
   "source": [
    "df.info()"
   ]
  },
  {
   "cell_type": "markdown",
   "metadata": {},
   "source": [
    "------------"
   ]
  },
  {
   "cell_type": "markdown",
   "metadata": {},
   "source": [
    "## 3. Merging both DataFrame - Overall Rent Prices"
   ]
  },
  {
   "cell_type": "code",
   "execution_count": 36,
   "metadata": {},
   "outputs": [
    {
     "data": {
      "text/html": [
       "<div>\n",
       "<style scoped>\n",
       "    .dataframe tbody tr th:only-of-type {\n",
       "        vertical-align: middle;\n",
       "    }\n",
       "\n",
       "    .dataframe tbody tr th {\n",
       "        vertical-align: top;\n",
       "    }\n",
       "\n",
       "    .dataframe thead th {\n",
       "        text-align: right;\n",
       "    }\n",
       "</style>\n",
       "<table border=\"1\" class=\"dataframe\">\n",
       "  <thead>\n",
       "    <tr style=\"text-align: right;\">\n",
       "      <th></th>\n",
       "      <th>longitude</th>\n",
       "      <th>Postal_Code</th>\n",
       "      <th>Unit_Type</th>\n",
       "      <th>Address</th>\n",
       "      <th>Rent</th>\n",
       "      <th>latitude</th>\n",
       "      <th>Home_Type</th>\n",
       "      <th>Bedroom_Num</th>\n",
       "      <th>Bathroom_Num</th>\n",
       "      <th>Area_SqFt</th>\n",
       "      <th>...</th>\n",
       "      <th>new_certificates_of_occupancy</th>\n",
       "      <th>public_housing</th>\n",
       "      <th>subsidized_properties</th>\n",
       "      <th>building_age</th>\n",
       "      <th>racial_diversity_index</th>\n",
       "      <th>asian</th>\n",
       "      <th>black</th>\n",
       "      <th>hispanic</th>\n",
       "      <th>white</th>\n",
       "      <th>other_races</th>\n",
       "    </tr>\n",
       "  </thead>\n",
       "  <tbody>\n",
       "    <tr>\n",
       "      <th>0</th>\n",
       "      <td>-73.905143</td>\n",
       "      <td>11378.0</td>\n",
       "      <td>Apartment for rent</td>\n",
       "      <td>6155 60th Pl, Maspeth, NY 11378</td>\n",
       "      <td>2650.0</td>\n",
       "      <td>40.719532</td>\n",
       "      <td>APARTMENT</td>\n",
       "      <td>3.0</td>\n",
       "      <td>1.0</td>\n",
       "      <td>1375.0</td>\n",
       "      <td>...</td>\n",
       "      <td>423.63</td>\n",
       "      <td>0.0</td>\n",
       "      <td>13.00</td>\n",
       "      <td>80.223531</td>\n",
       "      <td>0.69</td>\n",
       "      <td>0.338447</td>\n",
       "      <td>0.016259</td>\n",
       "      <td>0.337890</td>\n",
       "      <td>0.283209</td>\n",
       "      <td>0.024194</td>\n",
       "    </tr>\n",
       "    <tr>\n",
       "      <th>1</th>\n",
       "      <td>-73.767100</td>\n",
       "      <td>11361.0</td>\n",
       "      <td>House for rent</td>\n",
       "      <td>217th St, Bayside, NY 11361</td>\n",
       "      <td>1250.0</td>\n",
       "      <td>40.769070</td>\n",
       "      <td>HOUSE- SINGLE FAMILY</td>\n",
       "      <td>0.0</td>\n",
       "      <td>1.0</td>\n",
       "      <td>550.0</td>\n",
       "      <td>...</td>\n",
       "      <td>86.77</td>\n",
       "      <td>0.0</td>\n",
       "      <td>0.00</td>\n",
       "      <td>72.417602</td>\n",
       "      <td>0.61</td>\n",
       "      <td>0.362974</td>\n",
       "      <td>0.017587</td>\n",
       "      <td>0.109906</td>\n",
       "      <td>0.477049</td>\n",
       "      <td>0.032484</td>\n",
       "    </tr>\n",
       "    <tr>\n",
       "      <th>2</th>\n",
       "      <td>-73.996217</td>\n",
       "      <td>10001.0</td>\n",
       "      <td>Apartment for rent</td>\n",
       "      <td>247 W 26th St APT 5B, New York, NY 10001</td>\n",
       "      <td>2500.0</td>\n",
       "      <td>40.747067</td>\n",
       "      <td>HOUSE- MULTI FAMILY</td>\n",
       "      <td>1.0</td>\n",
       "      <td>1.0</td>\n",
       "      <td>500.0</td>\n",
       "      <td>...</td>\n",
       "      <td>745.24</td>\n",
       "      <td>2353.0</td>\n",
       "      <td>66.14</td>\n",
       "      <td>92.959860</td>\n",
       "      <td>0.56</td>\n",
       "      <td>0.135238</td>\n",
       "      <td>0.055244</td>\n",
       "      <td>0.144715</td>\n",
       "      <td>0.631512</td>\n",
       "      <td>0.033291</td>\n",
       "    </tr>\n",
       "    <tr>\n",
       "      <th>3</th>\n",
       "      <td>-73.997605</td>\n",
       "      <td>10001.0</td>\n",
       "      <td>Apartment for rent</td>\n",
       "      <td>358 W 30th St APT 2B, New York, NY 10001</td>\n",
       "      <td>2350.0</td>\n",
       "      <td>40.750397</td>\n",
       "      <td>HOUSE- MULTI FAMILY</td>\n",
       "      <td>0.0</td>\n",
       "      <td>1.0</td>\n",
       "      <td>NaN</td>\n",
       "      <td>...</td>\n",
       "      <td>745.24</td>\n",
       "      <td>2353.0</td>\n",
       "      <td>66.14</td>\n",
       "      <td>92.959860</td>\n",
       "      <td>0.56</td>\n",
       "      <td>0.135238</td>\n",
       "      <td>0.055244</td>\n",
       "      <td>0.144715</td>\n",
       "      <td>0.631512</td>\n",
       "      <td>0.033291</td>\n",
       "    </tr>\n",
       "    <tr>\n",
       "      <th>4</th>\n",
       "      <td>-74.001715</td>\n",
       "      <td>10001.0</td>\n",
       "      <td>Apartment for rent</td>\n",
       "      <td>420 W 25th St APT 7K, New York, NY 10001</td>\n",
       "      <td>5900.0</td>\n",
       "      <td>40.748087</td>\n",
       "      <td>HOUSE- MULTI FAMILY</td>\n",
       "      <td>1.0</td>\n",
       "      <td>1.0</td>\n",
       "      <td>893.0</td>\n",
       "      <td>...</td>\n",
       "      <td>745.24</td>\n",
       "      <td>2353.0</td>\n",
       "      <td>66.14</td>\n",
       "      <td>92.959860</td>\n",
       "      <td>0.56</td>\n",
       "      <td>0.135238</td>\n",
       "      <td>0.055244</td>\n",
       "      <td>0.144715</td>\n",
       "      <td>0.631512</td>\n",
       "      <td>0.033291</td>\n",
       "    </tr>\n",
       "  </tbody>\n",
       "</table>\n",
       "<p>5 rows × 46 columns</p>\n",
       "</div>"
      ],
      "text/plain": [
       "   longitude  Postal_Code           Unit_Type  \\\n",
       "0 -73.905143      11378.0  Apartment for rent   \n",
       "1 -73.767100      11361.0      House for rent   \n",
       "2 -73.996217      10001.0  Apartment for rent   \n",
       "3 -73.997605      10001.0  Apartment for rent   \n",
       "4 -74.001715      10001.0  Apartment for rent   \n",
       "\n",
       "                                    Address    Rent   latitude  \\\n",
       "0           6155 60th Pl, Maspeth, NY 11378  2650.0  40.719532   \n",
       "1               217th St, Bayside, NY 11361  1250.0  40.769070   \n",
       "2  247 W 26th St APT 5B, New York, NY 10001  2500.0  40.747067   \n",
       "3  358 W 30th St APT 2B, New York, NY 10001  2350.0  40.750397   \n",
       "4  420 W 25th St APT 7K, New York, NY 10001  5900.0  40.748087   \n",
       "\n",
       "              Home_Type  Bedroom_Num  Bathroom_Num  Area_SqFt  ...  \\\n",
       "0             APARTMENT          3.0           1.0     1375.0  ...   \n",
       "1  HOUSE- SINGLE FAMILY          0.0           1.0      550.0  ...   \n",
       "2   HOUSE- MULTI FAMILY          1.0           1.0      500.0  ...   \n",
       "3   HOUSE- MULTI FAMILY          0.0           1.0        NaN  ...   \n",
       "4   HOUSE- MULTI FAMILY          1.0           1.0      893.0  ...   \n",
       "\n",
       "  new_certificates_of_occupancy public_housing  subsidized_properties  \\\n",
       "0                        423.63            0.0                  13.00   \n",
       "1                         86.77            0.0                   0.00   \n",
       "2                        745.24         2353.0                  66.14   \n",
       "3                        745.24         2353.0                  66.14   \n",
       "4                        745.24         2353.0                  66.14   \n",
       "\n",
       "   building_age  racial_diversity_index     asian     black  hispanic  \\\n",
       "0     80.223531                    0.69  0.338447  0.016259  0.337890   \n",
       "1     72.417602                    0.61  0.362974  0.017587  0.109906   \n",
       "2     92.959860                    0.56  0.135238  0.055244  0.144715   \n",
       "3     92.959860                    0.56  0.135238  0.055244  0.144715   \n",
       "4     92.959860                    0.56  0.135238  0.055244  0.144715   \n",
       "\n",
       "      white  other_races  \n",
       "0  0.283209     0.024194  \n",
       "1  0.477049     0.032484  \n",
       "2  0.631512     0.033291  \n",
       "3  0.631512     0.033291  \n",
       "4  0.631512     0.033291  \n",
       "\n",
       "[5 rows x 46 columns]"
      ]
     },
     "execution_count": 36,
     "metadata": {},
     "output_type": "execute_result"
    }
   ],
   "source": [
    "df = df.merge(df2, how='left')\n",
    "df.head()"
   ]
  },
  {
   "cell_type": "markdown",
   "metadata": {},
   "source": [
    "------------"
   ]
  },
  {
   "cell_type": "markdown",
   "metadata": {},
   "source": [
    "## 4. Utilizing the Yelp API"
   ]
  },
  {
   "cell_type": "markdown",
   "metadata": {},
   "source": [
    "Trying to add Yelp Reviews to dataframe! We do not know the popularity of different neighborhoods, hopefully an API like yelp can help redeem this. "
   ]
  },
  {
   "cell_type": "code",
   "execution_count": null,
   "metadata": {},
   "outputs": [],
   "source": []
  },
  {
   "cell_type": "markdown",
   "metadata": {},
   "source": [
    "### Saving the DataFrame"
   ]
  },
  {
   "cell_type": "code",
   "execution_count": 37,
   "metadata": {},
   "outputs": [],
   "source": [
    "# Saving this dataframe\n",
    "\n",
    "df.to_pickle('df')"
   ]
  },
  {
   "cell_type": "code",
   "execution_count": 38,
   "metadata": {},
   "outputs": [
    {
     "data": {
      "text/html": [
       "<div>\n",
       "<style scoped>\n",
       "    .dataframe tbody tr th:only-of-type {\n",
       "        vertical-align: middle;\n",
       "    }\n",
       "\n",
       "    .dataframe tbody tr th {\n",
       "        vertical-align: top;\n",
       "    }\n",
       "\n",
       "    .dataframe thead th {\n",
       "        text-align: right;\n",
       "    }\n",
       "</style>\n",
       "<table border=\"1\" class=\"dataframe\">\n",
       "  <thead>\n",
       "    <tr style=\"text-align: right;\">\n",
       "      <th></th>\n",
       "      <th>Neighborhood</th>\n",
       "      <th>boro_names</th>\n",
       "      <th>median_rent</th>\n",
       "      <th>median_income</th>\n",
       "      <th>car_free_commute</th>\n",
       "      <th>population_density</th>\n",
       "      <th>poverty_rate</th>\n",
       "      <th>crime</th>\n",
       "      <th>subway</th>\n",
       "      <th>park</th>\n",
       "      <th>income_diversity_ratio</th>\n",
       "      <th>labor_force_rate</th>\n",
       "    </tr>\n",
       "  </thead>\n",
       "  <tbody>\n",
       "    <tr>\n",
       "      <th>0</th>\n",
       "      <td>Astoria</td>\n",
       "      <td>Queens</td>\n",
       "      <td>2125.10</td>\n",
       "      <td>50605.87</td>\n",
       "      <td>0.78</td>\n",
       "      <td>33.83</td>\n",
       "      <td>0.17</td>\n",
       "      <td>2.974474</td>\n",
       "      <td>0.73</td>\n",
       "      <td>0.63</td>\n",
       "      <td>4.92</td>\n",
       "      <td>0.68</td>\n",
       "    </tr>\n",
       "    <tr>\n",
       "      <th>1</th>\n",
       "      <td>Bay Ridge</td>\n",
       "      <td>Brooklyn</td>\n",
       "      <td>1678.72</td>\n",
       "      <td>50795.57</td>\n",
       "      <td>0.65</td>\n",
       "      <td>32.86</td>\n",
       "      <td>0.15</td>\n",
       "      <td>1.856024</td>\n",
       "      <td>0.74</td>\n",
       "      <td>0.60</td>\n",
       "      <td>5.17</td>\n",
       "      <td>0.62</td>\n",
       "    </tr>\n",
       "    <tr>\n",
       "      <th>2</th>\n",
       "      <td>Bayside/Little Neck</td>\n",
       "      <td>Queens</td>\n",
       "      <td>1962.32</td>\n",
       "      <td>61084.74</td>\n",
       "      <td>0.34</td>\n",
       "      <td>12.87</td>\n",
       "      <td>0.07</td>\n",
       "      <td>1.088525</td>\n",
       "      <td>0.21</td>\n",
       "      <td>0.69</td>\n",
       "      <td>4.25</td>\n",
       "      <td>0.63</td>\n",
       "    </tr>\n",
       "    <tr>\n",
       "      <th>3</th>\n",
       "      <td>Bedford Stuyvesant</td>\n",
       "      <td>Brooklyn</td>\n",
       "      <td>2288.53</td>\n",
       "      <td>30129.29</td>\n",
       "      <td>0.79</td>\n",
       "      <td>60.33</td>\n",
       "      <td>0.32</td>\n",
       "      <td>7.772004</td>\n",
       "      <td>0.88</td>\n",
       "      <td>0.94</td>\n",
       "      <td>6.77</td>\n",
       "      <td>0.61</td>\n",
       "    </tr>\n",
       "    <tr>\n",
       "      <th>4</th>\n",
       "      <td>Bensonhurst</td>\n",
       "      <td>Brooklyn</td>\n",
       "      <td>1496.61</td>\n",
       "      <td>39280.36</td>\n",
       "      <td>0.69</td>\n",
       "      <td>49.38</td>\n",
       "      <td>0.17</td>\n",
       "      <td>1.511147</td>\n",
       "      <td>0.87</td>\n",
       "      <td>0.46</td>\n",
       "      <td>5.19</td>\n",
       "      <td>0.58</td>\n",
       "    </tr>\n",
       "  </tbody>\n",
       "</table>\n",
       "</div>"
      ],
      "text/plain": [
       "          Neighborhood boro_names  median_rent  median_income  \\\n",
       "0              Astoria     Queens      2125.10       50605.87   \n",
       "1            Bay Ridge   Brooklyn      1678.72       50795.57   \n",
       "2  Bayside/Little Neck     Queens      1962.32       61084.74   \n",
       "3   Bedford Stuyvesant   Brooklyn      2288.53       30129.29   \n",
       "4          Bensonhurst   Brooklyn      1496.61       39280.36   \n",
       "\n",
       "   car_free_commute  population_density  poverty_rate     crime  subway  park  \\\n",
       "0              0.78               33.83          0.17  2.974474    0.73  0.63   \n",
       "1              0.65               32.86          0.15  1.856024    0.74  0.60   \n",
       "2              0.34               12.87          0.07  1.088525    0.21  0.69   \n",
       "3              0.79               60.33          0.32  7.772004    0.88  0.94   \n",
       "4              0.69               49.38          0.17  1.511147    0.87  0.46   \n",
       "\n",
       "   income_diversity_ratio  labor_force_rate  \n",
       "0                    4.92              0.68  \n",
       "1                    5.17              0.62  \n",
       "2                    4.25              0.63  \n",
       "3                    6.77              0.61  \n",
       "4                    5.19              0.58  "
      ]
     },
     "execution_count": 38,
     "metadata": {},
     "output_type": "execute_result"
    }
   ],
   "source": [
    "df2 = df2[['Neighborhood','boro_names','median_rent','median_income','car_free_commute','population_density','poverty_rate','crime','subway','park','income_diversity_ratio','labor_force_rate']]\n",
    "df2.to_pickle('Neighborhood')\n",
    "df2.head()"
   ]
  },
  {
   "cell_type": "markdown",
   "metadata": {},
   "source": [
    "------------"
   ]
  },
  {
   "cell_type": "markdown",
   "metadata": {},
   "source": [
    "## 5. Briefly Exploring the Data"
   ]
  },
  {
   "cell_type": "markdown",
   "metadata": {},
   "source": [
    "### Distributions Of Feature Value"
   ]
  },
  {
   "cell_type": "code",
   "execution_count": 39,
   "metadata": {},
   "outputs": [
    {
     "data": {
      "image/png": "[encoded data removed]",
      "text/plain": [
       "<Figure size 1080x720 with 42 Axes>"
      ]
     },
     "metadata": {
      "needs_background": "light"
     },
     "output_type": "display_data"
    }
   ],
   "source": [
    "df.hist(figsize=(15,10))\n",
    "plt.subplots_adjust(hspace=1);"
   ]
  },
  {
   "cell_type": "markdown",
   "metadata": {},
   "source": [
    "### Distribution of Neighborhood and Buroughs"
   ]
  },
  {
   "cell_type": "code",
   "execution_count": 40,
   "metadata": {},
   "outputs": [
    {
     "data": {
      "image/png": "[encoded data removed]",
      "text/plain": [
       "<Figure size 1080x1440 with 2 Axes>"
      ]
     },
     "metadata": {
      "needs_background": "light"
     },
     "output_type": "display_data"
    }
   ],
   "source": [
    "import matplotlib.pyplot as plt\n",
    "\n",
    "fig, ax = plt.subplots(nrows=1, ncols=2, figsize=(15,20))\n",
    "\n",
    "df.Neighborhood.value_counts().plot(kind='barh', ax=ax[0])\n",
    "ax[0].set_title('Neighborhood')\n",
    "ax[0].set_xlabel('Count')\n",
    "\n",
    "df.boro_names.value_counts().plot(kind='barh', ax=ax[1])\n",
    "ax[1].set_title('Burough')\n",
    "ax[1].set_xlabel('Count')\n",
    "\n",
    "plt.subplots_adjust(wspace=0.5);"
   ]
  },
  {
   "cell_type": "markdown",
   "metadata": {},
   "source": [
    "We will explore the data more in the Next Chapter, **Exploratory Data Analysis**"
   ]
  }
 ],
 "metadata": {
  "kernelspec": {
   "display_name": "Python 3",
   "language": "python",
   "name": "python3"
  },
  "language_info": {
   "codemirror_mode": {
    "name": "ipython",
    "version": 3
   },
   "file_extension": ".py",
   "mimetype": "text/x-python",
   "name": "python",
   "nbconvert_exporter": "python",
   "pygments_lexer": "ipython3",
   "version": "3.8.3"
  }
 },
 "nbformat": 4,
 "nbformat_minor": 4
}
