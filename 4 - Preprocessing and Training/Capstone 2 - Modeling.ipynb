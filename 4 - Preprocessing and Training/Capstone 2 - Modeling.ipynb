{
 "cells": [
  {
   "cell_type": "code",
   "execution_count": 1,
   "metadata": {},
   "outputs": [],
   "source": [
    "import pandas as pd\n",
    "import numpy as np\n",
    "import os\n",
    "import matplotlib.pyplot as plt\n",
    "import seaborn as sns\n",
    "from sklearn import __version__ as sklearn_version\n",
    "from sklearn.decomposition import PCA\n",
    "from sklearn.preprocessing import scale\n",
    "from sklearn.model_selection import train_test_split, cross_validate, GridSearchCV, learning_curve\n",
    "from sklearn.preprocessing import StandardScaler, MinMaxScaler, OneHotEncoder, StandardScaler\n",
    "from sklearn.dummy import DummyRegressor\n",
    "from sklearn.linear_model import LinearRegression, Lasso, Ridge\n",
    "from sklearn.ensemble import RandomForestRegressor\n",
    "from sklearn.metrics import r2_score, mean_squared_error, mean_absolute_error\n",
    "from sklearn.pipeline import make_pipeline, Pipeline\n",
    "from sklearn.impute import SimpleImputer\n",
    "from sklearn.feature_selection import SelectKBest, f_regression\n",
    "from sklearn.compose import ColumnTransformer\n",
    "from sklearn import set_config"
   ]
  },
  {
   "cell_type": "code",
   "execution_count": 2,
   "metadata": {},
   "outputs": [
    {
     "data": {
      "text/html": [
       "<div>\n",
       "<style scoped>\n",
       "    .dataframe tbody tr th:only-of-type {\n",
       "        vertical-align: middle;\n",
       "    }\n",
       "\n",
       "    .dataframe tbody tr th {\n",
       "        vertical-align: top;\n",
       "    }\n",
       "\n",
       "    .dataframe thead th {\n",
       "        text-align: right;\n",
       "    }\n",
       "</style>\n",
       "<table border=\"1\" class=\"dataframe\">\n",
       "  <thead>\n",
       "    <tr style=\"text-align: right;\">\n",
       "      <th></th>\n",
       "      <th>longitude</th>\n",
       "      <th>Postal_Code</th>\n",
       "      <th>Unit_Type</th>\n",
       "      <th>Address</th>\n",
       "      <th>Rent</th>\n",
       "      <th>latitude</th>\n",
       "      <th>Home_Type</th>\n",
       "      <th>Bedroom_Num</th>\n",
       "      <th>Bathroom_Num</th>\n",
       "      <th>Area_SqFt</th>\n",
       "      <th>...</th>\n",
       "      <th>public_housing</th>\n",
       "      <th>subsidized_properties</th>\n",
       "      <th>building_age</th>\n",
       "      <th>racial_diversity_index</th>\n",
       "      <th>asian</th>\n",
       "      <th>black</th>\n",
       "      <th>hispanic</th>\n",
       "      <th>white</th>\n",
       "      <th>other_races</th>\n",
       "      <th>absolute_diff</th>\n",
       "    </tr>\n",
       "  </thead>\n",
       "  <tbody>\n",
       "    <tr>\n",
       "      <th>0</th>\n",
       "      <td>-73.905143</td>\n",
       "      <td>11378.0</td>\n",
       "      <td>Apartment for rent</td>\n",
       "      <td>6155 60th Pl, Maspeth, NY 11378</td>\n",
       "      <td>2650.0</td>\n",
       "      <td>40.719532</td>\n",
       "      <td>APARTMENT</td>\n",
       "      <td>3.0</td>\n",
       "      <td>1.0</td>\n",
       "      <td>1375.0</td>\n",
       "      <td>...</td>\n",
       "      <td>0.0</td>\n",
       "      <td>13.00</td>\n",
       "      <td>80.223531</td>\n",
       "      <td>0.69</td>\n",
       "      <td>0.338447</td>\n",
       "      <td>0.016259</td>\n",
       "      <td>0.337890</td>\n",
       "      <td>0.283209</td>\n",
       "      <td>0.024194</td>\n",
       "      <td>106.93</td>\n",
       "    </tr>\n",
       "    <tr>\n",
       "      <th>1</th>\n",
       "      <td>-73.767100</td>\n",
       "      <td>11361.0</td>\n",
       "      <td>House for rent</td>\n",
       "      <td>217th St, Bayside, NY 11361</td>\n",
       "      <td>1250.0</td>\n",
       "      <td>40.769070</td>\n",
       "      <td>HOUSE- SINGLE FAMILY</td>\n",
       "      <td>0.0</td>\n",
       "      <td>1.0</td>\n",
       "      <td>550.0</td>\n",
       "      <td>...</td>\n",
       "      <td>0.0</td>\n",
       "      <td>0.00</td>\n",
       "      <td>72.417602</td>\n",
       "      <td>0.61</td>\n",
       "      <td>0.362974</td>\n",
       "      <td>0.017587</td>\n",
       "      <td>0.109906</td>\n",
       "      <td>0.477049</td>\n",
       "      <td>0.032484</td>\n",
       "      <td>712.32</td>\n",
       "    </tr>\n",
       "    <tr>\n",
       "      <th>2</th>\n",
       "      <td>-73.996217</td>\n",
       "      <td>10001.0</td>\n",
       "      <td>Apartment for rent</td>\n",
       "      <td>247 W 26th St APT 5B, New York, NY 10001</td>\n",
       "      <td>2500.0</td>\n",
       "      <td>40.747067</td>\n",
       "      <td>HOUSE- MULTI FAMILY</td>\n",
       "      <td>1.0</td>\n",
       "      <td>1.0</td>\n",
       "      <td>500.0</td>\n",
       "      <td>...</td>\n",
       "      <td>2353.0</td>\n",
       "      <td>66.14</td>\n",
       "      <td>92.959860</td>\n",
       "      <td>0.56</td>\n",
       "      <td>0.135238</td>\n",
       "      <td>0.055244</td>\n",
       "      <td>0.144715</td>\n",
       "      <td>0.631512</td>\n",
       "      <td>0.033291</td>\n",
       "      <td>1045.57</td>\n",
       "    </tr>\n",
       "    <tr>\n",
       "      <th>3</th>\n",
       "      <td>-73.997605</td>\n",
       "      <td>10001.0</td>\n",
       "      <td>Apartment for rent</td>\n",
       "      <td>358 W 30th St APT 2B, New York, NY 10001</td>\n",
       "      <td>2350.0</td>\n",
       "      <td>40.750397</td>\n",
       "      <td>HOUSE- MULTI FAMILY</td>\n",
       "      <td>0.0</td>\n",
       "      <td>1.0</td>\n",
       "      <td>NaN</td>\n",
       "      <td>...</td>\n",
       "      <td>2353.0</td>\n",
       "      <td>66.14</td>\n",
       "      <td>92.959860</td>\n",
       "      <td>0.56</td>\n",
       "      <td>0.135238</td>\n",
       "      <td>0.055244</td>\n",
       "      <td>0.144715</td>\n",
       "      <td>0.631512</td>\n",
       "      <td>0.033291</td>\n",
       "      <td>1195.57</td>\n",
       "    </tr>\n",
       "    <tr>\n",
       "      <th>4</th>\n",
       "      <td>-74.001715</td>\n",
       "      <td>10001.0</td>\n",
       "      <td>Apartment for rent</td>\n",
       "      <td>420 W 25th St APT 7K, New York, NY 10001</td>\n",
       "      <td>5900.0</td>\n",
       "      <td>40.748087</td>\n",
       "      <td>HOUSE- MULTI FAMILY</td>\n",
       "      <td>1.0</td>\n",
       "      <td>1.0</td>\n",
       "      <td>893.0</td>\n",
       "      <td>...</td>\n",
       "      <td>2353.0</td>\n",
       "      <td>66.14</td>\n",
       "      <td>92.959860</td>\n",
       "      <td>0.56</td>\n",
       "      <td>0.135238</td>\n",
       "      <td>0.055244</td>\n",
       "      <td>0.144715</td>\n",
       "      <td>0.631512</td>\n",
       "      <td>0.033291</td>\n",
       "      <td>2354.43</td>\n",
       "    </tr>\n",
       "  </tbody>\n",
       "</table>\n",
       "<p>5 rows × 47 columns</p>\n",
       "</div>"
      ],
      "text/plain": [
       "   longitude  Postal_Code           Unit_Type  \\\n",
       "0 -73.905143      11378.0  Apartment for rent   \n",
       "1 -73.767100      11361.0      House for rent   \n",
       "2 -73.996217      10001.0  Apartment for rent   \n",
       "3 -73.997605      10001.0  Apartment for rent   \n",
       "4 -74.001715      10001.0  Apartment for rent   \n",
       "\n",
       "                                    Address    Rent   latitude  \\\n",
       "0           6155 60th Pl, Maspeth, NY 11378  2650.0  40.719532   \n",
       "1               217th St, Bayside, NY 11361  1250.0  40.769070   \n",
       "2  247 W 26th St APT 5B, New York, NY 10001  2500.0  40.747067   \n",
       "3  358 W 30th St APT 2B, New York, NY 10001  2350.0  40.750397   \n",
       "4  420 W 25th St APT 7K, New York, NY 10001  5900.0  40.748087   \n",
       "\n",
       "              Home_Type  Bedroom_Num  Bathroom_Num  Area_SqFt  ...  \\\n",
       "0             APARTMENT          3.0           1.0     1375.0  ...   \n",
       "1  HOUSE- SINGLE FAMILY          0.0           1.0      550.0  ...   \n",
       "2   HOUSE- MULTI FAMILY          1.0           1.0      500.0  ...   \n",
       "3   HOUSE- MULTI FAMILY          0.0           1.0        NaN  ...   \n",
       "4   HOUSE- MULTI FAMILY          1.0           1.0      893.0  ...   \n",
       "\n",
       "  public_housing subsidized_properties  building_age  racial_diversity_index  \\\n",
       "0            0.0                 13.00     80.223531                    0.69   \n",
       "1            0.0                  0.00     72.417602                    0.61   \n",
       "2         2353.0                 66.14     92.959860                    0.56   \n",
       "3         2353.0                 66.14     92.959860                    0.56   \n",
       "4         2353.0                 66.14     92.959860                    0.56   \n",
       "\n",
       "      asian     black  hispanic     white  other_races  absolute_diff  \n",
       "0  0.338447  0.016259  0.337890  0.283209     0.024194         106.93  \n",
       "1  0.362974  0.017587  0.109906  0.477049     0.032484         712.32  \n",
       "2  0.135238  0.055244  0.144715  0.631512     0.033291        1045.57  \n",
       "3  0.135238  0.055244  0.144715  0.631512     0.033291        1195.57  \n",
       "4  0.135238  0.055244  0.144715  0.631512     0.033291        2354.43  \n",
       "\n",
       "[5 rows x 47 columns]"
      ]
     },
     "execution_count": 2,
     "metadata": {},
     "output_type": "execute_result"
    }
   ],
   "source": [
    "df = pd.read_pickle('final_df')\n",
    "df.head()"
   ]
  },
  {
   "cell_type": "code",
   "execution_count": null,
   "metadata": {},
   "outputs": [],
   "source": []
  },
  {
   "cell_type": "code",
   "execution_count": 3,
   "metadata": {},
   "outputs": [
    {
     "data": {
      "text/plain": [
       "((5011, 45), (5011,))"
      ]
     },
     "execution_count": 3,
     "metadata": {},
     "output_type": "execute_result"
    }
   ],
   "source": [
    "# REMOVING NON NUMERICAL NUMBERS\n",
    "\n",
    "X = df.drop(columns = ['Address', 'Rent'])\n",
    "y = df.Rent\n",
    "X.shape, y.shape"
   ]
  },
  {
   "cell_type": "code",
   "execution_count": 4,
   "metadata": {},
   "outputs": [
    {
     "name": "stdout",
     "output_type": "stream",
     "text": [
      "<class 'pandas.core.frame.DataFrame'>\n",
      "Int64Index: 5011 entries, 0 to 5146\n",
      "Data columns (total 45 columns):\n",
      " #   Column                             Non-Null Count  Dtype  \n",
      "---  ------                             --------------  -----  \n",
      " 0   longitude                          5011 non-null   float64\n",
      " 1   Postal_Code                        5011 non-null   float64\n",
      " 2   Unit_Type                          5011 non-null   object \n",
      " 3   latitude                           5011 non-null   float64\n",
      " 4   Home_Type                          5011 non-null   object \n",
      " 5   Bedroom_Num                        5011 non-null   float64\n",
      " 6   Bathroom_Num                       4946 non-null   float64\n",
      " 7   Area_SqFt                          2544 non-null   float64\n",
      " 8   Neighborhood                       5011 non-null   object \n",
      " 9   boro_names                         5011 non-null   object \n",
      " 10  median_rent                        5011 non-null   float64\n",
      " 11  born_in_new_york_state             5011 non-null   float64\n",
      " 12  car_free_commute                   5011 non-null   float64\n",
      " 13  disabled_population                5011 non-null   float64\n",
      " 14  foreign_born_population            5011 non-null   float64\n",
      " 15  housing_units                      5011 non-null   float64\n",
      " 16  mean_travel_time_to_work           5011 non-null   float64\n",
      " 17  median_income                      5011 non-null   float64\n",
      " 18  population                         5011 non-null   float64\n",
      " 19  population_density                 5011 non-null   float64\n",
      " 20  poverty_rate                       5011 non-null   float64\n",
      " 21  rental_vacancy_rate                5011 non-null   float64\n",
      " 22  severe_crowding_rate               5011 non-null   float64\n",
      " 23  unemployment                       5011 non-null   float64\n",
      " 24  labor_force_rate                   5011 non-null   float64\n",
      " 25  households_with_under_18years_old  5011 non-null   float64\n",
      " 26  single_person_households           5011 non-null   float64\n",
      " 27  income_diversity_ratio             5011 non-null   float64\n",
      " 28  25+_with_bachelors                 5011 non-null   float64\n",
      " 29  25+_no_high_school_diploma         5011 non-null   float64\n",
      " 30  subway                             5011 non-null   float64\n",
      " 31  park                               5011 non-null   float64\n",
      " 32  crime                              5011 non-null   float64\n",
      " 33  new_residential_permits            5011 non-null   float64\n",
      " 34  new_certificates_of_occupancy      5011 non-null   float64\n",
      " 35  public_housing                     5011 non-null   float64\n",
      " 36  subsidized_properties              5011 non-null   float64\n",
      " 37  building_age                       5011 non-null   float64\n",
      " 38  racial_diversity_index             5011 non-null   float64\n",
      " 39  asian                              5011 non-null   float64\n",
      " 40  black                              5011 non-null   float64\n",
      " 41  hispanic                           5011 non-null   float64\n",
      " 42  white                              5011 non-null   float64\n",
      " 43  other_races                        5011 non-null   float64\n",
      " 44  absolute_diff                      5011 non-null   float64\n",
      "dtypes: float64(41), object(4)\n",
      "memory usage: 1.8+ MB\n"
     ]
    }
   ],
   "source": [
    "X.info()"
   ]
  },
  {
   "cell_type": "code",
   "execution_count": 5,
   "metadata": {},
   "outputs": [],
   "source": [
    "X_train, X_test, y_train, y_test = train_test_split(X, y, \n",
    "                                                    test_size=0.3, \n",
    "                                                    random_state=47)"
   ]
  },
  {
   "cell_type": "code",
   "execution_count": 6,
   "metadata": {},
   "outputs": [
    {
     "data": {
      "text/plain": [
       "((3507, 45), (1504, 45), (3507,), (1504,))"
      ]
     },
     "execution_count": 6,
     "metadata": {},
     "output_type": "execute_result"
    }
   ],
   "source": [
    "X_train.shape, X_test.shape, y_train.shape, y_test.shape"
   ]
  },
  {
   "cell_type": "code",
   "execution_count": 7,
   "metadata": {},
   "outputs": [],
   "source": [
    "set_config(display='diagram')"
   ]
  },
  {
   "cell_type": "markdown",
   "metadata": {},
   "source": [
    "### Model 1 - Simple Linear Regression"
   ]
  },
  {
   "cell_type": "code",
   "execution_count": 8,
   "metadata": {},
   "outputs": [],
   "source": [
    "numerical_columns = X.drop(columns = ['Unit_Type','Home_Type','Neighborhood','boro_names']).columns\n",
    "categorical_columns = ['Unit_Type','Home_Type','Neighborhood','boro_names']"
   ]
  },
  {
   "cell_type": "code",
   "execution_count": 9,
   "metadata": {},
   "outputs": [],
   "source": [
    "categorical_preprocessor = Pipeline(steps=[\n",
    "    ('onehot', OneHotEncoder(handle_unknown='ignore'))])\n",
    "    \n",
    "numerical_preprocessor = Pipeline(steps=[\n",
    "    ('imputer', SimpleImputer(strategy='median')),\n",
    "    ('scaler', StandardScaler())])"
   ]
  },
  {
   "cell_type": "code",
   "execution_count": 10,
   "metadata": {},
   "outputs": [],
   "source": [
    "preprocesser = ColumnTransformer(\n",
    "    transformers = [\n",
    "        ('numerical', categorical_preprocessor, categorical_columns),\n",
    "        ('categorical', numerical_preprocessor, numerical_columns)])"
   ]
  },
  {
   "cell_type": "code",
   "execution_count": 11,
   "metadata": {},
   "outputs": [],
   "source": [
    "model = make_pipeline(preprocesser,\n",
    "                      LinearRegression())"
   ]
  },
  {
   "cell_type": "code",
   "execution_count": 12,
   "metadata": {},
   "outputs": [
    {
     "data": {
      "text/html": [
       "<style>div.sk-top-container {color: black;background-color: white;}div.sk-toggleable {background-color: white;}label.sk-toggleable__label {cursor: pointer;display: block;width: 100%;margin-bottom: 0;padding: 0.2em 0.3em;box-sizing: border-box;text-align: center;}div.sk-toggleable__content {max-height: 0;max-width: 0;overflow: hidden;text-align: left;background-color: #f0f8ff;}div.sk-toggleable__content pre {margin: 0.2em;color: black;border-radius: 0.25em;background-color: #f0f8ff;}input.sk-toggleable__control:checked~div.sk-toggleable__content {max-height: 200px;max-width: 100%;overflow: auto;}div.sk-estimator input.sk-toggleable__control:checked~label.sk-toggleable__label {background-color: #d4ebff;}div.sk-label input.sk-toggleable__control:checked~label.sk-toggleable__label {background-color: #d4ebff;}input.sk-hidden--visually {border: 0;clip: rect(1px 1px 1px 1px);clip: rect(1px, 1px, 1px, 1px);height: 1px;margin: -1px;overflow: hidden;padding: 0;position: absolute;width: 1px;}div.sk-estimator {font-family: monospace;background-color: #f0f8ff;margin: 0.25em 0.25em;border: 1px dotted black;border-radius: 0.25em;box-sizing: border-box;}div.sk-estimator:hover {background-color: #d4ebff;}div.sk-parallel-item::after {content: \"\";width: 100%;border-bottom: 1px solid gray;flex-grow: 1;}div.sk-label:hover label.sk-toggleable__label {background-color: #d4ebff;}div.sk-serial::before {content: \"\";position: absolute;border-left: 1px solid gray;box-sizing: border-box;top: 2em;bottom: 0;left: 50%;}div.sk-serial {display: flex;flex-direction: column;align-items: center;background-color: white;}div.sk-item {z-index: 1;}div.sk-parallel {display: flex;align-items: stretch;justify-content: center;background-color: white;}div.sk-parallel-item {display: flex;flex-direction: column;position: relative;background-color: white;}div.sk-parallel-item:first-child::after {align-self: flex-end;width: 50%;}div.sk-parallel-item:last-child::after {align-self: flex-start;width: 50%;}div.sk-parallel-item:only-child::after {width: 0;}div.sk-dashed-wrapped {border: 1px dashed gray;margin: 0.2em;box-sizing: border-box;padding-bottom: 0.1em;background-color: white;position: relative;}div.sk-label label {font-family: monospace;font-weight: bold;background-color: white;display: inline-block;line-height: 1.2em;}div.sk-label-container {position: relative;z-index: 2;text-align: center;}div.sk-container {display: inline-block;position: relative;}</style><div class=\"sk-top-container\"><div class=\"sk-container\"><div class=\"sk-item sk-dashed-wrapped\"><div class=\"sk-label-container\"><div class=\"sk-label sk-toggleable\"><input class=\"sk-toggleable__control sk-hidden--visually\" id=\"34724e9b-2729-445e-a92a-2554ddda2f5a\" type=\"checkbox\" ><label class=\"sk-toggleable__label\" for=\"34724e9b-2729-445e-a92a-2554ddda2f5a\">Pipeline</label><div class=\"sk-toggleable__content\"><pre>Pipeline(steps=[('columntransformer',\n",
       "                 ColumnTransformer(transformers=[('numerical',\n",
       "                                                  Pipeline(steps=[('onehot',\n",
       "                                                                   OneHotEncoder(handle_unknown='ignore'))]),\n",
       "                                                  ['Unit_Type', 'Home_Type',\n",
       "                                                   'Neighborhood',\n",
       "                                                   'boro_names']),\n",
       "                                                 ('categorical',\n",
       "                                                  Pipeline(steps=[('imputer',\n",
       "                                                                   SimpleImputer(strategy='median')),\n",
       "                                                                  ('scaler',\n",
       "                                                                   StandardScaler())]),\n",
       "                                                  Index(['longitude', 'Postal_Code', 'latit...\n",
       "       'single_person_households', 'income_diversity_ratio',\n",
       "       '25+_with_bachelors', '25+_no_high_school_diploma', 'subway', 'park',\n",
       "       'crime', 'new_residential_permits', 'new_certificates_of_occupancy',\n",
       "       'public_housing', 'subsidized_properties', 'building_age',\n",
       "       'racial_diversity_index', 'asian', 'black', 'hispanic', 'white',\n",
       "       'other_races', 'absolute_diff'],\n",
       "      dtype='object'))])),\n",
       "                ('linearregression', LinearRegression())])</pre></div></div></div><div class=\"sk-serial\"><div class=\"sk-item sk-dashed-wrapped\"><div class=\"sk-label-container\"><div class=\"sk-label sk-toggleable\"><input class=\"sk-toggleable__control sk-hidden--visually\" id=\"f609d6bc-e91d-445e-a901-76ff65a19b98\" type=\"checkbox\" ><label class=\"sk-toggleable__label\" for=\"f609d6bc-e91d-445e-a901-76ff65a19b98\">columntransformer: ColumnTransformer</label><div class=\"sk-toggleable__content\"><pre>ColumnTransformer(transformers=[('numerical',\n",
       "                                 Pipeline(steps=[('onehot',\n",
       "                                                  OneHotEncoder(handle_unknown='ignore'))]),\n",
       "                                 ['Unit_Type', 'Home_Type', 'Neighborhood',\n",
       "                                  'boro_names']),\n",
       "                                ('categorical',\n",
       "                                 Pipeline(steps=[('imputer',\n",
       "                                                  SimpleImputer(strategy='median')),\n",
       "                                                 ('scaler', StandardScaler())]),\n",
       "                                 Index(['longitude', 'Postal_Code', 'latitude', 'Bedroom_Num', 'Bathroom_Num',\n",
       "       'Ar...\n",
       "       'labor_force_rate', 'households_with_under_18years_old',\n",
       "       'single_person_households', 'income_diversity_ratio',\n",
       "       '25+_with_bachelors', '25+_no_high_school_diploma', 'subway', 'park',\n",
       "       'crime', 'new_residential_permits', 'new_certificates_of_occupancy',\n",
       "       'public_housing', 'subsidized_properties', 'building_age',\n",
       "       'racial_diversity_index', 'asian', 'black', 'hispanic', 'white',\n",
       "       'other_races', 'absolute_diff'],\n",
       "      dtype='object'))])</pre></div></div></div><div class=\"sk-parallel\"><div class=\"sk-parallel-item\"><div class=\"sk-item\"><div class=\"sk-label-container\"><div class=\"sk-label sk-toggleable\"><input class=\"sk-toggleable__control sk-hidden--visually\" id=\"e2229045-71d8-4307-815e-2cc8d9edb203\" type=\"checkbox\" ><label class=\"sk-toggleable__label\" for=\"e2229045-71d8-4307-815e-2cc8d9edb203\">numerical</label><div class=\"sk-toggleable__content\"><pre>['Unit_Type', 'Home_Type', 'Neighborhood', 'boro_names']</pre></div></div></div><div class=\"sk-serial\"><div class=\"sk-item\"><div class=\"sk-serial\"><div class=\"sk-item\"><div class=\"sk-estimator sk-toggleable\"><input class=\"sk-toggleable__control sk-hidden--visually\" id=\"e4bddc98-40bc-4f79-8019-2388c1ecc4b6\" type=\"checkbox\" ><label class=\"sk-toggleable__label\" for=\"e4bddc98-40bc-4f79-8019-2388c1ecc4b6\">OneHotEncoder</label><div class=\"sk-toggleable__content\"><pre>OneHotEncoder(handle_unknown='ignore')</pre></div></div></div></div></div></div></div></div><div class=\"sk-parallel-item\"><div class=\"sk-item\"><div class=\"sk-label-container\"><div class=\"sk-label sk-toggleable\"><input class=\"sk-toggleable__control sk-hidden--visually\" id=\"008ac8bf-1589-42e8-99f7-8dc91daa0bb7\" type=\"checkbox\" ><label class=\"sk-toggleable__label\" for=\"008ac8bf-1589-42e8-99f7-8dc91daa0bb7\">categorical</label><div class=\"sk-toggleable__content\"><pre>Index(['longitude', 'Postal_Code', 'latitude', 'Bedroom_Num', 'Bathroom_Num',\n",
       "       'Area_SqFt', 'median_rent', 'born_in_new_york_state',\n",
       "       'car_free_commute', 'disabled_population', 'foreign_born_population',\n",
       "       'housing_units', 'mean_travel_time_to_work', 'median_income',\n",
       "       'population', 'population_density', 'poverty_rate',\n",
       "       'rental_vacancy_rate', 'severe_crowding_rate', 'unemployment',\n",
       "       'labor_force_rate', 'households_with_under_18years_old',\n",
       "       'single_person_households', 'income_diversity_ratio',\n",
       "       '25+_with_bachelors', '25+_no_high_school_diploma', 'subway', 'park',\n",
       "       'crime', 'new_residential_permits', 'new_certificates_of_occupancy',\n",
       "       'public_housing', 'subsidized_properties', 'building_age',\n",
       "       'racial_diversity_index', 'asian', 'black', 'hispanic', 'white',\n",
       "       'other_races', 'absolute_diff'],\n",
       "      dtype='object')</pre></div></div></div><div class=\"sk-serial\"><div class=\"sk-item\"><div class=\"sk-serial\"><div class=\"sk-item\"><div class=\"sk-estimator sk-toggleable\"><input class=\"sk-toggleable__control sk-hidden--visually\" id=\"0af61c31-2cbc-4e76-b7d4-9257a015ad53\" type=\"checkbox\" ><label class=\"sk-toggleable__label\" for=\"0af61c31-2cbc-4e76-b7d4-9257a015ad53\">SimpleImputer</label><div class=\"sk-toggleable__content\"><pre>SimpleImputer(strategy='median')</pre></div></div></div><div class=\"sk-item\"><div class=\"sk-estimator sk-toggleable\"><input class=\"sk-toggleable__control sk-hidden--visually\" id=\"37436ad3-6348-4a48-8497-5de33b3404e1\" type=\"checkbox\" ><label class=\"sk-toggleable__label\" for=\"37436ad3-6348-4a48-8497-5de33b3404e1\">StandardScaler</label><div class=\"sk-toggleable__content\"><pre>StandardScaler()</pre></div></div></div></div></div></div></div></div></div></div><div class=\"sk-item\"><div class=\"sk-estimator sk-toggleable\"><input class=\"sk-toggleable__control sk-hidden--visually\" id=\"56c0bb2f-664a-4d94-b84e-920bea588636\" type=\"checkbox\" ><label class=\"sk-toggleable__label\" for=\"56c0bb2f-664a-4d94-b84e-920bea588636\">LinearRegression</label><div class=\"sk-toggleable__content\"><pre>LinearRegression()</pre></div></div></div></div></div></div></div>"
      ],
      "text/plain": [
       "Pipeline(steps=[('columntransformer',\n",
       "                 ColumnTransformer(transformers=[('numerical',\n",
       "                                                  Pipeline(steps=[('onehot',\n",
       "                                                                   OneHotEncoder(handle_unknown='ignore'))]),\n",
       "                                                  ['Unit_Type', 'Home_Type',\n",
       "                                                   'Neighborhood',\n",
       "                                                   'boro_names']),\n",
       "                                                 ('categorical',\n",
       "                                                  Pipeline(steps=[('imputer',\n",
       "                                                                   SimpleImputer(strategy='median')),\n",
       "                                                                  ('scaler',\n",
       "                                                                   StandardScaler())]),\n",
       "                                                  Index(['longitude', 'Postal_Code', 'latit...\n",
       "       'single_person_households', 'income_diversity_ratio',\n",
       "       '25+_with_bachelors', '25+_no_high_school_diploma', 'subway', 'park',\n",
       "       'crime', 'new_residential_permits', 'new_certificates_of_occupancy',\n",
       "       'public_housing', 'subsidized_properties', 'building_age',\n",
       "       'racial_diversity_index', 'asian', 'black', 'hispanic', 'white',\n",
       "       'other_races', 'absolute_diff'],\n",
       "      dtype='object'))])),\n",
       "                ('linearregression', LinearRegression())])"
      ]
     },
     "execution_count": 12,
     "metadata": {},
     "output_type": "execute_result"
    }
   ],
   "source": [
    "model.fit(X_train, y_train)"
   ]
  },
  {
   "cell_type": "code",
   "execution_count": 13,
   "metadata": {},
   "outputs": [],
   "source": [
    "y_pred = model.predict(X_test)"
   ]
  },
  {
   "cell_type": "code",
   "execution_count": 14,
   "metadata": {},
   "outputs": [
    {
     "data": {
      "text/plain": [
       "266.7682845744681"
      ]
     },
     "execution_count": 14,
     "metadata": {},
     "output_type": "execute_result"
    }
   ],
   "source": [
    "mean_absolute_error(y_test, y_pred)"
   ]
  },
  {
   "cell_type": "code",
   "execution_count": 15,
   "metadata": {},
   "outputs": [
    {
     "data": {
      "text/plain": [
       "0.7877969808039117"
      ]
     },
     "execution_count": 15,
     "metadata": {},
     "output_type": "execute_result"
    }
   ],
   "source": [
    "r2_score(y_test, y_pred) "
   ]
  },
  {
   "cell_type": "markdown",
   "metadata": {},
   "source": [
    "### Model 2 - Ridge Regression"
   ]
  },
  {
   "cell_type": "code",
   "execution_count": 58,
   "metadata": {},
   "outputs": [],
   "source": [
    "lasso_model = Pipeline(steps=[\n",
    "    ('Preprocess', preprocesser),\n",
    "    ('PCA', PCA()),\n",
    "    ('Lasso Model', Lasso())])"
   ]
  },
  {
   "cell_type": "code",
   "execution_count": 59,
   "metadata": {},
   "outputs": [],
   "source": [
    "n_features_to_test = np.arange(1, 11)\n",
    "alpha_to_test = 2.0**np.arange(-6, +6)"
   ]
  },
  {
   "cell_type": "code",
   "execution_count": 60,
   "metadata": {},
   "outputs": [],
   "source": [
    "params = {'reduce_dim__n_components': n_features_to_test, \n",
    "          'regressor__alpha': alpha_to_test}"
   ]
  },
  {
   "cell_type": "code",
   "execution_count": 61,
   "metadata": {},
   "outputs": [
    {
     "data": {
      "text/html": [
       "<style>div.sk-top-container {color: black;background-color: white;}div.sk-toggleable {background-color: white;}label.sk-toggleable__label {cursor: pointer;display: block;width: 100%;margin-bottom: 0;padding: 0.2em 0.3em;box-sizing: border-box;text-align: center;}div.sk-toggleable__content {max-height: 0;max-width: 0;overflow: hidden;text-align: left;background-color: #f0f8ff;}div.sk-toggleable__content pre {margin: 0.2em;color: black;border-radius: 0.25em;background-color: #f0f8ff;}input.sk-toggleable__control:checked~div.sk-toggleable__content {max-height: 200px;max-width: 100%;overflow: auto;}div.sk-estimator input.sk-toggleable__control:checked~label.sk-toggleable__label {background-color: #d4ebff;}div.sk-label input.sk-toggleable__control:checked~label.sk-toggleable__label {background-color: #d4ebff;}input.sk-hidden--visually {border: 0;clip: rect(1px 1px 1px 1px);clip: rect(1px, 1px, 1px, 1px);height: 1px;margin: -1px;overflow: hidden;padding: 0;position: absolute;width: 1px;}div.sk-estimator {font-family: monospace;background-color: #f0f8ff;margin: 0.25em 0.25em;border: 1px dotted black;border-radius: 0.25em;box-sizing: border-box;}div.sk-estimator:hover {background-color: #d4ebff;}div.sk-parallel-item::after {content: \"\";width: 100%;border-bottom: 1px solid gray;flex-grow: 1;}div.sk-label:hover label.sk-toggleable__label {background-color: #d4ebff;}div.sk-serial::before {content: \"\";position: absolute;border-left: 1px solid gray;box-sizing: border-box;top: 2em;bottom: 0;left: 50%;}div.sk-serial {display: flex;flex-direction: column;align-items: center;background-color: white;}div.sk-item {z-index: 1;}div.sk-parallel {display: flex;align-items: stretch;justify-content: center;background-color: white;}div.sk-parallel-item {display: flex;flex-direction: column;position: relative;background-color: white;}div.sk-parallel-item:first-child::after {align-self: flex-end;width: 50%;}div.sk-parallel-item:last-child::after {align-self: flex-start;width: 50%;}div.sk-parallel-item:only-child::after {width: 0;}div.sk-dashed-wrapped {border: 1px dashed gray;margin: 0.2em;box-sizing: border-box;padding-bottom: 0.1em;background-color: white;position: relative;}div.sk-label label {font-family: monospace;font-weight: bold;background-color: white;display: inline-block;line-height: 1.2em;}div.sk-label-container {position: relative;z-index: 2;text-align: center;}div.sk-container {display: inline-block;position: relative;}</style><div class=\"sk-top-container\"><div class=\"sk-container\"><div class=\"sk-item sk-dashed-wrapped\"><div class=\"sk-label-container\"><div class=\"sk-label sk-toggleable\"><input class=\"sk-toggleable__control sk-hidden--visually\" id=\"0e7cab88-ebdc-4705-99fb-139e71085334\" type=\"checkbox\" ><label class=\"sk-toggleable__label\" for=\"0e7cab88-ebdc-4705-99fb-139e71085334\">Pipeline</label><div class=\"sk-toggleable__content\"><pre>Pipeline(steps=[('Preprocess',\n",
       "                 ColumnTransformer(transformers=[('numerical',\n",
       "                                                  Pipeline(steps=[('onehot',\n",
       "                                                                   OneHotEncoder(handle_unknown='ignore'))]),\n",
       "                                                  ['Unit_Type', 'Home_Type',\n",
       "                                                   'Neighborhood',\n",
       "                                                   'boro_names']),\n",
       "                                                 ('categorical',\n",
       "                                                  Pipeline(steps=[('imputer',\n",
       "                                                                   SimpleImputer(strategy='median')),\n",
       "                                                                  ('scaler',\n",
       "                                                                   StandardScaler())]),\n",
       "                                                  Index(['longitude', 'Postal_Code', 'latitude', 'B...\n",
       "       'single_person_households', 'income_diversity_ratio',\n",
       "       '25+_with_bachelors', '25+_no_high_school_diploma', 'subway', 'park',\n",
       "       'crime', 'new_residential_permits', 'new_certificates_of_occupancy',\n",
       "       'public_housing', 'subsidized_properties', 'building_age',\n",
       "       'racial_diversity_index', 'asian', 'black', 'hispanic', 'white',\n",
       "       'other_races', 'absolute_diff'],\n",
       "      dtype='object'))])),\n",
       "                ('PCA', PCA()), ('Lasso Model', Lasso())])</pre></div></div></div><div class=\"sk-serial\"><div class=\"sk-item sk-dashed-wrapped\"><div class=\"sk-label-container\"><div class=\"sk-label sk-toggleable\"><input class=\"sk-toggleable__control sk-hidden--visually\" id=\"58fc3825-b4c1-4d6b-9694-47b9aae44af0\" type=\"checkbox\" ><label class=\"sk-toggleable__label\" for=\"58fc3825-b4c1-4d6b-9694-47b9aae44af0\">Preprocess: ColumnTransformer</label><div class=\"sk-toggleable__content\"><pre>ColumnTransformer(transformers=[('numerical',\n",
       "                                 Pipeline(steps=[('onehot',\n",
       "                                                  OneHotEncoder(handle_unknown='ignore'))]),\n",
       "                                 ['Unit_Type', 'Home_Type', 'Neighborhood',\n",
       "                                  'boro_names']),\n",
       "                                ('categorical',\n",
       "                                 Pipeline(steps=[('imputer',\n",
       "                                                  SimpleImputer(strategy='median')),\n",
       "                                                 ('scaler', StandardScaler())]),\n",
       "                                 Index(['longitude', 'Postal_Code', 'latitude', 'Bedroom_Num', 'Bathroom_Num',\n",
       "       'Ar...\n",
       "       'labor_force_rate', 'households_with_under_18years_old',\n",
       "       'single_person_households', 'income_diversity_ratio',\n",
       "       '25+_with_bachelors', '25+_no_high_school_diploma', 'subway', 'park',\n",
       "       'crime', 'new_residential_permits', 'new_certificates_of_occupancy',\n",
       "       'public_housing', 'subsidized_properties', 'building_age',\n",
       "       'racial_diversity_index', 'asian', 'black', 'hispanic', 'white',\n",
       "       'other_races', 'absolute_diff'],\n",
       "      dtype='object'))])</pre></div></div></div><div class=\"sk-parallel\"><div class=\"sk-parallel-item\"><div class=\"sk-item\"><div class=\"sk-label-container\"><div class=\"sk-label sk-toggleable\"><input class=\"sk-toggleable__control sk-hidden--visually\" id=\"c34031cc-56bb-4e11-832b-32b0400c6204\" type=\"checkbox\" ><label class=\"sk-toggleable__label\" for=\"c34031cc-56bb-4e11-832b-32b0400c6204\">numerical</label><div class=\"sk-toggleable__content\"><pre>['Unit_Type', 'Home_Type', 'Neighborhood', 'boro_names']</pre></div></div></div><div class=\"sk-serial\"><div class=\"sk-item\"><div class=\"sk-serial\"><div class=\"sk-item\"><div class=\"sk-estimator sk-toggleable\"><input class=\"sk-toggleable__control sk-hidden--visually\" id=\"791b63ca-582f-44e3-9fdb-e4a2c7969aa6\" type=\"checkbox\" ><label class=\"sk-toggleable__label\" for=\"791b63ca-582f-44e3-9fdb-e4a2c7969aa6\">OneHotEncoder</label><div class=\"sk-toggleable__content\"><pre>OneHotEncoder(handle_unknown='ignore')</pre></div></div></div></div></div></div></div></div><div class=\"sk-parallel-item\"><div class=\"sk-item\"><div class=\"sk-label-container\"><div class=\"sk-label sk-toggleable\"><input class=\"sk-toggleable__control sk-hidden--visually\" id=\"029563bf-0b29-482c-9e42-c4a32e32b10a\" type=\"checkbox\" ><label class=\"sk-toggleable__label\" for=\"029563bf-0b29-482c-9e42-c4a32e32b10a\">categorical</label><div class=\"sk-toggleable__content\"><pre>Index(['longitude', 'Postal_Code', 'latitude', 'Bedroom_Num', 'Bathroom_Num',\n",
       "       'Area_SqFt', 'median_rent', 'born_in_new_york_state',\n",
       "       'car_free_commute', 'disabled_population', 'foreign_born_population',\n",
       "       'housing_units', 'mean_travel_time_to_work', 'median_income',\n",
       "       'population', 'population_density', 'poverty_rate',\n",
       "       'rental_vacancy_rate', 'severe_crowding_rate', 'unemployment',\n",
       "       'labor_force_rate', 'households_with_under_18years_old',\n",
       "       'single_person_households', 'income_diversity_ratio',\n",
       "       '25+_with_bachelors', '25+_no_high_school_diploma', 'subway', 'park',\n",
       "       'crime', 'new_residential_permits', 'new_certificates_of_occupancy',\n",
       "       'public_housing', 'subsidized_properties', 'building_age',\n",
       "       'racial_diversity_index', 'asian', 'black', 'hispanic', 'white',\n",
       "       'other_races', 'absolute_diff'],\n",
       "      dtype='object')</pre></div></div></div><div class=\"sk-serial\"><div class=\"sk-item\"><div class=\"sk-serial\"><div class=\"sk-item\"><div class=\"sk-estimator sk-toggleable\"><input class=\"sk-toggleable__control sk-hidden--visually\" id=\"db837a7e-6e08-485f-99e9-0a468925ce45\" type=\"checkbox\" ><label class=\"sk-toggleable__label\" for=\"db837a7e-6e08-485f-99e9-0a468925ce45\">SimpleImputer</label><div class=\"sk-toggleable__content\"><pre>SimpleImputer(strategy='median')</pre></div></div></div><div class=\"sk-item\"><div class=\"sk-estimator sk-toggleable\"><input class=\"sk-toggleable__control sk-hidden--visually\" id=\"840ea22b-17c5-4599-aaa9-7cc44bf4a89c\" type=\"checkbox\" ><label class=\"sk-toggleable__label\" for=\"840ea22b-17c5-4599-aaa9-7cc44bf4a89c\">StandardScaler</label><div class=\"sk-toggleable__content\"><pre>StandardScaler()</pre></div></div></div></div></div></div></div></div></div></div><div class=\"sk-item\"><div class=\"sk-estimator sk-toggleable\"><input class=\"sk-toggleable__control sk-hidden--visually\" id=\"0aab3fd3-e30b-4a45-81f9-829dcf29a8cc\" type=\"checkbox\" ><label class=\"sk-toggleable__label\" for=\"0aab3fd3-e30b-4a45-81f9-829dcf29a8cc\">PCA</label><div class=\"sk-toggleable__content\"><pre>PCA()</pre></div></div></div><div class=\"sk-item\"><div class=\"sk-estimator sk-toggleable\"><input class=\"sk-toggleable__control sk-hidden--visually\" id=\"ae24a1c8-281b-46a2-98e4-df6082ed0ea5\" type=\"checkbox\" ><label class=\"sk-toggleable__label\" for=\"ae24a1c8-281b-46a2-98e4-df6082ed0ea5\">Lasso</label><div class=\"sk-toggleable__content\"><pre>Lasso()</pre></div></div></div></div></div></div></div>"
      ],
      "text/plain": [
       "Pipeline(steps=[('Preprocess',\n",
       "                 ColumnTransformer(transformers=[('numerical',\n",
       "                                                  Pipeline(steps=[('onehot',\n",
       "                                                                   OneHotEncoder(handle_unknown='ignore'))]),\n",
       "                                                  ['Unit_Type', 'Home_Type',\n",
       "                                                   'Neighborhood',\n",
       "                                                   'boro_names']),\n",
       "                                                 ('categorical',\n",
       "                                                  Pipeline(steps=[('imputer',\n",
       "                                                                   SimpleImputer(strategy='median')),\n",
       "                                                                  ('scaler',\n",
       "                                                                   StandardScaler())]),\n",
       "                                                  Index(['longitude', 'Postal_Code', 'latitude', 'B...\n",
       "       'single_person_households', 'income_diversity_ratio',\n",
       "       '25+_with_bachelors', '25+_no_high_school_diploma', 'subway', 'park',\n",
       "       'crime', 'new_residential_permits', 'new_certificates_of_occupancy',\n",
       "       'public_housing', 'subsidized_properties', 'building_age',\n",
       "       'racial_diversity_index', 'asian', 'black', 'hispanic', 'white',\n",
       "       'other_races', 'absolute_diff'],\n",
       "      dtype='object'))])),\n",
       "                ('PCA', PCA()), ('Lasso Model', Lasso())])"
      ]
     },
     "execution_count": 61,
     "metadata": {},
     "output_type": "execute_result"
    }
   ],
   "source": [
    "lasso_model.fit(X_train, y_train) "
   ]
  },
  {
   "cell_type": "code",
   "execution_count": 62,
   "metadata": {},
   "outputs": [],
   "source": [
    "y_pred = lasso_model.predict(X_test)"
   ]
  },
  {
   "cell_type": "code",
   "execution_count": 63,
   "metadata": {},
   "outputs": [
    {
     "data": {
      "text/plain": [
       "267.33166603358967"
      ]
     },
     "execution_count": 63,
     "metadata": {},
     "output_type": "execute_result"
    }
   ],
   "source": [
    "mean_absolute_error(y_test, y_pred)"
   ]
  },
  {
   "cell_type": "code",
   "execution_count": 64,
   "metadata": {},
   "outputs": [
    {
     "data": {
      "text/plain": [
       "0.7855582483251918"
      ]
     },
     "execution_count": 64,
     "metadata": {},
     "output_type": "execute_result"
    }
   ],
   "source": [
    "r2_score(y_test, y_pred)"
   ]
  },
  {
   "cell_type": "markdown",
   "metadata": {},
   "source": [
    "### Model 3 - Random Forest"
   ]
  },
  {
   "cell_type": "code",
   "execution_count": 44,
   "metadata": {},
   "outputs": [],
   "source": [
    "random_forest = Pipeline(steps=[\n",
    "    ('Preprocess', preprocesser),\n",
    "    ('Random Forest', RandomForestRegressor(random_state=47))])"
   ]
  },
  {
   "cell_type": "code",
   "execution_count": 50,
   "metadata": {},
   "outputs": [],
   "source": [
    "n_est = [int(n) for n in np.logspace(start=1, stop=3, num=20)]\n",
    "grid_params = {\n",
    "        'randomforestregressor__n_estimators': n_est,\n",
    "}"
   ]
  },
  {
   "cell_type": "code",
   "execution_count": 65,
   "metadata": {},
   "outputs": [],
   "source": [
    "rf_grid_cv = GridSearchCV(random_forest, param_grid=grid_params, cv=5, n_jobs=-1) "
   ]
  },
  {
   "cell_type": "markdown",
   "metadata": {},
   "source": [
    "#### Next \n",
    "- XG Boost\n",
    "- SVM\n",
    "- Use Cross Validation"
   ]
  }
 ],
 "metadata": {
  "kernelspec": {
   "display_name": "Python 3",
   "language": "python",
   "name": "python3"
  },
  "language_info": {
   "codemirror_mode": {
    "name": "ipython",
    "version": 3
   },
   "file_extension": ".py",
   "mimetype": "text/x-python",
   "name": "python",
   "nbconvert_exporter": "python",
   "pygments_lexer": "ipython3",
   "version": "3.8.3"
  }
 },
 "nbformat": 4,
 "nbformat_minor": 4
}
