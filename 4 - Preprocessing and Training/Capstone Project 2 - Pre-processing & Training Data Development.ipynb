{
 "cells": [
  {
   "cell_type": "code",
   "execution_count": 1,
   "metadata": {},
   "outputs": [],
   "source": [
    "import pandas as pd\n",
    "import numpy as np\n",
    "import os\n",
    "import matplotlib.pyplot as plt\n",
    "import seaborn as sns\n",
    "from sklearn.preprocessing import StandardScaler"
   ]
  },
  {
   "cell_type": "markdown",
   "metadata": {},
   "source": [
    "## 1. Loading the Data"
   ]
  },
  {
   "cell_type": "markdown",
   "metadata": {},
   "source": [
    "### 1.1 Combined DataSet"
   ]
  },
  {
   "cell_type": "code",
   "execution_count": 2,
   "metadata": {},
   "outputs": [
    {
     "data": {
      "text/html": [
       "<div>\n",
       "<style scoped>\n",
       "    .dataframe tbody tr th:only-of-type {\n",
       "        vertical-align: middle;\n",
       "    }\n",
       "\n",
       "    .dataframe tbody tr th {\n",
       "        vertical-align: top;\n",
       "    }\n",
       "\n",
       "    .dataframe thead th {\n",
       "        text-align: right;\n",
       "    }\n",
       "</style>\n",
       "<table border=\"1\" class=\"dataframe\">\n",
       "  <thead>\n",
       "    <tr style=\"text-align: right;\">\n",
       "      <th></th>\n",
       "      <th>Postal_Code</th>\n",
       "      <th>Unit_Type</th>\n",
       "      <th>Address</th>\n",
       "      <th>Cost</th>\n",
       "      <th>Home_Type</th>\n",
       "      <th>Bedroom_Num</th>\n",
       "      <th>Bathroom_Num</th>\n",
       "      <th>Area_SqFt</th>\n",
       "      <th>Neighborhood</th>\n",
       "      <th>boro_names</th>\n",
       "      <th>median_rent</th>\n",
       "      <th>median_income</th>\n",
       "      <th>car_free_commute</th>\n",
       "      <th>population_density</th>\n",
       "      <th>poverty_rate</th>\n",
       "      <th>crime</th>\n",
       "      <th>subway</th>\n",
       "      <th>park</th>\n",
       "      <th>income_diversity_ratio</th>\n",
       "      <th>labor_force_rate</th>\n",
       "    </tr>\n",
       "  </thead>\n",
       "  <tbody>\n",
       "    <tr>\n",
       "      <th>0</th>\n",
       "      <td>11378.0</td>\n",
       "      <td>1</td>\n",
       "      <td>6155 60th Pl, Maspeth, NY 11378</td>\n",
       "      <td>2650.0</td>\n",
       "      <td>1</td>\n",
       "      <td>3.0</td>\n",
       "      <td>1.0</td>\n",
       "      <td>1375.0</td>\n",
       "      <td>1</td>\n",
       "      <td>1</td>\n",
       "      <td>2543.07</td>\n",
       "      <td>54870.01</td>\n",
       "      <td>0.78</td>\n",
       "      <td>22.53</td>\n",
       "      <td>0.14</td>\n",
       "      <td>1.766784</td>\n",
       "      <td>0.89</td>\n",
       "      <td>0.79</td>\n",
       "      <td>4.07</td>\n",
       "      <td>0.67</td>\n",
       "    </tr>\n",
       "    <tr>\n",
       "      <th>1</th>\n",
       "      <td>11361.0</td>\n",
       "      <td>2</td>\n",
       "      <td>217th St, Bayside, NY 11361</td>\n",
       "      <td>1250.0</td>\n",
       "      <td>2</td>\n",
       "      <td>0.0</td>\n",
       "      <td>1.0</td>\n",
       "      <td>550.0</td>\n",
       "      <td>2</td>\n",
       "      <td>1</td>\n",
       "      <td>1962.32</td>\n",
       "      <td>61084.74</td>\n",
       "      <td>0.34</td>\n",
       "      <td>12.87</td>\n",
       "      <td>0.07</td>\n",
       "      <td>1.088525</td>\n",
       "      <td>0.21</td>\n",
       "      <td>0.69</td>\n",
       "      <td>4.25</td>\n",
       "      <td>0.63</td>\n",
       "    </tr>\n",
       "    <tr>\n",
       "      <th>2</th>\n",
       "      <td>10001.0</td>\n",
       "      <td>1</td>\n",
       "      <td>247 W 26th St APT 5B, New York, NY 10001</td>\n",
       "      <td>2500.0</td>\n",
       "      <td>3</td>\n",
       "      <td>1.0</td>\n",
       "      <td>1.0</td>\n",
       "      <td>500.0</td>\n",
       "      <td>3</td>\n",
       "      <td>2</td>\n",
       "      <td>3545.57</td>\n",
       "      <td>82393.55</td>\n",
       "      <td>0.89</td>\n",
       "      <td>47.01</td>\n",
       "      <td>0.13</td>\n",
       "      <td>4.959078</td>\n",
       "      <td>0.97</td>\n",
       "      <td>0.71</td>\n",
       "      <td>7.32</td>\n",
       "      <td>0.76</td>\n",
       "    </tr>\n",
       "    <tr>\n",
       "      <th>3</th>\n",
       "      <td>10001.0</td>\n",
       "      <td>1</td>\n",
       "      <td>358 W 30th St APT 2B, New York, NY 10001</td>\n",
       "      <td>2350.0</td>\n",
       "      <td>3</td>\n",
       "      <td>0.0</td>\n",
       "      <td>1.0</td>\n",
       "      <td>NaN</td>\n",
       "      <td>3</td>\n",
       "      <td>2</td>\n",
       "      <td>3545.57</td>\n",
       "      <td>82393.55</td>\n",
       "      <td>0.89</td>\n",
       "      <td>47.01</td>\n",
       "      <td>0.13</td>\n",
       "      <td>4.959078</td>\n",
       "      <td>0.97</td>\n",
       "      <td>0.71</td>\n",
       "      <td>7.32</td>\n",
       "      <td>0.76</td>\n",
       "    </tr>\n",
       "    <tr>\n",
       "      <th>4</th>\n",
       "      <td>10001.0</td>\n",
       "      <td>1</td>\n",
       "      <td>420 W 25th St APT 7K, New York, NY 10001</td>\n",
       "      <td>5900.0</td>\n",
       "      <td>3</td>\n",
       "      <td>1.0</td>\n",
       "      <td>1.0</td>\n",
       "      <td>893.0</td>\n",
       "      <td>3</td>\n",
       "      <td>2</td>\n",
       "      <td>3545.57</td>\n",
       "      <td>82393.55</td>\n",
       "      <td>0.89</td>\n",
       "      <td>47.01</td>\n",
       "      <td>0.13</td>\n",
       "      <td>4.959078</td>\n",
       "      <td>0.97</td>\n",
       "      <td>0.71</td>\n",
       "      <td>7.32</td>\n",
       "      <td>0.76</td>\n",
       "    </tr>\n",
       "  </tbody>\n",
       "</table>\n",
       "</div>"
      ],
      "text/plain": [
       "   Postal_Code  Unit_Type                                   Address    Cost  \\\n",
       "0      11378.0          1           6155 60th Pl, Maspeth, NY 11378  2650.0   \n",
       "1      11361.0          2               217th St, Bayside, NY 11361  1250.0   \n",
       "2      10001.0          1  247 W 26th St APT 5B, New York, NY 10001  2500.0   \n",
       "3      10001.0          1  358 W 30th St APT 2B, New York, NY 10001  2350.0   \n",
       "4      10001.0          1  420 W 25th St APT 7K, New York, NY 10001  5900.0   \n",
       "\n",
       "   Home_Type  Bedroom_Num  Bathroom_Num  Area_SqFt  Neighborhood  boro_names  \\\n",
       "0          1          3.0           1.0     1375.0             1           1   \n",
       "1          2          0.0           1.0      550.0             2           1   \n",
       "2          3          1.0           1.0      500.0             3           2   \n",
       "3          3          0.0           1.0        NaN             3           2   \n",
       "4          3          1.0           1.0      893.0             3           2   \n",
       "\n",
       "   median_rent  median_income  car_free_commute  population_density  \\\n",
       "0      2543.07       54870.01              0.78               22.53   \n",
       "1      1962.32       61084.74              0.34               12.87   \n",
       "2      3545.57       82393.55              0.89               47.01   \n",
       "3      3545.57       82393.55              0.89               47.01   \n",
       "4      3545.57       82393.55              0.89               47.01   \n",
       "\n",
       "   poverty_rate     crime  subway  park  income_diversity_ratio  \\\n",
       "0          0.14  1.766784    0.89  0.79                    4.07   \n",
       "1          0.07  1.088525    0.21  0.69                    4.25   \n",
       "2          0.13  4.959078    0.97  0.71                    7.32   \n",
       "3          0.13  4.959078    0.97  0.71                    7.32   \n",
       "4          0.13  4.959078    0.97  0.71                    7.32   \n",
       "\n",
       "   labor_force_rate  \n",
       "0              0.67  \n",
       "1              0.63  \n",
       "2              0.76  \n",
       "3              0.76  \n",
       "4              0.76  "
      ]
     },
     "execution_count": 2,
     "metadata": {},
     "output_type": "execute_result"
    }
   ],
   "source": [
    "df = pd.read_pickle('df')\n",
    "df.head()"
   ]
  },
  {
   "cell_type": "code",
   "execution_count": 3,
   "metadata": {},
   "outputs": [
    {
     "name": "stdout",
     "output_type": "stream",
     "text": [
      "<class 'pandas.core.frame.DataFrame'>\n",
      "Int64Index: 5140 entries, 0 to 5322\n",
      "Data columns (total 20 columns):\n",
      " #   Column                  Non-Null Count  Dtype  \n",
      "---  ------                  --------------  -----  \n",
      " 0   Postal_Code             5140 non-null   float64\n",
      " 1   Unit_Type               5140 non-null   int32  \n",
      " 2   Address                 5140 non-null   object \n",
      " 3   Cost                    5140 non-null   float64\n",
      " 4   Home_Type               5140 non-null   int32  \n",
      " 5   Bedroom_Num             5140 non-null   float64\n",
      " 6   Bathroom_Num            5071 non-null   float64\n",
      " 7   Area_SqFt               2652 non-null   float64\n",
      " 8   Neighborhood            5140 non-null   int32  \n",
      " 9   boro_names              5140 non-null   int32  \n",
      " 10  median_rent             5140 non-null   float64\n",
      " 11  median_income           5140 non-null   float64\n",
      " 12  car_free_commute        5140 non-null   float64\n",
      " 13  population_density      5140 non-null   float64\n",
      " 14  poverty_rate            5140 non-null   float64\n",
      " 15  crime                   5140 non-null   float64\n",
      " 16  subway                  5140 non-null   float64\n",
      " 17  park                    5140 non-null   float64\n",
      " 18  income_diversity_ratio  5140 non-null   float64\n",
      " 19  labor_force_rate        5140 non-null   float64\n",
      "dtypes: float64(15), int32(4), object(1)\n",
      "memory usage: 763.0+ KB\n"
     ]
    }
   ],
   "source": [
    "df.info()"
   ]
  },
  {
   "cell_type": "code",
   "execution_count": 4,
   "metadata": {},
   "outputs": [
    {
     "data": {
      "text/plain": [
       "(5140, 20)"
      ]
     },
     "execution_count": 4,
     "metadata": {},
     "output_type": "execute_result"
    }
   ],
   "source": [
    "df.shape"
   ]
  },
  {
   "cell_type": "markdown",
   "metadata": {},
   "source": [
    "## 2. Encoding the Data"
   ]
  },
  {
   "cell_type": "code",
   "execution_count": 5,
   "metadata": {},
   "outputs": [],
   "source": [
    "import category_encoders as ce\n",
    "from sklearn.preprocessing import LabelEncoder"
   ]
  },
  {
   "cell_type": "code",
   "execution_count": 6,
   "metadata": {},
   "outputs": [],
   "source": [
    "ce_ord = ce.OrdinalEncoder(cols = ['Unit_Type', 'Home_Type', 'Neighborhood', 'boro_names'])"
   ]
  },
  {
   "cell_type": "code",
   "execution_count": 7,
   "metadata": {},
   "outputs": [
    {
     "data": {
      "text/html": [
       "<div>\n",
       "<style scoped>\n",
       "    .dataframe tbody tr th:only-of-type {\n",
       "        vertical-align: middle;\n",
       "    }\n",
       "\n",
       "    .dataframe tbody tr th {\n",
       "        vertical-align: top;\n",
       "    }\n",
       "\n",
       "    .dataframe thead th {\n",
       "        text-align: right;\n",
       "    }\n",
       "</style>\n",
       "<table border=\"1\" class=\"dataframe\">\n",
       "  <thead>\n",
       "    <tr style=\"text-align: right;\">\n",
       "      <th></th>\n",
       "      <th>Postal_Code</th>\n",
       "      <th>Unit_Type</th>\n",
       "      <th>Address</th>\n",
       "      <th>Cost</th>\n",
       "      <th>Home_Type</th>\n",
       "      <th>Bedroom_Num</th>\n",
       "      <th>Bathroom_Num</th>\n",
       "      <th>Area_SqFt</th>\n",
       "      <th>Neighborhood</th>\n",
       "      <th>boro_names</th>\n",
       "      <th>median_rent</th>\n",
       "      <th>median_income</th>\n",
       "      <th>car_free_commute</th>\n",
       "      <th>population_density</th>\n",
       "      <th>poverty_rate</th>\n",
       "      <th>crime</th>\n",
       "      <th>subway</th>\n",
       "      <th>park</th>\n",
       "      <th>income_diversity_ratio</th>\n",
       "      <th>labor_force_rate</th>\n",
       "    </tr>\n",
       "  </thead>\n",
       "  <tbody>\n",
       "    <tr>\n",
       "      <th>0</th>\n",
       "      <td>11378.0</td>\n",
       "      <td>1</td>\n",
       "      <td>6155 60th Pl, Maspeth, NY 11378</td>\n",
       "      <td>2650.0</td>\n",
       "      <td>1</td>\n",
       "      <td>3.0</td>\n",
       "      <td>1.0</td>\n",
       "      <td>1375.0</td>\n",
       "      <td>1</td>\n",
       "      <td>1</td>\n",
       "      <td>2543.07</td>\n",
       "      <td>54870.01</td>\n",
       "      <td>0.78</td>\n",
       "      <td>22.53</td>\n",
       "      <td>0.14</td>\n",
       "      <td>1.766784</td>\n",
       "      <td>0.89</td>\n",
       "      <td>0.79</td>\n",
       "      <td>4.07</td>\n",
       "      <td>0.67</td>\n",
       "    </tr>\n",
       "    <tr>\n",
       "      <th>1</th>\n",
       "      <td>11361.0</td>\n",
       "      <td>2</td>\n",
       "      <td>217th St, Bayside, NY 11361</td>\n",
       "      <td>1250.0</td>\n",
       "      <td>2</td>\n",
       "      <td>0.0</td>\n",
       "      <td>1.0</td>\n",
       "      <td>550.0</td>\n",
       "      <td>2</td>\n",
       "      <td>1</td>\n",
       "      <td>1962.32</td>\n",
       "      <td>61084.74</td>\n",
       "      <td>0.34</td>\n",
       "      <td>12.87</td>\n",
       "      <td>0.07</td>\n",
       "      <td>1.088525</td>\n",
       "      <td>0.21</td>\n",
       "      <td>0.69</td>\n",
       "      <td>4.25</td>\n",
       "      <td>0.63</td>\n",
       "    </tr>\n",
       "    <tr>\n",
       "      <th>2</th>\n",
       "      <td>10001.0</td>\n",
       "      <td>1</td>\n",
       "      <td>247 W 26th St APT 5B, New York, NY 10001</td>\n",
       "      <td>2500.0</td>\n",
       "      <td>3</td>\n",
       "      <td>1.0</td>\n",
       "      <td>1.0</td>\n",
       "      <td>500.0</td>\n",
       "      <td>3</td>\n",
       "      <td>2</td>\n",
       "      <td>3545.57</td>\n",
       "      <td>82393.55</td>\n",
       "      <td>0.89</td>\n",
       "      <td>47.01</td>\n",
       "      <td>0.13</td>\n",
       "      <td>4.959078</td>\n",
       "      <td>0.97</td>\n",
       "      <td>0.71</td>\n",
       "      <td>7.32</td>\n",
       "      <td>0.76</td>\n",
       "    </tr>\n",
       "    <tr>\n",
       "      <th>3</th>\n",
       "      <td>10001.0</td>\n",
       "      <td>1</td>\n",
       "      <td>358 W 30th St APT 2B, New York, NY 10001</td>\n",
       "      <td>2350.0</td>\n",
       "      <td>3</td>\n",
       "      <td>0.0</td>\n",
       "      <td>1.0</td>\n",
       "      <td>NaN</td>\n",
       "      <td>3</td>\n",
       "      <td>2</td>\n",
       "      <td>3545.57</td>\n",
       "      <td>82393.55</td>\n",
       "      <td>0.89</td>\n",
       "      <td>47.01</td>\n",
       "      <td>0.13</td>\n",
       "      <td>4.959078</td>\n",
       "      <td>0.97</td>\n",
       "      <td>0.71</td>\n",
       "      <td>7.32</td>\n",
       "      <td>0.76</td>\n",
       "    </tr>\n",
       "    <tr>\n",
       "      <th>4</th>\n",
       "      <td>10001.0</td>\n",
       "      <td>1</td>\n",
       "      <td>420 W 25th St APT 7K, New York, NY 10001</td>\n",
       "      <td>5900.0</td>\n",
       "      <td>3</td>\n",
       "      <td>1.0</td>\n",
       "      <td>1.0</td>\n",
       "      <td>893.0</td>\n",
       "      <td>3</td>\n",
       "      <td>2</td>\n",
       "      <td>3545.57</td>\n",
       "      <td>82393.55</td>\n",
       "      <td>0.89</td>\n",
       "      <td>47.01</td>\n",
       "      <td>0.13</td>\n",
       "      <td>4.959078</td>\n",
       "      <td>0.97</td>\n",
       "      <td>0.71</td>\n",
       "      <td>7.32</td>\n",
       "      <td>0.76</td>\n",
       "    </tr>\n",
       "  </tbody>\n",
       "</table>\n",
       "</div>"
      ],
      "text/plain": [
       "   Postal_Code  Unit_Type                                   Address    Cost  \\\n",
       "0      11378.0          1           6155 60th Pl, Maspeth, NY 11378  2650.0   \n",
       "1      11361.0          2               217th St, Bayside, NY 11361  1250.0   \n",
       "2      10001.0          1  247 W 26th St APT 5B, New York, NY 10001  2500.0   \n",
       "3      10001.0          1  358 W 30th St APT 2B, New York, NY 10001  2350.0   \n",
       "4      10001.0          1  420 W 25th St APT 7K, New York, NY 10001  5900.0   \n",
       "\n",
       "   Home_Type  Bedroom_Num  Bathroom_Num  Area_SqFt  Neighborhood  boro_names  \\\n",
       "0          1          3.0           1.0     1375.0             1           1   \n",
       "1          2          0.0           1.0      550.0             2           1   \n",
       "2          3          1.0           1.0      500.0             3           2   \n",
       "3          3          0.0           1.0        NaN             3           2   \n",
       "4          3          1.0           1.0      893.0             3           2   \n",
       "\n",
       "   median_rent  median_income  car_free_commute  population_density  \\\n",
       "0      2543.07       54870.01              0.78               22.53   \n",
       "1      1962.32       61084.74              0.34               12.87   \n",
       "2      3545.57       82393.55              0.89               47.01   \n",
       "3      3545.57       82393.55              0.89               47.01   \n",
       "4      3545.57       82393.55              0.89               47.01   \n",
       "\n",
       "   poverty_rate     crime  subway  park  income_diversity_ratio  \\\n",
       "0          0.14  1.766784    0.89  0.79                    4.07   \n",
       "1          0.07  1.088525    0.21  0.69                    4.25   \n",
       "2          0.13  4.959078    0.97  0.71                    7.32   \n",
       "3          0.13  4.959078    0.97  0.71                    7.32   \n",
       "4          0.13  4.959078    0.97  0.71                    7.32   \n",
       "\n",
       "   labor_force_rate  \n",
       "0              0.67  \n",
       "1              0.63  \n",
       "2              0.76  \n",
       "3              0.76  \n",
       "4              0.76  "
      ]
     },
     "execution_count": 7,
     "metadata": {},
     "output_type": "execute_result"
    }
   ],
   "source": [
    "df_ord = ce_ord.fit_transform(df)\n",
    "df_ord.head()"
   ]
  },
  {
   "cell_type": "code",
   "execution_count": 8,
   "metadata": {},
   "outputs": [
    {
     "data": {
      "text/plain": [
       "[{'col': 'Unit_Type',\n",
       "  'mapping': 1.0    1\n",
       "  2.0    2\n",
       "  3.0    3\n",
       "  4.0    4\n",
       "  5.0    5\n",
       "  NaN   -2\n",
       "  dtype: int64,\n",
       "  'data_type': dtype('int32')},\n",
       " {'col': 'Home_Type',\n",
       "  'mapping': 1.0    1\n",
       "  2.0    2\n",
       "  3.0    3\n",
       "  4.0    4\n",
       "  5.0    5\n",
       "  NaN   -2\n",
       "  dtype: int64,\n",
       "  'data_type': dtype('int32')},\n",
       " {'col': 'Neighborhood',\n",
       "  'mapping': 1.0      1\n",
       "  2.0      2\n",
       "  3.0      3\n",
       "  4.0      4\n",
       "  5.0      5\n",
       "  6.0      6\n",
       "  7.0      7\n",
       "  8.0      8\n",
       "  9.0      9\n",
       "  10.0    10\n",
       "  11.0    11\n",
       "  12.0    12\n",
       "  13.0    13\n",
       "  14.0    14\n",
       "  15.0    15\n",
       "  16.0    16\n",
       "  17.0    17\n",
       "  18.0    18\n",
       "  19.0    19\n",
       "  20.0    20\n",
       "  21.0    21\n",
       "  22.0    22\n",
       "  23.0    23\n",
       "  24.0    24\n",
       "  25.0    25\n",
       "  26.0    26\n",
       "  27.0    27\n",
       "  28.0    28\n",
       "  29.0    29\n",
       "  30.0    30\n",
       "  31.0    31\n",
       "  32.0    32\n",
       "  33.0    33\n",
       "  34.0    34\n",
       "  35.0    35\n",
       "  36.0    36\n",
       "  37.0    37\n",
       "  38.0    38\n",
       "  39.0    39\n",
       "  40.0    40\n",
       "  41.0    41\n",
       "  42.0    42\n",
       "  43.0    43\n",
       "  44.0    44\n",
       "  45.0    45\n",
       "  46.0    46\n",
       "  47.0    47\n",
       "  48.0    48\n",
       "  49.0    49\n",
       "  50.0    50\n",
       "  51.0    51\n",
       "  52.0    52\n",
       "  NaN     -2\n",
       "  dtype: int64,\n",
       "  'data_type': dtype('int32')},\n",
       " {'col': 'boro_names',\n",
       "  'mapping': 1.0    1\n",
       "  2.0    2\n",
       "  3.0    3\n",
       "  4.0    4\n",
       "  5.0    5\n",
       "  NaN   -2\n",
       "  dtype: int64,\n",
       "  'data_type': dtype('int32')}]"
      ]
     },
     "execution_count": 8,
     "metadata": {},
     "output_type": "execute_result"
    }
   ],
   "source": [
    "ce_ord.category_mapping"
   ]
  },
  {
   "cell_type": "code",
   "execution_count": 9,
   "metadata": {},
   "outputs": [],
   "source": [
    "df_ord.to_pickle('df')"
   ]
  },
  {
   "cell_type": "markdown",
   "metadata": {},
   "source": [
    "## 3. Missing Data"
   ]
  },
  {
   "cell_type": "markdown",
   "metadata": {},
   "source": [
    "- **BATHROOM MISSING DATA**\n",
    "- **AREA MISSING DATA**\n",
    "\n",
    "Unsure whether to add this data now, or after in a machine learning pipeline"
   ]
  },
  {
   "cell_type": "markdown",
   "metadata": {},
   "source": [
    "## 4. Train / Test Split"
   ]
  },
  {
   "cell_type": "code",
   "execution_count": 10,
   "metadata": {},
   "outputs": [
    {
     "data": {
      "text/plain": [
       "((5140, 18), (5140,))"
      ]
     },
     "execution_count": 10,
     "metadata": {},
     "output_type": "execute_result"
    }
   ],
   "source": [
    "X = df_ord.drop(columns = ['Address', 'Cost'])\n",
    "y = df_ord.Cost\n",
    "X.shape, y.shape"
   ]
  },
  {
   "cell_type": "code",
   "execution_count": 11,
   "metadata": {},
   "outputs": [],
   "source": [
    "from sklearn.model_selection import train_test_split\n",
    "\n",
    "X_train, X_test, y_train, y_test = train_test_split(X, y, \n",
    "                                                    test_size=0.3, \n",
    "                                                    random_state=47)"
   ]
  },
  {
   "cell_type": "code",
   "execution_count": 12,
   "metadata": {},
   "outputs": [
    {
     "data": {
      "text/plain": [
       "((3598, 18), (1542, 18))"
      ]
     },
     "execution_count": 12,
     "metadata": {},
     "output_type": "execute_result"
    }
   ],
   "source": [
    "X_train.shape, X_test.shape"
   ]
  },
  {
   "cell_type": "code",
   "execution_count": 13,
   "metadata": {},
   "outputs": [
    {
     "data": {
      "text/plain": [
       "((3598,), (1542,))"
      ]
     },
     "execution_count": 13,
     "metadata": {},
     "output_type": "execute_result"
    }
   ],
   "source": [
    "y_train.shape, y_test.shape"
   ]
  },
  {
   "cell_type": "markdown",
   "metadata": {},
   "source": [
    "### 4.1 Scaling the Data"
   ]
  },
  {
   "cell_type": "code",
   "execution_count": 14,
   "metadata": {},
   "outputs": [],
   "source": [
    "scaler = StandardScaler()\n",
    "\n",
    "X_tr_scaled = scaler.fit_transform(X_train)\n",
    "X_te_scaled = scaler.fit_transform(X_test)\n",
    "\n",
    "# When should I be sclaing my data, encoding my data, filling in missing values? Is there a \"correct order\" order? "
   ]
  }
 ],
 "metadata": {
  "kernelspec": {
   "display_name": "Python 3",
   "language": "python",
   "name": "python3"
  },
  "language_info": {
   "codemirror_mode": {
    "name": "ipython",
    "version": 3
   },
   "file_extension": ".py",
   "mimetype": "text/x-python",
   "name": "python",
   "nbconvert_exporter": "python",
   "pygments_lexer": "ipython3",
   "version": "3.8.3"
  }
 },
 "nbformat": 4,
 "nbformat_minor": 4
}
