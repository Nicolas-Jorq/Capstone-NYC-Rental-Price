{
 "cells": [
  {
   "cell_type": "code",
   "execution_count": 1,
   "metadata": {},
   "outputs": [],
   "source": [
    "import pandas as pd\n",
    "import numpy as np\n",
    "import os\n",
    "import matplotlib.pyplot as plt\n",
    "import seaborn as sns\n",
    "from sklearn.preprocessing import StandardScaler"
   ]
  },
  {
   "cell_type": "markdown",
   "metadata": {},
   "source": [
    "## 1. Loading the Data"
   ]
  },
  {
   "cell_type": "markdown",
   "metadata": {},
   "source": [
    "### 1.1 Combined DataSet"
   ]
  },
  {
   "cell_type": "code",
   "execution_count": 2,
   "metadata": {},
   "outputs": [
    {
     "data": {
      "text/html": [
       "<div>\n",
       "<style scoped>\n",
       "    .dataframe tbody tr th:only-of-type {\n",
       "        vertical-align: middle;\n",
       "    }\n",
       "\n",
       "    .dataframe tbody tr th {\n",
       "        vertical-align: top;\n",
       "    }\n",
       "\n",
       "    .dataframe thead th {\n",
       "        text-align: right;\n",
       "    }\n",
       "</style>\n",
       "<table border=\"1\" class=\"dataframe\">\n",
       "  <thead>\n",
       "    <tr style=\"text-align: right;\">\n",
       "      <th></th>\n",
       "      <th>Postal_Code</th>\n",
       "      <th>Unit_Type</th>\n",
       "      <th>Address</th>\n",
       "      <th>Cost</th>\n",
       "      <th>Home_Type</th>\n",
       "      <th>Bedroom_Num</th>\n",
       "      <th>Bathroom_Num</th>\n",
       "      <th>Area_SqFt</th>\n",
       "      <th>Neighborhood</th>\n",
       "      <th>boro_names</th>\n",
       "      <th>median_rent</th>\n",
       "      <th>median_income</th>\n",
       "      <th>car_free_commute</th>\n",
       "      <th>population_density</th>\n",
       "      <th>poverty_rate</th>\n",
       "      <th>crime</th>\n",
       "      <th>subway</th>\n",
       "      <th>park</th>\n",
       "      <th>income_diversity_ratio</th>\n",
       "      <th>labor_force_rate</th>\n",
       "    </tr>\n",
       "  </thead>\n",
       "  <tbody>\n",
       "    <tr>\n",
       "      <th>0</th>\n",
       "      <td>11378.0</td>\n",
       "      <td>Apartment for rent</td>\n",
       "      <td>6155 60th Pl, Maspeth, NY 11378</td>\n",
       "      <td>2650.0</td>\n",
       "      <td>APARTMENT</td>\n",
       "      <td>3.0</td>\n",
       "      <td>1.0</td>\n",
       "      <td>1375.0</td>\n",
       "      <td>Sunnyside/Woodside</td>\n",
       "      <td>Queens</td>\n",
       "      <td>2543.07</td>\n",
       "      <td>54870.01</td>\n",
       "      <td>0.78</td>\n",
       "      <td>22.53</td>\n",
       "      <td>0.14</td>\n",
       "      <td>1.766784</td>\n",
       "      <td>0.89</td>\n",
       "      <td>0.79</td>\n",
       "      <td>4.07</td>\n",
       "      <td>0.67</td>\n",
       "    </tr>\n",
       "    <tr>\n",
       "      <th>1</th>\n",
       "      <td>11361.0</td>\n",
       "      <td>House for rent</td>\n",
       "      <td>217th St, Bayside, NY 11361</td>\n",
       "      <td>1250.0</td>\n",
       "      <td>HOUSE- SINGLE FAMILY</td>\n",
       "      <td>0.0</td>\n",
       "      <td>1.0</td>\n",
       "      <td>550.0</td>\n",
       "      <td>Bayside/Little Neck</td>\n",
       "      <td>Queens</td>\n",
       "      <td>1962.32</td>\n",
       "      <td>61084.74</td>\n",
       "      <td>0.34</td>\n",
       "      <td>12.87</td>\n",
       "      <td>0.07</td>\n",
       "      <td>1.088525</td>\n",
       "      <td>0.21</td>\n",
       "      <td>0.69</td>\n",
       "      <td>4.25</td>\n",
       "      <td>0.63</td>\n",
       "    </tr>\n",
       "    <tr>\n",
       "      <th>2</th>\n",
       "      <td>10001.0</td>\n",
       "      <td>Apartment for rent</td>\n",
       "      <td>247 W 26th St APT 5B, New York, NY 10001</td>\n",
       "      <td>2500.0</td>\n",
       "      <td>HOUSE- MULTI FAMILY</td>\n",
       "      <td>1.0</td>\n",
       "      <td>1.0</td>\n",
       "      <td>500.0</td>\n",
       "      <td>Chelsea/Clinton/Midtown</td>\n",
       "      <td>Manhattan</td>\n",
       "      <td>3545.57</td>\n",
       "      <td>82393.55</td>\n",
       "      <td>0.89</td>\n",
       "      <td>47.01</td>\n",
       "      <td>0.13</td>\n",
       "      <td>4.959078</td>\n",
       "      <td>0.97</td>\n",
       "      <td>0.71</td>\n",
       "      <td>7.32</td>\n",
       "      <td>0.76</td>\n",
       "    </tr>\n",
       "    <tr>\n",
       "      <th>3</th>\n",
       "      <td>10001.0</td>\n",
       "      <td>Apartment for rent</td>\n",
       "      <td>358 W 30th St APT 2B, New York, NY 10001</td>\n",
       "      <td>2350.0</td>\n",
       "      <td>HOUSE- MULTI FAMILY</td>\n",
       "      <td>0.0</td>\n",
       "      <td>1.0</td>\n",
       "      <td>NaN</td>\n",
       "      <td>Chelsea/Clinton/Midtown</td>\n",
       "      <td>Manhattan</td>\n",
       "      <td>3545.57</td>\n",
       "      <td>82393.55</td>\n",
       "      <td>0.89</td>\n",
       "      <td>47.01</td>\n",
       "      <td>0.13</td>\n",
       "      <td>4.959078</td>\n",
       "      <td>0.97</td>\n",
       "      <td>0.71</td>\n",
       "      <td>7.32</td>\n",
       "      <td>0.76</td>\n",
       "    </tr>\n",
       "    <tr>\n",
       "      <th>4</th>\n",
       "      <td>10001.0</td>\n",
       "      <td>Apartment for rent</td>\n",
       "      <td>420 W 25th St APT 7K, New York, NY 10001</td>\n",
       "      <td>5900.0</td>\n",
       "      <td>HOUSE- MULTI FAMILY</td>\n",
       "      <td>1.0</td>\n",
       "      <td>1.0</td>\n",
       "      <td>893.0</td>\n",
       "      <td>Chelsea/Clinton/Midtown</td>\n",
       "      <td>Manhattan</td>\n",
       "      <td>3545.57</td>\n",
       "      <td>82393.55</td>\n",
       "      <td>0.89</td>\n",
       "      <td>47.01</td>\n",
       "      <td>0.13</td>\n",
       "      <td>4.959078</td>\n",
       "      <td>0.97</td>\n",
       "      <td>0.71</td>\n",
       "      <td>7.32</td>\n",
       "      <td>0.76</td>\n",
       "    </tr>\n",
       "  </tbody>\n",
       "</table>\n",
       "</div>"
      ],
      "text/plain": [
       "   Postal_Code           Unit_Type                                   Address  \\\n",
       "0      11378.0  Apartment for rent           6155 60th Pl, Maspeth, NY 11378   \n",
       "1      11361.0      House for rent               217th St, Bayside, NY 11361   \n",
       "2      10001.0  Apartment for rent  247 W 26th St APT 5B, New York, NY 10001   \n",
       "3      10001.0  Apartment for rent  358 W 30th St APT 2B, New York, NY 10001   \n",
       "4      10001.0  Apartment for rent  420 W 25th St APT 7K, New York, NY 10001   \n",
       "\n",
       "     Cost             Home_Type  Bedroom_Num  Bathroom_Num  Area_SqFt  \\\n",
       "0  2650.0             APARTMENT          3.0           1.0     1375.0   \n",
       "1  1250.0  HOUSE- SINGLE FAMILY          0.0           1.0      550.0   \n",
       "2  2500.0   HOUSE- MULTI FAMILY          1.0           1.0      500.0   \n",
       "3  2350.0   HOUSE- MULTI FAMILY          0.0           1.0        NaN   \n",
       "4  5900.0   HOUSE- MULTI FAMILY          1.0           1.0      893.0   \n",
       "\n",
       "              Neighborhood boro_names  median_rent  median_income  \\\n",
       "0       Sunnyside/Woodside     Queens      2543.07       54870.01   \n",
       "1      Bayside/Little Neck     Queens      1962.32       61084.74   \n",
       "2  Chelsea/Clinton/Midtown  Manhattan      3545.57       82393.55   \n",
       "3  Chelsea/Clinton/Midtown  Manhattan      3545.57       82393.55   \n",
       "4  Chelsea/Clinton/Midtown  Manhattan      3545.57       82393.55   \n",
       "\n",
       "   car_free_commute  population_density  poverty_rate     crime  subway  park  \\\n",
       "0              0.78               22.53          0.14  1.766784    0.89  0.79   \n",
       "1              0.34               12.87          0.07  1.088525    0.21  0.69   \n",
       "2              0.89               47.01          0.13  4.959078    0.97  0.71   \n",
       "3              0.89               47.01          0.13  4.959078    0.97  0.71   \n",
       "4              0.89               47.01          0.13  4.959078    0.97  0.71   \n",
       "\n",
       "   income_diversity_ratio  labor_force_rate  \n",
       "0                    4.07              0.67  \n",
       "1                    4.25              0.63  \n",
       "2                    7.32              0.76  \n",
       "3                    7.32              0.76  \n",
       "4                    7.32              0.76  "
      ]
     },
     "execution_count": 2,
     "metadata": {},
     "output_type": "execute_result"
    }
   ],
   "source": [
    "df = pd.read_pickle('df')\n",
    "df.head()"
   ]
  },
  {
   "cell_type": "code",
   "execution_count": 3,
   "metadata": {},
   "outputs": [
    {
     "name": "stdout",
     "output_type": "stream",
     "text": [
      "<class 'pandas.core.frame.DataFrame'>\n",
      "Int64Index: 5140 entries, 0 to 5322\n",
      "Data columns (total 20 columns):\n",
      " #   Column                  Non-Null Count  Dtype  \n",
      "---  ------                  --------------  -----  \n",
      " 0   Postal_Code             5140 non-null   float64\n",
      " 1   Unit_Type               5140 non-null   object \n",
      " 2   Address                 5140 non-null   object \n",
      " 3   Cost                    5140 non-null   float64\n",
      " 4   Home_Type               5140 non-null   object \n",
      " 5   Bedroom_Num             5140 non-null   float64\n",
      " 6   Bathroom_Num            5071 non-null   float64\n",
      " 7   Area_SqFt               2652 non-null   float64\n",
      " 8   Neighborhood            5140 non-null   object \n",
      " 9   boro_names              5140 non-null   object \n",
      " 10  median_rent             5140 non-null   float64\n",
      " 11  median_income           5140 non-null   float64\n",
      " 12  car_free_commute        5140 non-null   float64\n",
      " 13  population_density      5140 non-null   float64\n",
      " 14  poverty_rate            5140 non-null   float64\n",
      " 15  crime                   5140 non-null   float64\n",
      " 16  subway                  5140 non-null   float64\n",
      " 17  park                    5140 non-null   float64\n",
      " 18  income_diversity_ratio  5140 non-null   float64\n",
      " 19  labor_force_rate        5140 non-null   float64\n",
      "dtypes: float64(15), object(5)\n",
      "memory usage: 843.3+ KB\n"
     ]
    }
   ],
   "source": [
    "df.info()"
   ]
  },
  {
   "cell_type": "code",
   "execution_count": 4,
   "metadata": {},
   "outputs": [
    {
     "data": {
      "text/plain": [
       "(5140, 20)"
      ]
     },
     "execution_count": 4,
     "metadata": {},
     "output_type": "execute_result"
    }
   ],
   "source": [
    "df.shape"
   ]
  },
  {
   "cell_type": "code",
   "execution_count": 10,
   "metadata": {},
   "outputs": [
    {
     "data": {
      "text/html": [
       "<div>\n",
       "<style scoped>\n",
       "    .dataframe tbody tr th:only-of-type {\n",
       "        vertical-align: middle;\n",
       "    }\n",
       "\n",
       "    .dataframe tbody tr th {\n",
       "        vertical-align: top;\n",
       "    }\n",
       "\n",
       "    .dataframe thead th {\n",
       "        text-align: right;\n",
       "    }\n",
       "</style>\n",
       "<table border=\"1\" class=\"dataframe\">\n",
       "  <thead>\n",
       "    <tr style=\"text-align: right;\">\n",
       "      <th></th>\n",
       "      <th>Postal_Code</th>\n",
       "      <th>Unit_Type</th>\n",
       "      <th>Address</th>\n",
       "      <th>Cost</th>\n",
       "      <th>Home_Type</th>\n",
       "      <th>Bedroom_Num</th>\n",
       "      <th>Bathroom_Num</th>\n",
       "      <th>Area_SqFt</th>\n",
       "      <th>Neighborhood</th>\n",
       "      <th>boro_names</th>\n",
       "      <th>median_rent</th>\n",
       "      <th>median_income</th>\n",
       "      <th>car_free_commute</th>\n",
       "      <th>population_density</th>\n",
       "      <th>poverty_rate</th>\n",
       "      <th>crime</th>\n",
       "      <th>subway</th>\n",
       "      <th>park</th>\n",
       "      <th>income_diversity_ratio</th>\n",
       "      <th>labor_force_rate</th>\n",
       "    </tr>\n",
       "  </thead>\n",
       "  <tbody>\n",
       "    <tr>\n",
       "      <th>0</th>\n",
       "      <td>11378.0</td>\n",
       "      <td>Apartment for rent</td>\n",
       "      <td>6155 60th Pl, Maspeth, NY 11378</td>\n",
       "      <td>2650.0</td>\n",
       "      <td>APARTMENT</td>\n",
       "      <td>3.0</td>\n",
       "      <td>1.0</td>\n",
       "      <td>1375.0</td>\n",
       "      <td>Sunnyside/Woodside</td>\n",
       "      <td>Queens</td>\n",
       "      <td>2543.07</td>\n",
       "      <td>54870.01</td>\n",
       "      <td>0.78</td>\n",
       "      <td>22.53</td>\n",
       "      <td>0.14</td>\n",
       "      <td>1.766784</td>\n",
       "      <td>0.89</td>\n",
       "      <td>0.79</td>\n",
       "      <td>4.07</td>\n",
       "      <td>0.67</td>\n",
       "    </tr>\n",
       "    <tr>\n",
       "      <th>1</th>\n",
       "      <td>11361.0</td>\n",
       "      <td>House for rent</td>\n",
       "      <td>217th St, Bayside, NY 11361</td>\n",
       "      <td>1250.0</td>\n",
       "      <td>HOUSE- SINGLE FAMILY</td>\n",
       "      <td>0.0</td>\n",
       "      <td>1.0</td>\n",
       "      <td>550.0</td>\n",
       "      <td>Bayside/Little Neck</td>\n",
       "      <td>Queens</td>\n",
       "      <td>1962.32</td>\n",
       "      <td>61084.74</td>\n",
       "      <td>0.34</td>\n",
       "      <td>12.87</td>\n",
       "      <td>0.07</td>\n",
       "      <td>1.088525</td>\n",
       "      <td>0.21</td>\n",
       "      <td>0.69</td>\n",
       "      <td>4.25</td>\n",
       "      <td>0.63</td>\n",
       "    </tr>\n",
       "    <tr>\n",
       "      <th>2</th>\n",
       "      <td>10001.0</td>\n",
       "      <td>Apartment for rent</td>\n",
       "      <td>247 W 26th St APT 5B, New York, NY 10001</td>\n",
       "      <td>2500.0</td>\n",
       "      <td>HOUSE- MULTI FAMILY</td>\n",
       "      <td>1.0</td>\n",
       "      <td>1.0</td>\n",
       "      <td>500.0</td>\n",
       "      <td>Chelsea/Clinton/Midtown</td>\n",
       "      <td>Manhattan</td>\n",
       "      <td>3545.57</td>\n",
       "      <td>82393.55</td>\n",
       "      <td>0.89</td>\n",
       "      <td>47.01</td>\n",
       "      <td>0.13</td>\n",
       "      <td>4.959078</td>\n",
       "      <td>0.97</td>\n",
       "      <td>0.71</td>\n",
       "      <td>7.32</td>\n",
       "      <td>0.76</td>\n",
       "    </tr>\n",
       "    <tr>\n",
       "      <th>4</th>\n",
       "      <td>10001.0</td>\n",
       "      <td>Apartment for rent</td>\n",
       "      <td>420 W 25th St APT 7K, New York, NY 10001</td>\n",
       "      <td>5900.0</td>\n",
       "      <td>HOUSE- MULTI FAMILY</td>\n",
       "      <td>1.0</td>\n",
       "      <td>1.0</td>\n",
       "      <td>893.0</td>\n",
       "      <td>Chelsea/Clinton/Midtown</td>\n",
       "      <td>Manhattan</td>\n",
       "      <td>3545.57</td>\n",
       "      <td>82393.55</td>\n",
       "      <td>0.89</td>\n",
       "      <td>47.01</td>\n",
       "      <td>0.13</td>\n",
       "      <td>4.959078</td>\n",
       "      <td>0.97</td>\n",
       "      <td>0.71</td>\n",
       "      <td>7.32</td>\n",
       "      <td>0.76</td>\n",
       "    </tr>\n",
       "    <tr>\n",
       "      <th>5</th>\n",
       "      <td>10001.0</td>\n",
       "      <td>Apartment for rent</td>\n",
       "      <td>323 W 30th St APT D4, New York, NY 10001</td>\n",
       "      <td>2380.0</td>\n",
       "      <td>HOUSE- MULTI FAMILY</td>\n",
       "      <td>1.0</td>\n",
       "      <td>1.0</td>\n",
       "      <td>600.0</td>\n",
       "      <td>Chelsea/Clinton/Midtown</td>\n",
       "      <td>Manhattan</td>\n",
       "      <td>3545.57</td>\n",
       "      <td>82393.55</td>\n",
       "      <td>0.89</td>\n",
       "      <td>47.01</td>\n",
       "      <td>0.13</td>\n",
       "      <td>4.959078</td>\n",
       "      <td>0.97</td>\n",
       "      <td>0.71</td>\n",
       "      <td>7.32</td>\n",
       "      <td>0.76</td>\n",
       "    </tr>\n",
       "  </tbody>\n",
       "</table>\n",
       "</div>"
      ],
      "text/plain": [
       "   Postal_Code           Unit_Type                                   Address  \\\n",
       "0      11378.0  Apartment for rent           6155 60th Pl, Maspeth, NY 11378   \n",
       "1      11361.0      House for rent               217th St, Bayside, NY 11361   \n",
       "2      10001.0  Apartment for rent  247 W 26th St APT 5B, New York, NY 10001   \n",
       "4      10001.0  Apartment for rent  420 W 25th St APT 7K, New York, NY 10001   \n",
       "5      10001.0  Apartment for rent  323 W 30th St APT D4, New York, NY 10001   \n",
       "\n",
       "     Cost             Home_Type  Bedroom_Num  Bathroom_Num  Area_SqFt  \\\n",
       "0  2650.0             APARTMENT          3.0           1.0     1375.0   \n",
       "1  1250.0  HOUSE- SINGLE FAMILY          0.0           1.0      550.0   \n",
       "2  2500.0   HOUSE- MULTI FAMILY          1.0           1.0      500.0   \n",
       "4  5900.0   HOUSE- MULTI FAMILY          1.0           1.0      893.0   \n",
       "5  2380.0   HOUSE- MULTI FAMILY          1.0           1.0      600.0   \n",
       "\n",
       "              Neighborhood boro_names  median_rent  median_income  \\\n",
       "0       Sunnyside/Woodside     Queens      2543.07       54870.01   \n",
       "1      Bayside/Little Neck     Queens      1962.32       61084.74   \n",
       "2  Chelsea/Clinton/Midtown  Manhattan      3545.57       82393.55   \n",
       "4  Chelsea/Clinton/Midtown  Manhattan      3545.57       82393.55   \n",
       "5  Chelsea/Clinton/Midtown  Manhattan      3545.57       82393.55   \n",
       "\n",
       "   car_free_commute  population_density  poverty_rate     crime  subway  park  \\\n",
       "0              0.78               22.53          0.14  1.766784    0.89  0.79   \n",
       "1              0.34               12.87          0.07  1.088525    0.21  0.69   \n",
       "2              0.89               47.01          0.13  4.959078    0.97  0.71   \n",
       "4              0.89               47.01          0.13  4.959078    0.97  0.71   \n",
       "5              0.89               47.01          0.13  4.959078    0.97  0.71   \n",
       "\n",
       "   income_diversity_ratio  labor_force_rate  \n",
       "0                    4.07              0.67  \n",
       "1                    4.25              0.63  \n",
       "2                    7.32              0.76  \n",
       "4                    7.32              0.76  \n",
       "5                    7.32              0.76  "
      ]
     },
     "execution_count": 10,
     "metadata": {},
     "output_type": "execute_result"
    }
   ],
   "source": [
    "df.dropna(inplace=True)\n",
    "df.head()"
   ]
  },
  {
   "cell_type": "code",
   "execution_count": 11,
   "metadata": {},
   "outputs": [
    {
     "data": {
      "text/plain": [
       "(2624, 20)"
      ]
     },
     "execution_count": 11,
     "metadata": {},
     "output_type": "execute_result"
    }
   ],
   "source": [
    "df.shape"
   ]
  },
  {
   "cell_type": "markdown",
   "metadata": {},
   "source": [
    "## 2. Encoding the Data - Sample after purposely dropping data with Sq Feet"
   ]
  },
  {
   "cell_type": "code",
   "execution_count": 6,
   "metadata": {},
   "outputs": [],
   "source": [
    "from sklearn.preprocessing import OneHotEncoder"
   ]
  },
  {
   "cell_type": "code",
   "execution_count": 14,
   "metadata": {},
   "outputs": [],
   "source": [
    "ohe = OneHotEncoder(sparse=False)"
   ]
  },
  {
   "cell_type": "code",
   "execution_count": 13,
   "metadata": {},
   "outputs": [
    {
     "ename": "ValueError",
     "evalue": "Expected 2D array, got 1D array instead:\narray=['Sunnyside/Woodside' 'Bayside/Little Neck' 'Chelsea/Clinton/Midtown' ...\n 'Rockaways' 'Rockaways' 'Rockaways'].\nReshape your data either using array.reshape(-1, 1) if your data has a single feature or array.reshape(1, -1) if it contains a single sample.",
     "output_type": "error",
     "traceback": [
      "\u001b[1;31m---------------------------------------------------------------------------\u001b[0m",
      "\u001b[1;31mValueError\u001b[0m                                Traceback (most recent call last)",
      "\u001b[1;32m<ipython-input-13-58b41cc9913f>\u001b[0m in \u001b[0;36m<module>\u001b[1;34m\u001b[0m\n\u001b[1;32m----> 1\u001b[1;33m \u001b[0mdf_ord\u001b[0m \u001b[1;33m=\u001b[0m \u001b[0mce_ord\u001b[0m\u001b[1;33m.\u001b[0m\u001b[0mfit_transform\u001b[0m\u001b[1;33m(\u001b[0m\u001b[0mdf\u001b[0m\u001b[1;33m[\u001b[0m\u001b[1;34m'Neighborhood'\u001b[0m\u001b[1;33m]\u001b[0m\u001b[1;33m)\u001b[0m\u001b[1;33m\u001b[0m\u001b[1;33m\u001b[0m\u001b[0m\n\u001b[0m\u001b[0;32m      2\u001b[0m \u001b[0mdf_ord\u001b[0m\u001b[1;33m.\u001b[0m\u001b[0mhead\u001b[0m\u001b[1;33m(\u001b[0m\u001b[1;33m)\u001b[0m\u001b[1;33m\u001b[0m\u001b[1;33m\u001b[0m\u001b[0m\n",
      "\u001b[1;32m~\\anaconda3\\lib\\site-packages\\sklearn\\preprocessing\\_encoders.py\u001b[0m in \u001b[0;36mfit_transform\u001b[1;34m(self, X, y)\u001b[0m\n\u001b[0;32m    408\u001b[0m         \"\"\"\n\u001b[0;32m    409\u001b[0m         \u001b[0mself\u001b[0m\u001b[1;33m.\u001b[0m\u001b[0m_validate_keywords\u001b[0m\u001b[1;33m(\u001b[0m\u001b[1;33m)\u001b[0m\u001b[1;33m\u001b[0m\u001b[1;33m\u001b[0m\u001b[0m\n\u001b[1;32m--> 410\u001b[1;33m         \u001b[1;32mreturn\u001b[0m \u001b[0msuper\u001b[0m\u001b[1;33m(\u001b[0m\u001b[1;33m)\u001b[0m\u001b[1;33m.\u001b[0m\u001b[0mfit_transform\u001b[0m\u001b[1;33m(\u001b[0m\u001b[0mX\u001b[0m\u001b[1;33m,\u001b[0m \u001b[0my\u001b[0m\u001b[1;33m)\u001b[0m\u001b[1;33m\u001b[0m\u001b[1;33m\u001b[0m\u001b[0m\n\u001b[0m\u001b[0;32m    411\u001b[0m \u001b[1;33m\u001b[0m\u001b[0m\n\u001b[0;32m    412\u001b[0m     \u001b[1;32mdef\u001b[0m \u001b[0mtransform\u001b[0m\u001b[1;33m(\u001b[0m\u001b[0mself\u001b[0m\u001b[1;33m,\u001b[0m \u001b[0mX\u001b[0m\u001b[1;33m)\u001b[0m\u001b[1;33m:\u001b[0m\u001b[1;33m\u001b[0m\u001b[1;33m\u001b[0m\u001b[0m\n",
      "\u001b[1;32m~\\anaconda3\\lib\\site-packages\\sklearn\\base.py\u001b[0m in \u001b[0;36mfit_transform\u001b[1;34m(self, X, y, **fit_params)\u001b[0m\n\u001b[0;32m    688\u001b[0m         \u001b[1;32mif\u001b[0m \u001b[0my\u001b[0m \u001b[1;32mis\u001b[0m \u001b[1;32mNone\u001b[0m\u001b[1;33m:\u001b[0m\u001b[1;33m\u001b[0m\u001b[1;33m\u001b[0m\u001b[0m\n\u001b[0;32m    689\u001b[0m             \u001b[1;31m# fit method of arity 1 (unsupervised transformation)\u001b[0m\u001b[1;33m\u001b[0m\u001b[1;33m\u001b[0m\u001b[1;33m\u001b[0m\u001b[0m\n\u001b[1;32m--> 690\u001b[1;33m             \u001b[1;32mreturn\u001b[0m \u001b[0mself\u001b[0m\u001b[1;33m.\u001b[0m\u001b[0mfit\u001b[0m\u001b[1;33m(\u001b[0m\u001b[0mX\u001b[0m\u001b[1;33m,\u001b[0m \u001b[1;33m**\u001b[0m\u001b[0mfit_params\u001b[0m\u001b[1;33m)\u001b[0m\u001b[1;33m.\u001b[0m\u001b[0mtransform\u001b[0m\u001b[1;33m(\u001b[0m\u001b[0mX\u001b[0m\u001b[1;33m)\u001b[0m\u001b[1;33m\u001b[0m\u001b[1;33m\u001b[0m\u001b[0m\n\u001b[0m\u001b[0;32m    691\u001b[0m         \u001b[1;32melse\u001b[0m\u001b[1;33m:\u001b[0m\u001b[1;33m\u001b[0m\u001b[1;33m\u001b[0m\u001b[0m\n\u001b[0;32m    692\u001b[0m             \u001b[1;31m# fit method of arity 2 (supervised transformation)\u001b[0m\u001b[1;33m\u001b[0m\u001b[1;33m\u001b[0m\u001b[1;33m\u001b[0m\u001b[0m\n",
      "\u001b[1;32m~\\anaconda3\\lib\\site-packages\\sklearn\\preprocessing\\_encoders.py\u001b[0m in \u001b[0;36mfit\u001b[1;34m(self, X, y)\u001b[0m\n\u001b[0;32m    383\u001b[0m         \"\"\"\n\u001b[0;32m    384\u001b[0m         \u001b[0mself\u001b[0m\u001b[1;33m.\u001b[0m\u001b[0m_validate_keywords\u001b[0m\u001b[1;33m(\u001b[0m\u001b[1;33m)\u001b[0m\u001b[1;33m\u001b[0m\u001b[1;33m\u001b[0m\u001b[0m\n\u001b[1;32m--> 385\u001b[1;33m         \u001b[0mself\u001b[0m\u001b[1;33m.\u001b[0m\u001b[0m_fit\u001b[0m\u001b[1;33m(\u001b[0m\u001b[0mX\u001b[0m\u001b[1;33m,\u001b[0m \u001b[0mhandle_unknown\u001b[0m\u001b[1;33m=\u001b[0m\u001b[0mself\u001b[0m\u001b[1;33m.\u001b[0m\u001b[0mhandle_unknown\u001b[0m\u001b[1;33m)\u001b[0m\u001b[1;33m\u001b[0m\u001b[1;33m\u001b[0m\u001b[0m\n\u001b[0m\u001b[0;32m    386\u001b[0m         \u001b[0mself\u001b[0m\u001b[1;33m.\u001b[0m\u001b[0mdrop_idx_\u001b[0m \u001b[1;33m=\u001b[0m \u001b[0mself\u001b[0m\u001b[1;33m.\u001b[0m\u001b[0m_compute_drop_idx\u001b[0m\u001b[1;33m(\u001b[0m\u001b[1;33m)\u001b[0m\u001b[1;33m\u001b[0m\u001b[1;33m\u001b[0m\u001b[0m\n\u001b[0;32m    387\u001b[0m         \u001b[1;32mreturn\u001b[0m \u001b[0mself\u001b[0m\u001b[1;33m\u001b[0m\u001b[1;33m\u001b[0m\u001b[0m\n",
      "\u001b[1;32m~\\anaconda3\\lib\\site-packages\\sklearn\\preprocessing\\_encoders.py\u001b[0m in \u001b[0;36m_fit\u001b[1;34m(self, X, handle_unknown)\u001b[0m\n\u001b[0;32m     72\u001b[0m \u001b[1;33m\u001b[0m\u001b[0m\n\u001b[0;32m     73\u001b[0m     \u001b[1;32mdef\u001b[0m \u001b[0m_fit\u001b[0m\u001b[1;33m(\u001b[0m\u001b[0mself\u001b[0m\u001b[1;33m,\u001b[0m \u001b[0mX\u001b[0m\u001b[1;33m,\u001b[0m \u001b[0mhandle_unknown\u001b[0m\u001b[1;33m=\u001b[0m\u001b[1;34m'error'\u001b[0m\u001b[1;33m)\u001b[0m\u001b[1;33m:\u001b[0m\u001b[1;33m\u001b[0m\u001b[1;33m\u001b[0m\u001b[0m\n\u001b[1;32m---> 74\u001b[1;33m         \u001b[0mX_list\u001b[0m\u001b[1;33m,\u001b[0m \u001b[0mn_samples\u001b[0m\u001b[1;33m,\u001b[0m \u001b[0mn_features\u001b[0m \u001b[1;33m=\u001b[0m \u001b[0mself\u001b[0m\u001b[1;33m.\u001b[0m\u001b[0m_check_X\u001b[0m\u001b[1;33m(\u001b[0m\u001b[0mX\u001b[0m\u001b[1;33m)\u001b[0m\u001b[1;33m\u001b[0m\u001b[1;33m\u001b[0m\u001b[0m\n\u001b[0m\u001b[0;32m     75\u001b[0m \u001b[1;33m\u001b[0m\u001b[0m\n\u001b[0;32m     76\u001b[0m         \u001b[1;32mif\u001b[0m \u001b[0mself\u001b[0m\u001b[1;33m.\u001b[0m\u001b[0mcategories\u001b[0m \u001b[1;33m!=\u001b[0m \u001b[1;34m'auto'\u001b[0m\u001b[1;33m:\u001b[0m\u001b[1;33m\u001b[0m\u001b[1;33m\u001b[0m\u001b[0m\n",
      "\u001b[1;32m~\\anaconda3\\lib\\site-packages\\sklearn\\preprocessing\\_encoders.py\u001b[0m in \u001b[0;36m_check_X\u001b[1;34m(self, X)\u001b[0m\n\u001b[0;32m     41\u001b[0m         \u001b[1;32mif\u001b[0m \u001b[1;32mnot\u001b[0m \u001b[1;33m(\u001b[0m\u001b[0mhasattr\u001b[0m\u001b[1;33m(\u001b[0m\u001b[0mX\u001b[0m\u001b[1;33m,\u001b[0m \u001b[1;34m'iloc'\u001b[0m\u001b[1;33m)\u001b[0m \u001b[1;32mand\u001b[0m \u001b[0mgetattr\u001b[0m\u001b[1;33m(\u001b[0m\u001b[0mX\u001b[0m\u001b[1;33m,\u001b[0m \u001b[1;34m'ndim'\u001b[0m\u001b[1;33m,\u001b[0m \u001b[1;36m0\u001b[0m\u001b[1;33m)\u001b[0m \u001b[1;33m==\u001b[0m \u001b[1;36m2\u001b[0m\u001b[1;33m)\u001b[0m\u001b[1;33m:\u001b[0m\u001b[1;33m\u001b[0m\u001b[1;33m\u001b[0m\u001b[0m\n\u001b[0;32m     42\u001b[0m             \u001b[1;31m# if not a dataframe, do normal check_array validation\u001b[0m\u001b[1;33m\u001b[0m\u001b[1;33m\u001b[0m\u001b[1;33m\u001b[0m\u001b[0m\n\u001b[1;32m---> 43\u001b[1;33m             \u001b[0mX_temp\u001b[0m \u001b[1;33m=\u001b[0m \u001b[0mcheck_array\u001b[0m\u001b[1;33m(\u001b[0m\u001b[0mX\u001b[0m\u001b[1;33m,\u001b[0m \u001b[0mdtype\u001b[0m\u001b[1;33m=\u001b[0m\u001b[1;32mNone\u001b[0m\u001b[1;33m)\u001b[0m\u001b[1;33m\u001b[0m\u001b[1;33m\u001b[0m\u001b[0m\n\u001b[0m\u001b[0;32m     44\u001b[0m             if (not hasattr(X, 'dtype')\n\u001b[0;32m     45\u001b[0m                     and np.issubdtype(X_temp.dtype, np.str_)):\n",
      "\u001b[1;32m~\\anaconda3\\lib\\site-packages\\sklearn\\utils\\validation.py\u001b[0m in \u001b[0;36minner_f\u001b[1;34m(*args, **kwargs)\u001b[0m\n\u001b[0;32m     71\u001b[0m                           FutureWarning)\n\u001b[0;32m     72\u001b[0m         \u001b[0mkwargs\u001b[0m\u001b[1;33m.\u001b[0m\u001b[0mupdate\u001b[0m\u001b[1;33m(\u001b[0m\u001b[1;33m{\u001b[0m\u001b[0mk\u001b[0m\u001b[1;33m:\u001b[0m \u001b[0marg\u001b[0m \u001b[1;32mfor\u001b[0m \u001b[0mk\u001b[0m\u001b[1;33m,\u001b[0m \u001b[0marg\u001b[0m \u001b[1;32min\u001b[0m \u001b[0mzip\u001b[0m\u001b[1;33m(\u001b[0m\u001b[0msig\u001b[0m\u001b[1;33m.\u001b[0m\u001b[0mparameters\u001b[0m\u001b[1;33m,\u001b[0m \u001b[0margs\u001b[0m\u001b[1;33m)\u001b[0m\u001b[1;33m}\u001b[0m\u001b[1;33m)\u001b[0m\u001b[1;33m\u001b[0m\u001b[1;33m\u001b[0m\u001b[0m\n\u001b[1;32m---> 73\u001b[1;33m         \u001b[1;32mreturn\u001b[0m \u001b[0mf\u001b[0m\u001b[1;33m(\u001b[0m\u001b[1;33m**\u001b[0m\u001b[0mkwargs\u001b[0m\u001b[1;33m)\u001b[0m\u001b[1;33m\u001b[0m\u001b[1;33m\u001b[0m\u001b[0m\n\u001b[0m\u001b[0;32m     74\u001b[0m     \u001b[1;32mreturn\u001b[0m \u001b[0minner_f\u001b[0m\u001b[1;33m\u001b[0m\u001b[1;33m\u001b[0m\u001b[0m\n\u001b[0;32m     75\u001b[0m \u001b[1;33m\u001b[0m\u001b[0m\n",
      "\u001b[1;32m~\\anaconda3\\lib\\site-packages\\sklearn\\utils\\validation.py\u001b[0m in \u001b[0;36mcheck_array\u001b[1;34m(array, accept_sparse, accept_large_sparse, dtype, order, copy, force_all_finite, ensure_2d, allow_nd, ensure_min_samples, ensure_min_features, estimator)\u001b[0m\n\u001b[0;32m    618\u001b[0m             \u001b[1;31m# If input is 1D raise error\u001b[0m\u001b[1;33m\u001b[0m\u001b[1;33m\u001b[0m\u001b[1;33m\u001b[0m\u001b[0m\n\u001b[0;32m    619\u001b[0m             \u001b[1;32mif\u001b[0m \u001b[0marray\u001b[0m\u001b[1;33m.\u001b[0m\u001b[0mndim\u001b[0m \u001b[1;33m==\u001b[0m \u001b[1;36m1\u001b[0m\u001b[1;33m:\u001b[0m\u001b[1;33m\u001b[0m\u001b[1;33m\u001b[0m\u001b[0m\n\u001b[1;32m--> 620\u001b[1;33m                 raise ValueError(\n\u001b[0m\u001b[0;32m    621\u001b[0m                     \u001b[1;34m\"Expected 2D array, got 1D array instead:\\narray={}.\\n\"\u001b[0m\u001b[1;33m\u001b[0m\u001b[1;33m\u001b[0m\u001b[0m\n\u001b[0;32m    622\u001b[0m                     \u001b[1;34m\"Reshape your data either using array.reshape(-1, 1) if \"\u001b[0m\u001b[1;33m\u001b[0m\u001b[1;33m\u001b[0m\u001b[0m\n",
      "\u001b[1;31mValueError\u001b[0m: Expected 2D array, got 1D array instead:\narray=['Sunnyside/Woodside' 'Bayside/Little Neck' 'Chelsea/Clinton/Midtown' ...\n 'Rockaways' 'Rockaways' 'Rockaways'].\nReshape your data either using array.reshape(-1, 1) if your data has a single feature or array.reshape(1, -1) if it contains a single sample."
     ]
    }
   ],
   "source": [
    "df_ord = ohe.fit_transform(df['Neighborhood'])\n",
    "df_ord.head()"
   ]
  },
  {
   "cell_type": "code",
   "execution_count": null,
   "metadata": {},
   "outputs": [],
   "source": [
    "ce_ord.category_mapping"
   ]
  },
  {
   "cell_type": "code",
   "execution_count": null,
   "metadata": {},
   "outputs": [],
   "source": [
    "df_ord.to_pickle('df')"
   ]
  },
  {
   "cell_type": "markdown",
   "metadata": {},
   "source": [
    "## 3. Missing Data"
   ]
  },
  {
   "cell_type": "markdown",
   "metadata": {},
   "source": [
    "- **BATHROOM MISSING DATA**\n",
    "- **AREA MISSING DATA**\n",
    "\n",
    "Unsure whether to add this data now, or after in a machine learning pipeline"
   ]
  },
  {
   "cell_type": "markdown",
   "metadata": {},
   "source": [
    "## 4. Train / Test Split"
   ]
  },
  {
   "cell_type": "code",
   "execution_count": null,
   "metadata": {},
   "outputs": [],
   "source": [
    "X = df_ord.drop(columns = ['Address', 'Cost'])\n",
    "y = df_ord.Cost\n",
    "X.shape, y.shape"
   ]
  },
  {
   "cell_type": "code",
   "execution_count": null,
   "metadata": {},
   "outputs": [],
   "source": [
    "from sklearn.model_selection import train_test_split\n",
    "\n",
    "X_train, X_test, y_train, y_test = train_test_split(X, y, \n",
    "                                                    test_size=0.3, \n",
    "                                                    random_state=47)"
   ]
  },
  {
   "cell_type": "code",
   "execution_count": null,
   "metadata": {},
   "outputs": [],
   "source": [
    "X_train.shape, X_test.shape"
   ]
  },
  {
   "cell_type": "code",
   "execution_count": null,
   "metadata": {},
   "outputs": [],
   "source": [
    "y_train.shape, y_test.shape"
   ]
  },
  {
   "cell_type": "markdown",
   "metadata": {},
   "source": [
    "### 4.1 Scaling the Data"
   ]
  },
  {
   "cell_type": "code",
   "execution_count": null,
   "metadata": {},
   "outputs": [],
   "source": [
    "scaler = StandardScaler()\n",
    "\n",
    "X_tr_scaled = scaler.fit_transform(X_train)\n",
    "X_te_scaled = scaler.fit_transform(X_test)\n",
    "\n",
    "# When should I be sclaing my data, encoding my data, filling in missing values? Is there a \"correct order\" order? "
   ]
  }
 ],
 "metadata": {
  "kernelspec": {
   "display_name": "Python 3",
   "language": "python",
   "name": "python3"
  },
  "language_info": {
   "codemirror_mode": {
    "name": "ipython",
    "version": 3
   },
   "file_extension": ".py",
   "mimetype": "text/x-python",
   "name": "python",
   "nbconvert_exporter": "python",
   "pygments_lexer": "ipython3",
   "version": "3.8.3"
  }
 },
 "nbformat": 4,
 "nbformat_minor": 4
}
